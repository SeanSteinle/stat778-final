{
 "cells": [
  {
   "cell_type": "markdown",
   "id": "latter-beverage",
   "metadata": {},
   "source": [
    "# STAT778: Final Project"
   ]
  },
  {
   "cell_type": "code",
   "execution_count": 1,
   "id": "demographic-increase",
   "metadata": {},
   "outputs": [],
   "source": [
    "import numpy as np\n",
    "from numpy.random import uniform, normal, multivariate_normal, exponential\n",
    "import scipy as sc\n",
    "from scipy import stats\n",
    "import pandas as pd\n",
    "import matplotlib.pyplot as plt"
   ]
  },
  {
   "cell_type": "code",
   "execution_count": 2,
   "id": "spare-newton",
   "metadata": {},
   "outputs": [],
   "source": [
    "#it's not quite this. 3.2 does some sort of learning. how?\n",
    "#we're measuring the likelihood (via the pdf) of x given our parameters and the result.\n",
    "#THEN we combine that with our prior.\n",
    "#Then we have a posterior belief about how possible these parameters are given the data we just saw and our prior belief.\n",
    "#now we binarize this belief stochastically! and move onto the next iteration."
   ]
  },
  {
   "cell_type": "markdown",
   "id": "aging-egyptian",
   "metadata": {},
   "source": [
    "## Metropolis-Hastings with a Bayesian Linear Model"
   ]
  },
  {
   "cell_type": "code",
   "execution_count": 251,
   "id": "binary-watch",
   "metadata": {},
   "outputs": [],
   "source": [
    "#metropolis-hastings functions\n",
    "def sample(data: np.ndarray, N: int, B: int, start_theta: tuple, search_breadth: float=0.5):\n",
    "    \"\"\"Takes N samples via the Metropolis-Hastings algorithm, with B burn-in samples.\"\"\"\n",
    "    theta = start_theta\n",
    "    for b in range(B): #burnin samples\n",
    "        results = step(data, theta, search_breadth)\n",
    "        theta = results['theta']\n",
    "    \n",
    "    samples = []\n",
    "    for n in range(N): #real samples\n",
    "        results = step(data, theta, search_breadth)\n",
    "        theta = results['theta']\n",
    "        samples.append(results)\n",
    "    return samples\n",
    "\n",
    "def step(data: np.ndarray, theta: tuple, search_breadth: float):\n",
    "    \"\"\"Takes one step in the Metropolis-Hastings algorithm by generating a new theta and comparing to a given theta.\"\"\"\n",
    "    theta_prime = sample_theta(theta, search_breadth) #sample a new set of parameters\n",
    "    print(f\"sampled theta_prime as: {theta_prime}\")\n",
    "    acceptance_log_prob = calc_acceptance_prob(theta, theta_prime, data, search_breadth) #calculate the probability of acceptance\n",
    "    accepted = np.exp(acceptance_log_prob) >= uniform() #probabilistically determine acceptance \n",
    "    return {'accepted': accepted, 'acceptance_prob': np.exp(acceptance_log_prob), 'theta': theta_prime if accepted else theta} #return results, update theta if samples accepted\n",
    "\n",
    "def sample_theta(theta: tuple, search_breadth: float=1):\n",
    "    \"\"\"Samples theta parameters--slope, intercept, and standard deviation.\"\"\"\n",
    "    a,b,sigma = theta\n",
    "    a,b = multivariate_normal([a,b], [[search_breadth**2,0],[0,search_breadth**2]])\n",
    "    sigma = exponential(sigma*search_breadth)\n",
    "    theta = a,b,sigma\n",
    "    return theta\n",
    "\n",
    "def calc_acceptance_prob(theta: tuple, theta_prime: tuple, data: np.ndarray, search_breadth: float):\n",
    "    \"\"\"Calculates acceptance probability by using a Bayesian linear model.\"\"\"\n",
    "    theta_likelihood = likelihood(theta, data)\n",
    "    theta_prior = prior(theta)\n",
    "    print(f\"theta likelihood: {theta_likelihood}\\ttheta prior: {theta_prior}\")\n",
    "    \n",
    "    theta_p_likelihood = likelihood(theta_prime, data)\n",
    "    theta_p_prior = prior(theta_prime)\n",
    "    print(f\"theta prime likelihood: {theta_p_likelihood}\\ttheta prime prior: {theta_p_prior}\")\n",
    "    \n",
    "    \n",
    "    pr = proposal_ratio(theta, theta_prime, search_breadth)\n",
    "    acceptance_ratio = theta_p_likelihood - theta_likelihood + theta_p_prior - theta_prior + pr\n",
    "    print(f\"proposal ratio: {pr}\")\n",
    "    print(f\"acceptance ratio: {acceptance_ratio}\")\n",
    "    return acceptance_ratio\n",
    "\n",
    "#bayesian functions\n",
    "def likelihood(theta: tuple, data: np.ndarray):\n",
    "    \"\"\"Calculates the likelihood component of our linear model by measuring our parameters theta on the given data.\"\"\"\n",
    "    a,b,sigma = theta\n",
    "    x,y = data[0],data[1]\n",
    "    likelihoods = sc.stats.norm.logpdf(y, loc=a*x+b, scale=sigma) #find the likelihood of a sample given a normal distribution specified by our parameters and the data\n",
    "    return np.sum(likelihoods) #use log likelihood for stability\n",
    "\n",
    "def prior(theta):\n",
    "    \"\"\"Calculates the prior component of our linear model, specified \"\"\"\n",
    "    a,b,sigma = theta\n",
    "    a_prob, b_prob = sc.stats.multivariate_normal.logpdf([a,b]) #cov defaults to 1\n",
    "    sigma_prob = sc.stats.expon.logpdf(sigma)\n",
    "    return np.sum([a_prob,b_prob,sigma_prob])\n",
    "\n",
    "def proposal_ratio(theta: tuple, theta_prime: tuple, search_breadth: float):\n",
    "    \"\"\"Offsets bidirectionality of chained samples.\"\"\"\n",
    "    a,b,sigma = theta\n",
    "    a_p,b_p,sigma_p = theta_prime\n",
    "    old_given_new_ab = sc.stats.multivariate_normal.logpdf([a,b],[a_p,b_p],[[search_breadth**2,0],[0,search_breadth**2]])\n",
    "    old_given_new_sigma = sc.stats.expon.logpdf(sigma, sigma_p, search_breadth)\n",
    "    old_given_new = old_given_new_ab + old_given_new_sigma\n",
    "    \n",
    "    #new_given_old = sc.stats.multivariate_normal.logpdf([a_p,b_p],[a,b])+sc.stats.expon.logpdf(sigma_p)\n",
    "    new_given_old_ab = sc.stats.multivariate_normal.logpdf([a_p,b_p],[a,b],[[search_breadth**2,0],[0,search_breadth**2]])\n",
    "    new_given_old_sigma = sc.stats.expon.logpdf(sigma_p, sigma, search_breadth)\n",
    "    new_given_old = new_given_old_ab - new_given_old_sigma\n",
    "    \n",
    "    print(f\"ogn: {old_given_new}\\tngo: {new_given_old}\")\n",
    "    return old_given_new - new_given_old"
   ]
  },
  {
   "cell_type": "code",
   "execution_count": 252,
   "id": "electronic-rapid",
   "metadata": {},
   "outputs": [
    {
     "name": "stdout",
     "output_type": "stream",
     "text": [
      "sampled theta_prime as: (3.5147093770488924, 0.03477413287923185, 1.3042054663030305)\n",
      "theta likelihood: -27752.538822625815\ttheta prior: -11.837877066409344\n",
      "theta prime likelihood: -40891.554548405686\ttheta prime prior: -9.319278155428833\n",
      "ogn: -1.6234570502070016\tngo: inf\n",
      "proposal ratio: -inf\n",
      "acceptance ratio: -inf\n"
     ]
    },
    {
     "data": {
      "text/plain": [
       "{'accepted': False, 'acceptance_prob': 0.0, 'theta': (4, 0, 2)}"
      ]
     },
     "execution_count": 252,
     "metadata": {},
     "output_type": "execute_result"
    }
   ],
   "source": [
    "X = np.random.rand(10000)\n",
    "Y = np.random.normal(4,2,10000)\n",
    "data = np.vstack((X,Y))\n",
    "step(data,(4,0,2),0.5)"
   ]
  },
  {
   "cell_type": "code",
   "execution_count": 167,
   "id": "connected-boxing",
   "metadata": {},
   "outputs": [
    {
     "data": {
      "text/plain": [
       "0.0"
      ]
     },
     "execution_count": 167,
     "metadata": {},
     "output_type": "execute_result"
    }
   ],
   "source": [
    "proposal_ratio((0,0,1),(0,0,1),0.5)"
   ]
  },
  {
   "cell_type": "code",
   "execution_count": 162,
   "id": "hundred-bradford",
   "metadata": {},
   "outputs": [
    {
     "data": {
      "text/plain": [
       "1.0"
      ]
     },
     "execution_count": 162,
     "metadata": {},
     "output_type": "execute_result"
    }
   ],
   "source": [
    "search_breadth = 1\n",
    "sigma,sigma_p = 0.9,0.9\n",
    "sc.stats.expon.pdf(sigma, sigma_p, search_breadth)"
   ]
  },
  {
   "cell_type": "code",
   "execution_count": 145,
   "id": "imposed-jones",
   "metadata": {},
   "outputs": [
    {
     "data": {
      "text/plain": [
       "0.2931471805599454"
      ]
     },
     "execution_count": 145,
     "metadata": {},
     "output_type": "execute_result"
    }
   ],
   "source": [
    "sc.stats.expon.logpdf(1, 0.8, 0.5)"
   ]
  },
  {
   "cell_type": "code",
   "execution_count": 141,
   "id": "controversial-diversity",
   "metadata": {},
   "outputs": [
    {
     "data": {
      "text/plain": [
       "(5000, 0.0002)"
      ]
     },
     "execution_count": 141,
     "metadata": {},
     "output_type": "execute_result"
    }
   ],
   "source": [
    "sigma_p*search_breadth*500,1/(search_breadth*500)"
   ]
  },
  {
   "cell_type": "code",
   "execution_count": 134,
   "id": "welsh-flour",
   "metadata": {},
   "outputs": [
    {
     "data": {
      "text/plain": [
       "-inf"
      ]
     },
     "execution_count": 134,
     "metadata": {},
     "output_type": "execute_result"
    }
   ],
   "source": [
    "sc.stats.expon.logpdf(sigma, sigma_p*500, 1/(search_breadth*500))"
   ]
  },
  {
   "cell_type": "code",
   "execution_count": 124,
   "id": "great-peter",
   "metadata": {},
   "outputs": [
    {
     "data": {
      "text/plain": [
       "-1.8378770664093453"
      ]
     },
     "execution_count": 124,
     "metadata": {},
     "output_type": "execute_result"
    }
   ],
   "source": [
    "a,b,a_p,b_p = 0,0,0,0\n",
    "search_breadth = 1\n",
    "sc.stats.multivariate_normal.logpdf([a,b],[a_p,b_p])"
   ]
  },
  {
   "cell_type": "code",
   "execution_count": 125,
   "id": "ceramic-heath",
   "metadata": {},
   "outputs": [
    {
     "data": {
      "text/plain": [
       "-1.8378770664093453"
      ]
     },
     "execution_count": 125,
     "metadata": {},
     "output_type": "execute_result"
    }
   ],
   "source": [
    "sc.stats.multivariate_normal.logpdf([a,b],[a_p,b_p],[[search_breadth**2,0],[0,search_breadth**2]])"
   ]
  },
  {
   "cell_type": "code",
   "execution_count": 114,
   "id": "local-transfer",
   "metadata": {},
   "outputs": [
    {
     "data": {
      "text/plain": [
       "-2.8378770664093453"
      ]
     },
     "execution_count": 114,
     "metadata": {},
     "output_type": "execute_result"
    }
   ],
   "source": [
    "proposal_ratio((0,0,1),(0,0,1))"
   ]
  },
  {
   "cell_type": "markdown",
   "id": "loving-metallic",
   "metadata": {},
   "source": [
    "now testing the functions"
   ]
  },
  {
   "cell_type": "code",
   "execution_count": 106,
   "id": "sustainable-thinking",
   "metadata": {},
   "outputs": [],
   "source": [
    "theta = (4,2,1)"
   ]
  },
  {
   "cell_type": "code",
   "execution_count": 107,
   "id": "future-copper",
   "metadata": {},
   "outputs": [
    {
     "data": {
      "text/plain": [
       "(5.32163557524331, 3.2855013471251717, 0.34604251102767586)"
      ]
     },
     "execution_count": 107,
     "metadata": {},
     "output_type": "execute_result"
    }
   ],
   "source": [
    "sample_theta(theta)"
   ]
  },
  {
   "cell_type": "code",
   "execution_count": 108,
   "id": "threaded-tennessee",
   "metadata": {},
   "outputs": [
    {
     "data": {
      "text/plain": [
       "-35945.70898246656"
      ]
     },
     "execution_count": 108,
     "metadata": {},
     "output_type": "execute_result"
    }
   ],
   "source": [
    "X = np.random.rand(10000)\n",
    "Y = np.random.normal(4,2,10000)\n",
    "data = np.vstack((X,Y))\n",
    "likelihood(theta, data)"
   ]
  },
  {
   "cell_type": "code",
   "execution_count": 109,
   "id": "allied-society",
   "metadata": {},
   "outputs": [
    {
     "data": {
      "text/plain": [
       "-12.837877066409344"
      ]
     },
     "execution_count": 109,
     "metadata": {},
     "output_type": "execute_result"
    }
   ],
   "source": [
    "prior(theta)"
   ]
  },
  {
   "cell_type": "code",
   "execution_count": 112,
   "id": "clean-continent",
   "metadata": {},
   "outputs": [
    {
     "data": {
      "text/plain": [
       "0.0"
      ]
     },
     "execution_count": 112,
     "metadata": {},
     "output_type": "execute_result"
    }
   ],
   "source": [
    "proposal_ratio((0,0,1),(0,1,1))"
   ]
  },
  {
   "cell_type": "markdown",
   "id": "operating-obligation",
   "metadata": {},
   "source": [
    "## Zero Case: N(0,1)"
   ]
  },
  {
   "cell_type": "code",
   "execution_count": 30,
   "id": "molecular-major",
   "metadata": {},
   "outputs": [
    {
     "name": "stderr",
     "output_type": "stream",
     "text": [
      "<ipython-input-29-270b72b21154>:39: RuntimeWarning: invalid value encountered in double_scalars\n",
      "  acceptance_ratio = theta_p_likelihood / theta_likelihood * theta_p_prior / theta_prior * proposal_ratio(theta, theta_prime)\n",
      "c:\\users\\seans\\appdata\\local\\programs\\python\\python38\\lib\\site-packages\\scipy\\stats\\_continuous_distns.py:243: RuntimeWarning: overflow encountered in square\n",
      "  return np.exp(-x**2/2.0) / _norm_pdf_C\n",
      "c:\\users\\seans\\appdata\\local\\programs\\python\\python38\\lib\\site-packages\\scipy\\stats\\_distn_infrastructure.py:1835: RuntimeWarning: overflow encountered in true_divide\n",
      "  x = np.asarray((x - loc)/scale, dtype=dtyp)\n",
      "c:\\users\\seans\\appdata\\local\\programs\\python\\python38\\lib\\site-packages\\scipy\\stats\\_distn_infrastructure.py:1835: RuntimeWarning: divide by zero encountered in true_divide\n",
      "  x = np.asarray((x - loc)/scale, dtype=dtyp)\n"
     ]
    }
   ],
   "source": [
    "X = np.random.rand(10000)\n",
    "Y = np.random.normal(0,1,10000)\n",
    "data = np.vstack((X,Y))\n",
    "samples = sample(data, 30000, 0, (0,0,1), 1)\n",
    "df = pd.DataFrame(samples)\n",
    "df[['a','b','sigma']] = pd.DataFrame(df['theta'].tolist(), index=df.index)\n",
    "df = df.drop(['theta'], axis=1)"
   ]
  },
  {
   "cell_type": "code",
   "execution_count": 31,
   "id": "unusual-necessity",
   "metadata": {},
   "outputs": [
    {
     "data": {
      "text/plain": [
       "Text(0.5, 1.0, 'The Data')"
      ]
     },
     "execution_count": 31,
     "metadata": {},
     "output_type": "execute_result"
    },
    {
     "data": {
      "image/png": "[encoded data removed]",
      "text/plain": [
       "<Figure size 432x288 with 1 Axes>"
      ]
     },
     "metadata": {
      "needs_background": "light"
     },
     "output_type": "display_data"
    }
   ],
   "source": [
    "plt.scatter(X,Y)\n",
    "plt.xlabel(\"X\")\n",
    "plt.ylabel(\"Y\")\n",
    "plt.title(\"The Data\")"
   ]
  },
  {
   "cell_type": "code",
   "execution_count": 32,
   "id": "packed-blind",
   "metadata": {},
   "outputs": [
    {
     "data": {
      "text/html": [
       "<div>\n",
       "<style scoped>\n",
       "    .dataframe tbody tr th:only-of-type {\n",
       "        vertical-align: middle;\n",
       "    }\n",
       "\n",
       "    .dataframe tbody tr th {\n",
       "        vertical-align: top;\n",
       "    }\n",
       "\n",
       "    .dataframe thead th {\n",
       "        text-align: right;\n",
       "    }\n",
       "</style>\n",
       "<table border=\"1\" class=\"dataframe\">\n",
       "  <thead>\n",
       "    <tr style=\"text-align: right;\">\n",
       "      <th></th>\n",
       "      <th>accepted</th>\n",
       "      <th>acceptance_prob</th>\n",
       "      <th>a</th>\n",
       "      <th>b</th>\n",
       "      <th>sigma</th>\n",
       "    </tr>\n",
       "  </thead>\n",
       "  <tbody>\n",
       "    <tr>\n",
       "      <th>0</th>\n",
       "      <td>True</td>\n",
       "      <td>1</td>\n",
       "      <td>2.141490</td>\n",
       "      <td>0.660475</td>\n",
       "      <td>1.030313</td>\n",
       "    </tr>\n",
       "    <tr>\n",
       "      <th>1</th>\n",
       "      <td>True</td>\n",
       "      <td>1</td>\n",
       "      <td>1.659474</td>\n",
       "      <td>1.588487</td>\n",
       "      <td>0.765361</td>\n",
       "    </tr>\n",
       "    <tr>\n",
       "      <th>2</th>\n",
       "      <td>True</td>\n",
       "      <td>1</td>\n",
       "      <td>3.127941</td>\n",
       "      <td>2.183376</td>\n",
       "      <td>1.389618</td>\n",
       "    </tr>\n",
       "    <tr>\n",
       "      <th>3</th>\n",
       "      <td>True</td>\n",
       "      <td>1</td>\n",
       "      <td>2.110173</td>\n",
       "      <td>1.758830</td>\n",
       "      <td>0.204768</td>\n",
       "    </tr>\n",
       "    <tr>\n",
       "      <th>4</th>\n",
       "      <td>True</td>\n",
       "      <td>1</td>\n",
       "      <td>2.935851</td>\n",
       "      <td>3.778255</td>\n",
       "      <td>0.116450</td>\n",
       "    </tr>\n",
       "    <tr>\n",
       "      <th>...</th>\n",
       "      <td>...</td>\n",
       "      <td>...</td>\n",
       "      <td>...</td>\n",
       "      <td>...</td>\n",
       "      <td>...</td>\n",
       "    </tr>\n",
       "    <tr>\n",
       "      <th>29995</th>\n",
       "      <td>True</td>\n",
       "      <td>1</td>\n",
       "      <td>-390.882708</td>\n",
       "      <td>87.669942</td>\n",
       "      <td>0.000000</td>\n",
       "    </tr>\n",
       "    <tr>\n",
       "      <th>29996</th>\n",
       "      <td>True</td>\n",
       "      <td>1</td>\n",
       "      <td>-388.364193</td>\n",
       "      <td>89.483950</td>\n",
       "      <td>0.000000</td>\n",
       "    </tr>\n",
       "    <tr>\n",
       "      <th>29997</th>\n",
       "      <td>True</td>\n",
       "      <td>1</td>\n",
       "      <td>-389.157469</td>\n",
       "      <td>90.931026</td>\n",
       "      <td>0.000000</td>\n",
       "    </tr>\n",
       "    <tr>\n",
       "      <th>29998</th>\n",
       "      <td>True</td>\n",
       "      <td>1</td>\n",
       "      <td>-389.865923</td>\n",
       "      <td>91.069570</td>\n",
       "      <td>0.000000</td>\n",
       "    </tr>\n",
       "    <tr>\n",
       "      <th>29999</th>\n",
       "      <td>True</td>\n",
       "      <td>1</td>\n",
       "      <td>-389.636143</td>\n",
       "      <td>92.394873</td>\n",
       "      <td>0.000000</td>\n",
       "    </tr>\n",
       "  </tbody>\n",
       "</table>\n",
       "<p>30000 rows × 5 columns</p>\n",
       "</div>"
      ],
      "text/plain": [
       "       accepted  acceptance_prob           a          b     sigma\n",
       "0          True                1    2.141490   0.660475  1.030313\n",
       "1          True                1    1.659474   1.588487  0.765361\n",
       "2          True                1    3.127941   2.183376  1.389618\n",
       "3          True                1    2.110173   1.758830  0.204768\n",
       "4          True                1    2.935851   3.778255  0.116450\n",
       "...         ...              ...         ...        ...       ...\n",
       "29995      True                1 -390.882708  87.669942  0.000000\n",
       "29996      True                1 -388.364193  89.483950  0.000000\n",
       "29997      True                1 -389.157469  90.931026  0.000000\n",
       "29998      True                1 -389.865923  91.069570  0.000000\n",
       "29999      True                1 -389.636143  92.394873  0.000000\n",
       "\n",
       "[30000 rows x 5 columns]"
      ]
     },
     "execution_count": 32,
     "metadata": {},
     "output_type": "execute_result"
    }
   ],
   "source": [
    "df"
   ]
  },
  {
   "cell_type": "code",
   "execution_count": 33,
   "id": "pleased-necessity",
   "metadata": {},
   "outputs": [
    {
     "data": {
      "text/plain": [
       "<matplotlib.legend.Legend at 0x285bc751ca0>"
      ]
     },
     "execution_count": 33,
     "metadata": {},
     "output_type": "execute_result"
    },
    {
     "data": {
      "image/png": "[encoded data removed]",
      "text/plain": [
       "<Figure size 432x288 with 1 Axes>"
      ]
     },
     "metadata": {
      "needs_background": "light"
     },
     "output_type": "display_data"
    }
   ],
   "source": [
    "plt.plot(range(len(df)),df['a'], label='slope')\n",
    "plt.plot(range(len(df)),df['b'], label='intercept')\n",
    "plt.plot(range(len(df)),df['sigma'], label='variance')\n",
    "plt.plot(range(len(df)),df['acceptance_prob'], label='accept_prob')\n",
    "plt.xlabel(\"Time Steps\")\n",
    "plt.ylabel(\"Values\")\n",
    "plt.legend()"
   ]
  },
  {
   "cell_type": "code",
   "execution_count": 34,
   "id": "mathematical-performance",
   "metadata": {},
   "outputs": [
    {
     "data": {
      "text/plain": [
       "<matplotlib.legend.Legend at 0x285ba29c670>"
      ]
     },
     "execution_count": 34,
     "metadata": {},
     "output_type": "execute_result"
    },
    {
     "data": {
      "image/png": "[encoded data removed]",
      "text/plain": [
       "<Figure size 432x288 with 1 Axes>"
      ]
     },
     "metadata": {
      "needs_background": "light"
     },
     "output_type": "display_data"
    }
   ],
   "source": [
    "plt.plot(range(len(df)),df['acceptance_prob'], label='accept_prob')\n",
    "plt.xlabel(\"Time Steps\")\n",
    "plt.ylabel(\"Values\")\n",
    "plt.legend()"
   ]
  },
  {
   "cell_type": "markdown",
   "id": "placed-bookmark",
   "metadata": {},
   "source": [
    "## Nonzero Case: N(4,2)"
   ]
  },
  {
   "cell_type": "code",
   "execution_count": 47,
   "id": "interpreted-price",
   "metadata": {},
   "outputs": [
    {
     "name": "stderr",
     "output_type": "stream",
     "text": [
      "<ipython-input-29-270b72b21154>:39: RuntimeWarning: invalid value encountered in double_scalars\n",
      "  acceptance_ratio = theta_p_likelihood / theta_likelihood * theta_p_prior / theta_prior * proposal_ratio(theta, theta_prime)\n",
      "c:\\users\\seans\\appdata\\local\\programs\\python\\python38\\lib\\site-packages\\scipy\\stats\\_continuous_distns.py:243: RuntimeWarning: overflow encountered in square\n",
      "  return np.exp(-x**2/2.0) / _norm_pdf_C\n",
      "c:\\users\\seans\\appdata\\local\\programs\\python\\python38\\lib\\site-packages\\scipy\\stats\\_distn_infrastructure.py:1835: RuntimeWarning: overflow encountered in true_divide\n",
      "  x = np.asarray((x - loc)/scale, dtype=dtyp)\n",
      "c:\\users\\seans\\appdata\\local\\programs\\python\\python38\\lib\\site-packages\\scipy\\stats\\_distn_infrastructure.py:1835: RuntimeWarning: divide by zero encountered in true_divide\n",
      "  x = np.asarray((x - loc)/scale, dtype=dtyp)\n"
     ]
    }
   ],
   "source": [
    "X = np.random.rand(10000)\n",
    "Y = np.random.normal(4,2,10000)\n",
    "data = np.vstack((X,Y))\n",
    "samples = sample(data, 30000, 0, (0,0,1), 0.5)\n",
    "df = pd.DataFrame(samples)\n",
    "df[['a','b','sigma']] = pd.DataFrame(df['theta'].tolist(), index=df.index)\n",
    "df = df.drop(['theta'], axis=1)"
   ]
  },
  {
   "cell_type": "code",
   "execution_count": 48,
   "id": "velvet-given",
   "metadata": {},
   "outputs": [
    {
     "data": {
      "text/plain": [
       "Text(0.5, 1.0, 'The Data')"
      ]
     },
     "execution_count": 48,
     "metadata": {},
     "output_type": "execute_result"
    },
    {
     "data": {
      "image/png": "[encoded data removed]",
      "text/plain": [
       "<Figure size 432x288 with 1 Axes>"
      ]
     },
     "metadata": {
      "needs_background": "light"
     },
     "output_type": "display_data"
    }
   ],
   "source": [
    "plt.scatter(X,Y)\n",
    "plt.xlabel(\"X\")\n",
    "plt.ylabel(\"Y\")\n",
    "plt.title(\"The Data\")"
   ]
  },
  {
   "cell_type": "code",
   "execution_count": 49,
   "id": "extra-exhibition",
   "metadata": {},
   "outputs": [
    {
     "data": {
      "text/html": [
       "<div>\n",
       "<style scoped>\n",
       "    .dataframe tbody tr th:only-of-type {\n",
       "        vertical-align: middle;\n",
       "    }\n",
       "\n",
       "    .dataframe tbody tr th {\n",
       "        vertical-align: top;\n",
       "    }\n",
       "\n",
       "    .dataframe thead th {\n",
       "        text-align: right;\n",
       "    }\n",
       "</style>\n",
       "<table border=\"1\" class=\"dataframe\">\n",
       "  <thead>\n",
       "    <tr style=\"text-align: right;\">\n",
       "      <th></th>\n",
       "      <th>accepted</th>\n",
       "      <th>acceptance_prob</th>\n",
       "      <th>a</th>\n",
       "      <th>b</th>\n",
       "      <th>sigma</th>\n",
       "    </tr>\n",
       "  </thead>\n",
       "  <tbody>\n",
       "    <tr>\n",
       "      <th>0</th>\n",
       "      <td>True</td>\n",
       "      <td>1</td>\n",
       "      <td>-0.079643</td>\n",
       "      <td>0.157989</td>\n",
       "      <td>8.639905e-02</td>\n",
       "    </tr>\n",
       "    <tr>\n",
       "      <th>1</th>\n",
       "      <td>True</td>\n",
       "      <td>1</td>\n",
       "      <td>-0.160485</td>\n",
       "      <td>0.204024</td>\n",
       "      <td>6.811038e-04</td>\n",
       "    </tr>\n",
       "    <tr>\n",
       "      <th>2</th>\n",
       "      <td>True</td>\n",
       "      <td>1</td>\n",
       "      <td>-0.119418</td>\n",
       "      <td>0.188725</td>\n",
       "      <td>5.036022e-06</td>\n",
       "    </tr>\n",
       "    <tr>\n",
       "      <th>3</th>\n",
       "      <td>True</td>\n",
       "      <td>1</td>\n",
       "      <td>-0.153117</td>\n",
       "      <td>0.161941</td>\n",
       "      <td>1.983162e-07</td>\n",
       "    </tr>\n",
       "    <tr>\n",
       "      <th>4</th>\n",
       "      <td>True</td>\n",
       "      <td>1</td>\n",
       "      <td>-0.119642</td>\n",
       "      <td>0.146090</td>\n",
       "      <td>3.080873e-08</td>\n",
       "    </tr>\n",
       "    <tr>\n",
       "      <th>...</th>\n",
       "      <td>...</td>\n",
       "      <td>...</td>\n",
       "      <td>...</td>\n",
       "      <td>...</td>\n",
       "      <td>...</td>\n",
       "    </tr>\n",
       "    <tr>\n",
       "      <th>29995</th>\n",
       "      <td>True</td>\n",
       "      <td>1</td>\n",
       "      <td>-6.207670</td>\n",
       "      <td>8.778717</td>\n",
       "      <td>0.000000e+00</td>\n",
       "    </tr>\n",
       "    <tr>\n",
       "      <th>29996</th>\n",
       "      <td>True</td>\n",
       "      <td>1</td>\n",
       "      <td>-6.167303</td>\n",
       "      <td>8.767717</td>\n",
       "      <td>0.000000e+00</td>\n",
       "    </tr>\n",
       "    <tr>\n",
       "      <th>29997</th>\n",
       "      <td>True</td>\n",
       "      <td>1</td>\n",
       "      <td>-6.185147</td>\n",
       "      <td>8.693212</td>\n",
       "      <td>0.000000e+00</td>\n",
       "    </tr>\n",
       "    <tr>\n",
       "      <th>29998</th>\n",
       "      <td>True</td>\n",
       "      <td>1</td>\n",
       "      <td>-6.186158</td>\n",
       "      <td>8.782104</td>\n",
       "      <td>0.000000e+00</td>\n",
       "    </tr>\n",
       "    <tr>\n",
       "      <th>29999</th>\n",
       "      <td>True</td>\n",
       "      <td>1</td>\n",
       "      <td>-6.202530</td>\n",
       "      <td>8.783926</td>\n",
       "      <td>0.000000e+00</td>\n",
       "    </tr>\n",
       "  </tbody>\n",
       "</table>\n",
       "<p>30000 rows × 5 columns</p>\n",
       "</div>"
      ],
      "text/plain": [
       "       accepted  acceptance_prob         a         b         sigma\n",
       "0          True                1 -0.079643  0.157989  8.639905e-02\n",
       "1          True                1 -0.160485  0.204024  6.811038e-04\n",
       "2          True                1 -0.119418  0.188725  5.036022e-06\n",
       "3          True                1 -0.153117  0.161941  1.983162e-07\n",
       "4          True                1 -0.119642  0.146090  3.080873e-08\n",
       "...         ...              ...       ...       ...           ...\n",
       "29995      True                1 -6.207670  8.778717  0.000000e+00\n",
       "29996      True                1 -6.167303  8.767717  0.000000e+00\n",
       "29997      True                1 -6.185147  8.693212  0.000000e+00\n",
       "29998      True                1 -6.186158  8.782104  0.000000e+00\n",
       "29999      True                1 -6.202530  8.783926  0.000000e+00\n",
       "\n",
       "[30000 rows x 5 columns]"
      ]
     },
     "execution_count": 49,
     "metadata": {},
     "output_type": "execute_result"
    }
   ],
   "source": [
    "df\n",
    "#it accepts every single one?\n",
    "#does it arrive to the right parameters?\n",
    "#effect of changing starting point?"
   ]
  },
  {
   "cell_type": "code",
   "execution_count": 50,
   "id": "important-situation",
   "metadata": {},
   "outputs": [
    {
     "data": {
      "text/plain": [
       "<matplotlib.legend.Legend at 0x285b98a6400>"
      ]
     },
     "execution_count": 50,
     "metadata": {},
     "output_type": "execute_result"
    },
    {
     "data": {
      "image/png": "[encoded data removed]",
      "text/plain": [
       "<Figure size 432x288 with 1 Axes>"
      ]
     },
     "metadata": {
      "needs_background": "light"
     },
     "output_type": "display_data"
    }
   ],
   "source": [
    "plt.plot(range(len(df)),df['a'], label='slope')\n",
    "plt.plot(range(len(df)),df['b'], label='intercept')\n",
    "plt.plot(range(len(df)),df['sigma'], label='variance')\n",
    "plt.plot(range(len(df)),df['acceptance_prob'], label='accept_prob')\n",
    "plt.xlabel(\"Time Steps\")\n",
    "plt.ylabel(\"Values\")\n",
    "plt.legend()"
   ]
  },
  {
   "cell_type": "code",
   "execution_count": 51,
   "id": "appointed-tonight",
   "metadata": {},
   "outputs": [
    {
     "data": {
      "text/plain": [
       "<matplotlib.legend.Legend at 0x285bd880370>"
      ]
     },
     "execution_count": 51,
     "metadata": {},
     "output_type": "execute_result"
    },
    {
     "data": {
      "image/png": "[encoded data removed]",
      "text/plain": [
       "<Figure size 432x288 with 1 Axes>"
      ]
     },
     "metadata": {
      "needs_background": "light"
     },
     "output_type": "display_data"
    }
   ],
   "source": [
    "plt.plot(range(len(df)),df['acceptance_prob'], label='accept_prob')\n",
    "plt.xlabel(\"Time Steps\")\n",
    "plt.ylabel(\"Values\")\n",
    "plt.legend()"
   ]
  },
  {
   "cell_type": "code",
   "execution_count": 52,
   "id": "exclusive-tonight",
   "metadata": {},
   "outputs": [
    {
     "data": {
      "text/html": [
       "<div>\n",
       "<style scoped>\n",
       "    .dataframe tbody tr th:only-of-type {\n",
       "        vertical-align: middle;\n",
       "    }\n",
       "\n",
       "    .dataframe tbody tr th {\n",
       "        vertical-align: top;\n",
       "    }\n",
       "\n",
       "    .dataframe thead th {\n",
       "        text-align: right;\n",
       "    }\n",
       "</style>\n",
       "<table border=\"1\" class=\"dataframe\">\n",
       "  <thead>\n",
       "    <tr style=\"text-align: right;\">\n",
       "      <th></th>\n",
       "      <th>accepted</th>\n",
       "      <th>acceptance_prob</th>\n",
       "      <th>a</th>\n",
       "      <th>b</th>\n",
       "      <th>sigma</th>\n",
       "    </tr>\n",
       "  </thead>\n",
       "  <tbody>\n",
       "    <tr>\n",
       "      <th>0</th>\n",
       "      <td>True</td>\n",
       "      <td>1</td>\n",
       "      <td>-0.079643</td>\n",
       "      <td>0.157989</td>\n",
       "      <td>8.639905e-02</td>\n",
       "    </tr>\n",
       "    <tr>\n",
       "      <th>1</th>\n",
       "      <td>True</td>\n",
       "      <td>1</td>\n",
       "      <td>-0.160485</td>\n",
       "      <td>0.204024</td>\n",
       "      <td>6.811038e-04</td>\n",
       "    </tr>\n",
       "    <tr>\n",
       "      <th>2</th>\n",
       "      <td>True</td>\n",
       "      <td>1</td>\n",
       "      <td>-0.119418</td>\n",
       "      <td>0.188725</td>\n",
       "      <td>5.036022e-06</td>\n",
       "    </tr>\n",
       "    <tr>\n",
       "      <th>3</th>\n",
       "      <td>True</td>\n",
       "      <td>1</td>\n",
       "      <td>-0.153117</td>\n",
       "      <td>0.161941</td>\n",
       "      <td>1.983162e-07</td>\n",
       "    </tr>\n",
       "    <tr>\n",
       "      <th>4</th>\n",
       "      <td>True</td>\n",
       "      <td>1</td>\n",
       "      <td>-0.119642</td>\n",
       "      <td>0.146090</td>\n",
       "      <td>3.080873e-08</td>\n",
       "    </tr>\n",
       "    <tr>\n",
       "      <th>5</th>\n",
       "      <td>True</td>\n",
       "      <td>1</td>\n",
       "      <td>-0.087926</td>\n",
       "      <td>0.185331</td>\n",
       "      <td>3.955072e-10</td>\n",
       "    </tr>\n",
       "    <tr>\n",
       "      <th>6</th>\n",
       "      <td>True</td>\n",
       "      <td>1</td>\n",
       "      <td>0.072829</td>\n",
       "      <td>0.190390</td>\n",
       "      <td>7.158080e-12</td>\n",
       "    </tr>\n",
       "    <tr>\n",
       "      <th>7</th>\n",
       "      <td>True</td>\n",
       "      <td>1</td>\n",
       "      <td>0.076807</td>\n",
       "      <td>0.284888</td>\n",
       "      <td>2.674381e-13</td>\n",
       "    </tr>\n",
       "    <tr>\n",
       "      <th>8</th>\n",
       "      <td>True</td>\n",
       "      <td>1</td>\n",
       "      <td>0.074618</td>\n",
       "      <td>0.223959</td>\n",
       "      <td>4.406620e-14</td>\n",
       "    </tr>\n",
       "    <tr>\n",
       "      <th>9</th>\n",
       "      <td>True</td>\n",
       "      <td>1</td>\n",
       "      <td>0.045821</td>\n",
       "      <td>0.218420</td>\n",
       "      <td>2.940932e-15</td>\n",
       "    </tr>\n",
       "    <tr>\n",
       "      <th>10</th>\n",
       "      <td>True</td>\n",
       "      <td>1</td>\n",
       "      <td>0.023567</td>\n",
       "      <td>0.145766</td>\n",
       "      <td>1.278248e-16</td>\n",
       "    </tr>\n",
       "    <tr>\n",
       "      <th>11</th>\n",
       "      <td>True</td>\n",
       "      <td>1</td>\n",
       "      <td>-0.010107</td>\n",
       "      <td>0.223986</td>\n",
       "      <td>5.082475e-18</td>\n",
       "    </tr>\n",
       "    <tr>\n",
       "      <th>12</th>\n",
       "      <td>True</td>\n",
       "      <td>1</td>\n",
       "      <td>-0.001686</td>\n",
       "      <td>0.163763</td>\n",
       "      <td>6.522020e-19</td>\n",
       "    </tr>\n",
       "    <tr>\n",
       "      <th>13</th>\n",
       "      <td>True</td>\n",
       "      <td>1</td>\n",
       "      <td>-0.097701</td>\n",
       "      <td>0.203311</td>\n",
       "      <td>3.506989e-21</td>\n",
       "    </tr>\n",
       "    <tr>\n",
       "      <th>14</th>\n",
       "      <td>True</td>\n",
       "      <td>1</td>\n",
       "      <td>-0.134512</td>\n",
       "      <td>0.331689</td>\n",
       "      <td>3.634806e-23</td>\n",
       "    </tr>\n",
       "    <tr>\n",
       "      <th>15</th>\n",
       "      <td>True</td>\n",
       "      <td>1</td>\n",
       "      <td>-0.040662</td>\n",
       "      <td>0.333333</td>\n",
       "      <td>8.233855e-25</td>\n",
       "    </tr>\n",
       "    <tr>\n",
       "      <th>16</th>\n",
       "      <td>True</td>\n",
       "      <td>1</td>\n",
       "      <td>-0.061957</td>\n",
       "      <td>0.247297</td>\n",
       "      <td>1.206033e-25</td>\n",
       "    </tr>\n",
       "    <tr>\n",
       "      <th>17</th>\n",
       "      <td>True</td>\n",
       "      <td>1</td>\n",
       "      <td>-0.027727</td>\n",
       "      <td>0.289069</td>\n",
       "      <td>1.086188e-26</td>\n",
       "    </tr>\n",
       "    <tr>\n",
       "      <th>18</th>\n",
       "      <td>True</td>\n",
       "      <td>1</td>\n",
       "      <td>-0.038336</td>\n",
       "      <td>0.248912</td>\n",
       "      <td>1.164946e-28</td>\n",
       "    </tr>\n",
       "    <tr>\n",
       "      <th>19</th>\n",
       "      <td>True</td>\n",
       "      <td>1</td>\n",
       "      <td>0.019061</td>\n",
       "      <td>0.341030</td>\n",
       "      <td>6.614101e-33</td>\n",
       "    </tr>\n",
       "    <tr>\n",
       "      <th>20</th>\n",
       "      <td>True</td>\n",
       "      <td>1</td>\n",
       "      <td>0.050849</td>\n",
       "      <td>0.211481</td>\n",
       "      <td>4.152134e-35</td>\n",
       "    </tr>\n",
       "    <tr>\n",
       "      <th>21</th>\n",
       "      <td>True</td>\n",
       "      <td>1</td>\n",
       "      <td>0.010511</td>\n",
       "      <td>0.112137</td>\n",
       "      <td>5.267084e-36</td>\n",
       "    </tr>\n",
       "    <tr>\n",
       "      <th>22</th>\n",
       "      <td>True</td>\n",
       "      <td>1</td>\n",
       "      <td>0.042748</td>\n",
       "      <td>0.095869</td>\n",
       "      <td>3.582405e-37</td>\n",
       "    </tr>\n",
       "    <tr>\n",
       "      <th>23</th>\n",
       "      <td>True</td>\n",
       "      <td>1</td>\n",
       "      <td>0.129369</td>\n",
       "      <td>0.130564</td>\n",
       "      <td>5.363343e-39</td>\n",
       "    </tr>\n",
       "    <tr>\n",
       "      <th>24</th>\n",
       "      <td>True</td>\n",
       "      <td>1</td>\n",
       "      <td>0.193837</td>\n",
       "      <td>0.084946</td>\n",
       "      <td>1.670747e-40</td>\n",
       "    </tr>\n",
       "    <tr>\n",
       "      <th>25</th>\n",
       "      <td>True</td>\n",
       "      <td>1</td>\n",
       "      <td>0.268267</td>\n",
       "      <td>0.102425</td>\n",
       "      <td>1.305374e-41</td>\n",
       "    </tr>\n",
       "    <tr>\n",
       "      <th>26</th>\n",
       "      <td>True</td>\n",
       "      <td>1</td>\n",
       "      <td>0.322490</td>\n",
       "      <td>0.120128</td>\n",
       "      <td>1.009015e-42</td>\n",
       "    </tr>\n",
       "    <tr>\n",
       "      <th>27</th>\n",
       "      <td>True</td>\n",
       "      <td>1</td>\n",
       "      <td>0.302942</td>\n",
       "      <td>0.139301</td>\n",
       "      <td>1.407793e-44</td>\n",
       "    </tr>\n",
       "    <tr>\n",
       "      <th>28</th>\n",
       "      <td>True</td>\n",
       "      <td>1</td>\n",
       "      <td>0.238541</td>\n",
       "      <td>0.140204</td>\n",
       "      <td>7.158984e-46</td>\n",
       "    </tr>\n",
       "    <tr>\n",
       "      <th>29</th>\n",
       "      <td>True</td>\n",
       "      <td>1</td>\n",
       "      <td>0.311186</td>\n",
       "      <td>0.153972</td>\n",
       "      <td>1.603914e-47</td>\n",
       "    </tr>\n",
       "    <tr>\n",
       "      <th>30</th>\n",
       "      <td>True</td>\n",
       "      <td>1</td>\n",
       "      <td>0.287582</td>\n",
       "      <td>0.167459</td>\n",
       "      <td>1.308510e-48</td>\n",
       "    </tr>\n",
       "    <tr>\n",
       "      <th>31</th>\n",
       "      <td>True</td>\n",
       "      <td>1</td>\n",
       "      <td>0.298392</td>\n",
       "      <td>0.124785</td>\n",
       "      <td>1.532079e-50</td>\n",
       "    </tr>\n",
       "    <tr>\n",
       "      <th>32</th>\n",
       "      <td>True</td>\n",
       "      <td>1</td>\n",
       "      <td>0.327051</td>\n",
       "      <td>0.125073</td>\n",
       "      <td>9.094970e-52</td>\n",
       "    </tr>\n",
       "    <tr>\n",
       "      <th>33</th>\n",
       "      <td>True</td>\n",
       "      <td>1</td>\n",
       "      <td>0.305389</td>\n",
       "      <td>0.119973</td>\n",
       "      <td>5.256110e-53</td>\n",
       "    </tr>\n",
       "    <tr>\n",
       "      <th>34</th>\n",
       "      <td>True</td>\n",
       "      <td>1</td>\n",
       "      <td>0.268730</td>\n",
       "      <td>0.094820</td>\n",
       "      <td>2.752317e-54</td>\n",
       "    </tr>\n",
       "    <tr>\n",
       "      <th>35</th>\n",
       "      <td>True</td>\n",
       "      <td>1</td>\n",
       "      <td>0.290488</td>\n",
       "      <td>0.100180</td>\n",
       "      <td>9.780500e-56</td>\n",
       "    </tr>\n",
       "    <tr>\n",
       "      <th>36</th>\n",
       "      <td>True</td>\n",
       "      <td>1</td>\n",
       "      <td>0.388075</td>\n",
       "      <td>0.111968</td>\n",
       "      <td>1.955404e-57</td>\n",
       "    </tr>\n",
       "    <tr>\n",
       "      <th>37</th>\n",
       "      <td>True</td>\n",
       "      <td>1</td>\n",
       "      <td>0.406265</td>\n",
       "      <td>0.153503</td>\n",
       "      <td>1.069331e-58</td>\n",
       "    </tr>\n",
       "    <tr>\n",
       "      <th>38</th>\n",
       "      <td>True</td>\n",
       "      <td>1</td>\n",
       "      <td>0.461407</td>\n",
       "      <td>0.195443</td>\n",
       "      <td>3.981274e-60</td>\n",
       "    </tr>\n",
       "    <tr>\n",
       "      <th>39</th>\n",
       "      <td>True</td>\n",
       "      <td>1</td>\n",
       "      <td>0.457755</td>\n",
       "      <td>0.164917</td>\n",
       "      <td>1.093376e-61</td>\n",
       "    </tr>\n",
       "    <tr>\n",
       "      <th>40</th>\n",
       "      <td>True</td>\n",
       "      <td>1</td>\n",
       "      <td>0.545418</td>\n",
       "      <td>0.021910</td>\n",
       "      <td>1.174315e-63</td>\n",
       "    </tr>\n",
       "    <tr>\n",
       "      <th>41</th>\n",
       "      <td>True</td>\n",
       "      <td>1</td>\n",
       "      <td>0.566807</td>\n",
       "      <td>-0.015327</td>\n",
       "      <td>6.929349e-66</td>\n",
       "    </tr>\n",
       "    <tr>\n",
       "      <th>42</th>\n",
       "      <td>True</td>\n",
       "      <td>1</td>\n",
       "      <td>0.590420</td>\n",
       "      <td>0.024922</td>\n",
       "      <td>7.588865e-67</td>\n",
       "    </tr>\n",
       "    <tr>\n",
       "      <th>43</th>\n",
       "      <td>True</td>\n",
       "      <td>1</td>\n",
       "      <td>0.565296</td>\n",
       "      <td>-0.029951</td>\n",
       "      <td>2.182634e-69</td>\n",
       "    </tr>\n",
       "    <tr>\n",
       "      <th>44</th>\n",
       "      <td>True</td>\n",
       "      <td>1</td>\n",
       "      <td>0.552566</td>\n",
       "      <td>0.010909</td>\n",
       "      <td>7.506841e-71</td>\n",
       "    </tr>\n",
       "    <tr>\n",
       "      <th>45</th>\n",
       "      <td>True</td>\n",
       "      <td>1</td>\n",
       "      <td>0.547582</td>\n",
       "      <td>0.058193</td>\n",
       "      <td>7.194403e-73</td>\n",
       "    </tr>\n",
       "    <tr>\n",
       "      <th>46</th>\n",
       "      <td>True</td>\n",
       "      <td>1</td>\n",
       "      <td>0.539807</td>\n",
       "      <td>0.092335</td>\n",
       "      <td>1.479175e-74</td>\n",
       "    </tr>\n",
       "    <tr>\n",
       "      <th>47</th>\n",
       "      <td>True</td>\n",
       "      <td>1</td>\n",
       "      <td>0.495914</td>\n",
       "      <td>0.097637</td>\n",
       "      <td>2.252312e-76</td>\n",
       "    </tr>\n",
       "    <tr>\n",
       "      <th>48</th>\n",
       "      <td>True</td>\n",
       "      <td>1</td>\n",
       "      <td>0.501766</td>\n",
       "      <td>0.121557</td>\n",
       "      <td>1.437109e-77</td>\n",
       "    </tr>\n",
       "    <tr>\n",
       "      <th>49</th>\n",
       "      <td>True</td>\n",
       "      <td>1</td>\n",
       "      <td>0.390612</td>\n",
       "      <td>0.049443</td>\n",
       "      <td>2.008879e-78</td>\n",
       "    </tr>\n",
       "  </tbody>\n",
       "</table>\n",
       "</div>"
      ],
      "text/plain": [
       "    accepted  acceptance_prob         a         b         sigma\n",
       "0       True                1 -0.079643  0.157989  8.639905e-02\n",
       "1       True                1 -0.160485  0.204024  6.811038e-04\n",
       "2       True                1 -0.119418  0.188725  5.036022e-06\n",
       "3       True                1 -0.153117  0.161941  1.983162e-07\n",
       "4       True                1 -0.119642  0.146090  3.080873e-08\n",
       "5       True                1 -0.087926  0.185331  3.955072e-10\n",
       "6       True                1  0.072829  0.190390  7.158080e-12\n",
       "7       True                1  0.076807  0.284888  2.674381e-13\n",
       "8       True                1  0.074618  0.223959  4.406620e-14\n",
       "9       True                1  0.045821  0.218420  2.940932e-15\n",
       "10      True                1  0.023567  0.145766  1.278248e-16\n",
       "11      True                1 -0.010107  0.223986  5.082475e-18\n",
       "12      True                1 -0.001686  0.163763  6.522020e-19\n",
       "13      True                1 -0.097701  0.203311  3.506989e-21\n",
       "14      True                1 -0.134512  0.331689  3.634806e-23\n",
       "15      True                1 -0.040662  0.333333  8.233855e-25\n",
       "16      True                1 -0.061957  0.247297  1.206033e-25\n",
       "17      True                1 -0.027727  0.289069  1.086188e-26\n",
       "18      True                1 -0.038336  0.248912  1.164946e-28\n",
       "19      True                1  0.019061  0.341030  6.614101e-33\n",
       "20      True                1  0.050849  0.211481  4.152134e-35\n",
       "21      True                1  0.010511  0.112137  5.267084e-36\n",
       "22      True                1  0.042748  0.095869  3.582405e-37\n",
       "23      True                1  0.129369  0.130564  5.363343e-39\n",
       "24      True                1  0.193837  0.084946  1.670747e-40\n",
       "25      True                1  0.268267  0.102425  1.305374e-41\n",
       "26      True                1  0.322490  0.120128  1.009015e-42\n",
       "27      True                1  0.302942  0.139301  1.407793e-44\n",
       "28      True                1  0.238541  0.140204  7.158984e-46\n",
       "29      True                1  0.311186  0.153972  1.603914e-47\n",
       "30      True                1  0.287582  0.167459  1.308510e-48\n",
       "31      True                1  0.298392  0.124785  1.532079e-50\n",
       "32      True                1  0.327051  0.125073  9.094970e-52\n",
       "33      True                1  0.305389  0.119973  5.256110e-53\n",
       "34      True                1  0.268730  0.094820  2.752317e-54\n",
       "35      True                1  0.290488  0.100180  9.780500e-56\n",
       "36      True                1  0.388075  0.111968  1.955404e-57\n",
       "37      True                1  0.406265  0.153503  1.069331e-58\n",
       "38      True                1  0.461407  0.195443  3.981274e-60\n",
       "39      True                1  0.457755  0.164917  1.093376e-61\n",
       "40      True                1  0.545418  0.021910  1.174315e-63\n",
       "41      True                1  0.566807 -0.015327  6.929349e-66\n",
       "42      True                1  0.590420  0.024922  7.588865e-67\n",
       "43      True                1  0.565296 -0.029951  2.182634e-69\n",
       "44      True                1  0.552566  0.010909  7.506841e-71\n",
       "45      True                1  0.547582  0.058193  7.194403e-73\n",
       "46      True                1  0.539807  0.092335  1.479175e-74\n",
       "47      True                1  0.495914  0.097637  2.252312e-76\n",
       "48      True                1  0.501766  0.121557  1.437109e-77\n",
       "49      True                1  0.390612  0.049443  2.008879e-78"
      ]
     },
     "execution_count": 52,
     "metadata": {},
     "output_type": "execute_result"
    }
   ],
   "source": [
    "df.head(50)"
   ]
  },
  {
   "cell_type": "markdown",
   "id": "daily-share",
   "metadata": {},
   "source": [
    "## The Larger Case: N(50, 5)"
   ]
  },
  {
   "cell_type": "code",
   "execution_count": 12,
   "id": "maritime-biodiversity",
   "metadata": {},
   "outputs": [
    {
     "name": "stderr",
     "output_type": "stream",
     "text": [
      "<ipython-input-3-083a8b270b4d>:39: RuntimeWarning: divide by zero encountered in double_scalars\n",
      "  acceptance_ratio = (theta_p_likelihood/theta_likelihood) * ((theta_p_prior/theta_prior) * proposal_ratio(theta, theta_prime))\n"
     ]
    }
   ],
   "source": [
    "X = np.random.rand(100)\n",
    "Y = np.random.normal(4,2,10000)\n",
    "data = np.vstack((X,Y))\n",
    "samples = sample(data, 30000, 0, (0,0,1), 1)\n",
    "df = pd.DataFrame(samples)\n",
    "df[['a','b','sigma']] = pd.DataFrame(df['theta'].tolist(), index=df.index)\n",
    "df = df.drop(['theta'], axis=1)"
   ]
  },
  {
   "cell_type": "code",
   "execution_count": 13,
   "id": "excellent-speaking",
   "metadata": {},
   "outputs": [
    {
     "data": {
      "text/html": [
       "<div>\n",
       "<style scoped>\n",
       "    .dataframe tbody tr th:only-of-type {\n",
       "        vertical-align: middle;\n",
       "    }\n",
       "\n",
       "    .dataframe tbody tr th {\n",
       "        vertical-align: top;\n",
       "    }\n",
       "\n",
       "    .dataframe thead th {\n",
       "        text-align: right;\n",
       "    }\n",
       "</style>\n",
       "<table border=\"1\" class=\"dataframe\">\n",
       "  <thead>\n",
       "    <tr style=\"text-align: right;\">\n",
       "      <th></th>\n",
       "      <th>accepted</th>\n",
       "      <th>acceptance_prob</th>\n",
       "      <th>a</th>\n",
       "      <th>b</th>\n",
       "      <th>sigma</th>\n",
       "    </tr>\n",
       "  </thead>\n",
       "  <tbody>\n",
       "    <tr>\n",
       "      <th>0</th>\n",
       "      <td>True</td>\n",
       "      <td>1.000000e+00</td>\n",
       "      <td>0.826128</td>\n",
       "      <td>0.965586</td>\n",
       "      <td>1.313404</td>\n",
       "    </tr>\n",
       "    <tr>\n",
       "      <th>1</th>\n",
       "      <td>False</td>\n",
       "      <td>0.000000e+00</td>\n",
       "      <td>0.826128</td>\n",
       "      <td>0.965586</td>\n",
       "      <td>1.313404</td>\n",
       "    </tr>\n",
       "    <tr>\n",
       "      <th>2</th>\n",
       "      <td>False</td>\n",
       "      <td>0.000000e+00</td>\n",
       "      <td>0.826128</td>\n",
       "      <td>0.965586</td>\n",
       "      <td>1.313404</td>\n",
       "    </tr>\n",
       "    <tr>\n",
       "      <th>3</th>\n",
       "      <td>True</td>\n",
       "      <td>1.000000e+00</td>\n",
       "      <td>1.245875</td>\n",
       "      <td>1.526074</td>\n",
       "      <td>1.378332</td>\n",
       "    </tr>\n",
       "    <tr>\n",
       "      <th>4</th>\n",
       "      <td>True</td>\n",
       "      <td>1.000000e+00</td>\n",
       "      <td>-0.114892</td>\n",
       "      <td>2.301349</td>\n",
       "      <td>2.289059</td>\n",
       "    </tr>\n",
       "    <tr>\n",
       "      <th>...</th>\n",
       "      <td>...</td>\n",
       "      <td>...</td>\n",
       "      <td>...</td>\n",
       "      <td>...</td>\n",
       "      <td>...</td>\n",
       "    </tr>\n",
       "    <tr>\n",
       "      <th>29995</th>\n",
       "      <td>False</td>\n",
       "      <td>0.000000e+00</td>\n",
       "      <td>1.735662</td>\n",
       "      <td>3.103275</td>\n",
       "      <td>1.789889</td>\n",
       "    </tr>\n",
       "    <tr>\n",
       "      <th>29996</th>\n",
       "      <td>False</td>\n",
       "      <td>1.338904e-38</td>\n",
       "      <td>1.735662</td>\n",
       "      <td>3.103275</td>\n",
       "      <td>1.789889</td>\n",
       "    </tr>\n",
       "    <tr>\n",
       "      <th>29997</th>\n",
       "      <td>False</td>\n",
       "      <td>2.177689e-30</td>\n",
       "      <td>1.735662</td>\n",
       "      <td>3.103275</td>\n",
       "      <td>1.789889</td>\n",
       "    </tr>\n",
       "    <tr>\n",
       "      <th>29998</th>\n",
       "      <td>False</td>\n",
       "      <td>5.329443e-192</td>\n",
       "      <td>1.735662</td>\n",
       "      <td>3.103275</td>\n",
       "      <td>1.789889</td>\n",
       "    </tr>\n",
       "    <tr>\n",
       "      <th>29999</th>\n",
       "      <td>False</td>\n",
       "      <td>0.000000e+00</td>\n",
       "      <td>1.735662</td>\n",
       "      <td>3.103275</td>\n",
       "      <td>1.789889</td>\n",
       "    </tr>\n",
       "  </tbody>\n",
       "</table>\n",
       "<p>30000 rows × 5 columns</p>\n",
       "</div>"
      ],
      "text/plain": [
       "       accepted  acceptance_prob         a         b     sigma\n",
       "0          True     1.000000e+00  0.826128  0.965586  1.313404\n",
       "1         False     0.000000e+00  0.826128  0.965586  1.313404\n",
       "2         False     0.000000e+00  0.826128  0.965586  1.313404\n",
       "3          True     1.000000e+00  1.245875  1.526074  1.378332\n",
       "4          True     1.000000e+00 -0.114892  2.301349  2.289059\n",
       "...         ...              ...       ...       ...       ...\n",
       "29995     False     0.000000e+00  1.735662  3.103275  1.789889\n",
       "29996     False     1.338904e-38  1.735662  3.103275  1.789889\n",
       "29997     False     2.177689e-30  1.735662  3.103275  1.789889\n",
       "29998     False    5.329443e-192  1.735662  3.103275  1.789889\n",
       "29999     False     0.000000e+00  1.735662  3.103275  1.789889\n",
       "\n",
       "[30000 rows x 5 columns]"
      ]
     },
     "execution_count": 13,
     "metadata": {},
     "output_type": "execute_result"
    }
   ],
   "source": [
    "df"
   ]
  },
  {
   "cell_type": "code",
   "execution_count": 14,
   "id": "broken-generator",
   "metadata": {},
   "outputs": [
    {
     "data": {
      "text/plain": [
       "<matplotlib.legend.Legend at 0x285b78d6be0>"
      ]
     },
     "execution_count": 14,
     "metadata": {},
     "output_type": "execute_result"
    },
    {
     "data": {
      "image/png": "[encoded data removed]",
      "text/plain": [
       "<Figure size 432x288 with 1 Axes>"
      ]
     },
     "metadata": {
      "needs_background": "light"
     },
     "output_type": "display_data"
    }
   ],
   "source": [
    "plt.plot(range(len(df)),df['a'], label='slope')\n",
    "plt.plot(range(len(df)),df['b'], label='intercept')\n",
    "plt.plot(range(len(df)),df['sigma'], label='variance')\n",
    "plt.plot(range(len(df)),df['acceptance_prob'], label='accept_prob')\n",
    "plt.xlabel(\"Time Steps\")\n",
    "plt.ylabel(\"Values\")\n",
    "plt.legend()"
   ]
  },
  {
   "cell_type": "code",
   "execution_count": 15,
   "id": "advised-guitar",
   "metadata": {},
   "outputs": [
    {
     "data": {
      "text/plain": [
       "<matplotlib.legend.Legend at 0x285b96dfd60>"
      ]
     },
     "execution_count": 15,
     "metadata": {},
     "output_type": "execute_result"
    },
    {
     "data": {
      "image/png": "[encoded data removed]",
      "text/plain": [
       "<Figure size 432x288 with 1 Axes>"
      ]
     },
     "metadata": {
      "needs_background": "light"
     },
     "output_type": "display_data"
    }
   ],
   "source": [
    "plt.plot(range(len(df)),df['acceptance_prob'], label='accept_prob')\n",
    "plt.xlabel(\"Time Steps\")\n",
    "plt.ylabel(\"Values\")\n",
    "plt.legend()"
   ]
  }
 ],
 "metadata": {
  "kernelspec": {
   "display_name": "Python 3",
   "language": "python",
   "name": "python3"
  },
  "language_info": {
   "codemirror_mode": {
    "name": "ipython",
    "version": 3
   },
   "file_extension": ".py",
   "mimetype": "text/x-python",
   "name": "python",
   "nbconvert_exporter": "python",
   "pygments_lexer": "ipython3",
   "version": "3.8.7"
  }
 },
 "nbformat": 4,
 "nbformat_minor": 5
}
