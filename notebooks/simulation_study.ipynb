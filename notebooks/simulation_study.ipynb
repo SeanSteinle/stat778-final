{
 "cells": [
  {
   "cell_type": "markdown",
   "id": "latter-beverage",
   "metadata": {},
   "source": [
    "# STAT778: Final Project"
   ]
  },
  {
   "cell_type": "code",
   "execution_count": 1,
   "id": "demographic-increase",
   "metadata": {},
   "outputs": [],
   "source": [
    "import numpy as np\n",
    "from numpy.random import uniform, normal, multivariate_normal, exponential, gamma\n",
    "import scipy as sc\n",
    "from scipy import stats\n",
    "import pandas as pd\n",
    "import matplotlib.pyplot as plt"
   ]
  },
  {
   "cell_type": "code",
   "execution_count": 2,
   "id": "spare-newton",
   "metadata": {},
   "outputs": [],
   "source": [
    "#it's not quite this. 3.2 does some sort of learning. how?\n",
    "#we're measuring the likelihood (via the pdf) of x given our parameters and the result.\n",
    "#THEN we combine that with our prior.\n",
    "#Then we have a posterior belief about how possible these parameters are given the data we just saw and our prior belief.\n",
    "#now we binarize this belief stochastically! and move onto the next iteration."
   ]
  },
  {
   "cell_type": "markdown",
   "id": "aging-egyptian",
   "metadata": {},
   "source": [
    "## Metropolis-Hastings with a Bayesian Linear Model"
   ]
  },
  {
   "cell_type": "code",
   "execution_count": 32,
   "id": "binary-watch",
   "metadata": {},
   "outputs": [],
   "source": [
    "#metropolis-hastings functions\n",
    "def sample(data: np.ndarray, N: int, B: int, start_theta: tuple, search_breadth: float=0.5):\n",
    "    \"\"\"Takes N samples via the Metropolis-Hastings algorithm, with B burn-in samples.\"\"\"\n",
    "    theta = start_theta\n",
    "    for b in range(B): #burnin samples\n",
    "        results = step(data, theta, search_breadth)\n",
    "        theta = results['theta']\n",
    "    \n",
    "    samples = []\n",
    "    for n in range(N): #real samples\n",
    "        results = step(data, theta, search_breadth)\n",
    "        theta = results['theta']\n",
    "        samples.append(results)\n",
    "    return samples\n",
    "\n",
    "def step(data: np.ndarray, theta: tuple, search_breadth: float):\n",
    "    \"\"\"Takes one step in the Metropolis-Hastings algorithm by generating a new theta and comparing to a given theta.\"\"\"\n",
    "    theta_prime = sample_theta(theta, search_breadth) #sample a new set of parameters\n",
    "    acceptance_log_prob = calc_acceptance_prob(theta, theta_prime, data, search_breadth) #calculate the probability of acceptance\n",
    "    acceptance_prob = min(1,np.exp(acceptance_log_prob))\n",
    "    accepted = acceptance_prob >= uniform() #probabilistically determine acceptance\n",
    "    #need to set y here now too\n",
    "    return {'accepted': accepted, 'acceptance_prob': acceptance_prob, 'theta': theta_prime if accepted else theta} #return results, update theta if samples accepted\n",
    "\n",
    "def sample_theta(theta: tuple, search_breadth: float):\n",
    "    \"\"\"Samples theta parameters--slope, intercept, and standard deviation.\"\"\"\n",
    "    a,b,sigma = theta\n",
    "    a,b = multivariate_normal([a,b], [[search_breadth**2,0],[0,search_breadth**2]])\n",
    "    sigma = gamma(sigma*search_breadth*500, 1/(search_breadth*500))\n",
    "    theta = a,b,sigma\n",
    "    return theta\n",
    "\n",
    "def calc_acceptance_prob(theta: tuple, theta_prime: tuple, data: np.ndarray, search_breadth: float):\n",
    "    \"\"\"Calculates acceptance probability by using a Bayesian linear model.\"\"\"\n",
    "    #y is also a factor in decision-making now too\n",
    "    \n",
    "    theta_likelihood = likelihood(theta, data)\n",
    "    theta_prior = prior(theta)\n",
    "    \n",
    "    theta_p_likelihood = likelihood(theta_prime, data)\n",
    "    theta_p_prior = prior(theta_prime)\n",
    "    \n",
    "    pr = proposal_ratio(theta, theta_prime, search_breadth)\n",
    "    acceptance_ratio = theta_p_likelihood - theta_likelihood + theta_p_prior - theta_prior + pr\n",
    "    return acceptance_ratio\n",
    "\n",
    "#bayesian functions\n",
    "def likelihood(theta: tuple, data: np.ndarray):\n",
    "    \"\"\"Calculates the likelihood component of our linear model by measuring our parameters theta on the given data.\"\"\"\n",
    "    a,b,sigma = theta\n",
    "    x,y = data[0],data[1]\n",
    "    likelihoods = sc.stats.norm.logpdf(y, loc=a*x+b, scale=sigma) #find the likelihood of a sample given a normal distribution specified by our parameters and the data\n",
    "    return np.sum(likelihoods) #use log likelihood for stability\n",
    "\n",
    "def prior(theta: tuple):\n",
    "    \"\"\"Calculates the prior component of our linear model, specified \"\"\"\n",
    "    a,b,sigma = theta\n",
    "    ab_prior = sc.stats.multivariate_normal.logpdf([a,b], [0,0], [[100,0],[0,100]]) #cov defaults to 1\n",
    "    sigma_prob = sc.stats.gamma.logpdf(sigma, 1, 1)\n",
    "    return np.sum([ab_prior,sigma_prob])\n",
    "\n",
    "def proposal_ratio(theta: tuple, theta_prime: tuple, search_breadth: float):\n",
    "    \"\"\"Offsets bidirectionality of chained samples.\"\"\"\n",
    "    a,b,sigma = theta\n",
    "    a_p,b_p,sigma_p = theta_prime\n",
    "    old_given_new_ab = sc.stats.multivariate_normal.logpdf([a,b],[a_p,b_p],[[search_breadth**2,0],[0,search_breadth**2]])\n",
    "    old_given_new_sigma = sc.stats.gamma.logpdf(sigma, sigma_p*search_breadth*500, scale=1/(500*search_breadth))\n",
    "    old_given_new = old_given_new_ab + old_given_new_sigma\n",
    "    \n",
    "    new_given_old_ab = sc.stats.multivariate_normal.logpdf([a_p,b_p],[a,b],[[search_breadth**2,0],[0,search_breadth**2]])\n",
    "    new_given_old_sigma = sc.stats.gamma.logpdf(sigma_p, sigma*search_breadth*500, scale=1/(500*search_breadth))\n",
    "    new_given_old = new_given_old_ab - new_given_old_sigma\n",
    "\n",
    "    return old_given_new - new_given_old"
   ]
  },
  {
   "cell_type": "code",
   "execution_count": 4,
   "id": "electronic-rapid",
   "metadata": {},
   "outputs": [
    {
     "data": {
      "text/plain": [
       "{'accepted': True,\n",
       " 'acceptance_prob': 2.718281828459045,\n",
       " 'theta': (4.326904920933997, 0.6682358378920995, 2.0718688171599235)}"
      ]
     },
     "execution_count": 4,
     "metadata": {},
     "output_type": "execute_result"
    }
   ],
   "source": [
    "X = np.random.rand(10000)\n",
    "Y = np.random.normal(4,2,10000)\n",
    "data = np.vstack((X,Y))\n",
    "step(data,(4,0,2),0.5)"
   ]
  },
  {
   "cell_type": "code",
   "execution_count": 80,
   "id": "skilled-month",
   "metadata": {},
   "outputs": [
    {
     "name": "stderr",
     "output_type": "stream",
     "text": [
      "<ipython-input-32-98d49e65f681>:20: RuntimeWarning: overflow encountered in exp\n",
      "  acceptance_prob = min(1,np.exp(acceptance_log_prob))\n"
     ]
    }
   ],
   "source": [
    "#if we start on the correct parameters (so theoretically no burn-in) how does our acceptance rate vary with breadth value?\n",
    "X = np.random.rand(10000)\n",
    "Y = np.random.normal(-13,19,10000)\n",
    "data = np.vstack((X,Y))\n",
    "samples = sample(data, 20000, 0, (43,9,1), breadth)\n",
    "df = pd.DataFrame(samples)\n",
    "df[['a','b','sigma']] = pd.DataFrame(df['theta'].tolist(), index=df.index)\n",
    "df = df.drop(['theta'], axis=1)"
   ]
  },
  {
   "cell_type": "code",
   "execution_count": 81,
   "id": "prescribed-hunter",
   "metadata": {},
   "outputs": [],
   "source": [
    "accepted,rejected = df[df['accepted']],df[~df['accepted']]"
   ]
  },
  {
   "cell_type": "code",
   "execution_count": 82,
   "id": "alternative-holder",
   "metadata": {},
   "outputs": [
    {
     "data": {
      "text/plain": [
       "0.10135"
      ]
     },
     "execution_count": 82,
     "metadata": {},
     "output_type": "execute_result"
    }
   ],
   "source": [
    "len(accepted)/len(df)"
   ]
  },
  {
   "cell_type": "code",
   "execution_count": 83,
   "id": "adapted-checklist",
   "metadata": {},
   "outputs": [
    {
     "data": {
      "text/html": [
       "<div>\n",
       "<style scoped>\n",
       "    .dataframe tbody tr th:only-of-type {\n",
       "        vertical-align: middle;\n",
       "    }\n",
       "\n",
       "    .dataframe tbody tr th {\n",
       "        vertical-align: top;\n",
       "    }\n",
       "\n",
       "    .dataframe thead th {\n",
       "        text-align: right;\n",
       "    }\n",
       "</style>\n",
       "<table border=\"1\" class=\"dataframe\">\n",
       "  <thead>\n",
       "    <tr style=\"text-align: right;\">\n",
       "      <th></th>\n",
       "      <th>accepted</th>\n",
       "      <th>acceptance_prob</th>\n",
       "      <th>a</th>\n",
       "      <th>b</th>\n",
       "      <th>sigma</th>\n",
       "    </tr>\n",
       "  </thead>\n",
       "  <tbody>\n",
       "    <tr>\n",
       "      <th>3</th>\n",
       "      <td>True</td>\n",
       "      <td>1.000000</td>\n",
       "      <td>42.953148</td>\n",
       "      <td>8.844563</td>\n",
       "      <td>1.013886</td>\n",
       "    </tr>\n",
       "    <tr>\n",
       "      <th>6</th>\n",
       "      <td>True</td>\n",
       "      <td>1.000000</td>\n",
       "      <td>42.897045</td>\n",
       "      <td>9.033473</td>\n",
       "      <td>1.261090</td>\n",
       "    </tr>\n",
       "    <tr>\n",
       "      <th>10</th>\n",
       "      <td>True</td>\n",
       "      <td>1.000000</td>\n",
       "      <td>42.763014</td>\n",
       "      <td>9.145596</td>\n",
       "      <td>1.272864</td>\n",
       "    </tr>\n",
       "    <tr>\n",
       "      <th>12</th>\n",
       "      <td>True</td>\n",
       "      <td>1.000000</td>\n",
       "      <td>42.760265</td>\n",
       "      <td>9.057361</td>\n",
       "      <td>1.683307</td>\n",
       "    </tr>\n",
       "    <tr>\n",
       "      <th>15</th>\n",
       "      <td>True</td>\n",
       "      <td>1.000000</td>\n",
       "      <td>42.626056</td>\n",
       "      <td>9.122161</td>\n",
       "      <td>1.749785</td>\n",
       "    </tr>\n",
       "    <tr>\n",
       "      <th>...</th>\n",
       "      <td>...</td>\n",
       "      <td>...</td>\n",
       "      <td>...</td>\n",
       "      <td>...</td>\n",
       "      <td>...</td>\n",
       "    </tr>\n",
       "    <tr>\n",
       "      <th>19928</th>\n",
       "      <td>True</td>\n",
       "      <td>0.023275</td>\n",
       "      <td>-0.347830</td>\n",
       "      <td>-12.651804</td>\n",
       "      <td>19.316593</td>\n",
       "    </tr>\n",
       "    <tr>\n",
       "      <th>19929</th>\n",
       "      <td>True</td>\n",
       "      <td>0.665082</td>\n",
       "      <td>-0.349673</td>\n",
       "      <td>-12.671455</td>\n",
       "      <td>19.270640</td>\n",
       "    </tr>\n",
       "    <tr>\n",
       "      <th>19930</th>\n",
       "      <td>True</td>\n",
       "      <td>0.444052</td>\n",
       "      <td>-0.414131</td>\n",
       "      <td>-12.556312</td>\n",
       "      <td>19.211137</td>\n",
       "    </tr>\n",
       "    <tr>\n",
       "      <th>19934</th>\n",
       "      <td>True</td>\n",
       "      <td>1.000000</td>\n",
       "      <td>-0.560979</td>\n",
       "      <td>-12.580116</td>\n",
       "      <td>18.974667</td>\n",
       "    </tr>\n",
       "    <tr>\n",
       "      <th>19997</th>\n",
       "      <td>True</td>\n",
       "      <td>0.338303</td>\n",
       "      <td>-0.601853</td>\n",
       "      <td>-12.599775</td>\n",
       "      <td>18.987042</td>\n",
       "    </tr>\n",
       "  </tbody>\n",
       "</table>\n",
       "<p>2027 rows × 5 columns</p>\n",
       "</div>"
      ],
      "text/plain": [
       "       accepted  acceptance_prob          a          b      sigma\n",
       "3          True         1.000000  42.953148   8.844563   1.013886\n",
       "6          True         1.000000  42.897045   9.033473   1.261090\n",
       "10         True         1.000000  42.763014   9.145596   1.272864\n",
       "12         True         1.000000  42.760265   9.057361   1.683307\n",
       "15         True         1.000000  42.626056   9.122161   1.749785\n",
       "...         ...              ...        ...        ...        ...\n",
       "19928      True         0.023275  -0.347830 -12.651804  19.316593\n",
       "19929      True         0.665082  -0.349673 -12.671455  19.270640\n",
       "19930      True         0.444052  -0.414131 -12.556312  19.211137\n",
       "19934      True         1.000000  -0.560979 -12.580116  18.974667\n",
       "19997      True         0.338303  -0.601853 -12.599775  18.987042\n",
       "\n",
       "[2027 rows x 5 columns]"
      ]
     },
     "execution_count": 83,
     "metadata": {},
     "output_type": "execute_result"
    }
   ],
   "source": [
    "accepted"
   ]
  },
  {
   "cell_type": "code",
   "execution_count": 84,
   "id": "violent-yeast",
   "metadata": {},
   "outputs": [
    {
     "data": {
      "text/html": [
       "<div>\n",
       "<style scoped>\n",
       "    .dataframe tbody tr th:only-of-type {\n",
       "        vertical-align: middle;\n",
       "    }\n",
       "\n",
       "    .dataframe tbody tr th {\n",
       "        vertical-align: top;\n",
       "    }\n",
       "\n",
       "    .dataframe thead th {\n",
       "        text-align: right;\n",
       "    }\n",
       "</style>\n",
       "<table border=\"1\" class=\"dataframe\">\n",
       "  <thead>\n",
       "    <tr style=\"text-align: right;\">\n",
       "      <th></th>\n",
       "      <th>accepted</th>\n",
       "      <th>acceptance_prob</th>\n",
       "      <th>a</th>\n",
       "      <th>b</th>\n",
       "      <th>sigma</th>\n",
       "    </tr>\n",
       "  </thead>\n",
       "  <tbody>\n",
       "    <tr>\n",
       "      <th>0</th>\n",
       "      <td>False</td>\n",
       "      <td>0.000000e+00</td>\n",
       "      <td>43.000000</td>\n",
       "      <td>9.000000</td>\n",
       "      <td>1.000000</td>\n",
       "    </tr>\n",
       "    <tr>\n",
       "      <th>1</th>\n",
       "      <td>False</td>\n",
       "      <td>0.000000e+00</td>\n",
       "      <td>43.000000</td>\n",
       "      <td>9.000000</td>\n",
       "      <td>1.000000</td>\n",
       "    </tr>\n",
       "    <tr>\n",
       "      <th>2</th>\n",
       "      <td>False</td>\n",
       "      <td>0.000000e+00</td>\n",
       "      <td>43.000000</td>\n",
       "      <td>9.000000</td>\n",
       "      <td>1.000000</td>\n",
       "    </tr>\n",
       "    <tr>\n",
       "      <th>4</th>\n",
       "      <td>False</td>\n",
       "      <td>0.000000e+00</td>\n",
       "      <td>42.953148</td>\n",
       "      <td>8.844563</td>\n",
       "      <td>1.013886</td>\n",
       "    </tr>\n",
       "    <tr>\n",
       "      <th>5</th>\n",
       "      <td>False</td>\n",
       "      <td>0.000000e+00</td>\n",
       "      <td>42.953148</td>\n",
       "      <td>8.844563</td>\n",
       "      <td>1.013886</td>\n",
       "    </tr>\n",
       "    <tr>\n",
       "      <th>...</th>\n",
       "      <td>...</td>\n",
       "      <td>...</td>\n",
       "      <td>...</td>\n",
       "      <td>...</td>\n",
       "      <td>...</td>\n",
       "    </tr>\n",
       "    <tr>\n",
       "      <th>19994</th>\n",
       "      <td>False</td>\n",
       "      <td>4.913737e-04</td>\n",
       "      <td>-0.560979</td>\n",
       "      <td>-12.580116</td>\n",
       "      <td>18.974667</td>\n",
       "    </tr>\n",
       "    <tr>\n",
       "      <th>19995</th>\n",
       "      <td>False</td>\n",
       "      <td>5.110936e-03</td>\n",
       "      <td>-0.560979</td>\n",
       "      <td>-12.580116</td>\n",
       "      <td>18.974667</td>\n",
       "    </tr>\n",
       "    <tr>\n",
       "      <th>19996</th>\n",
       "      <td>False</td>\n",
       "      <td>4.255674e-16</td>\n",
       "      <td>-0.560979</td>\n",
       "      <td>-12.580116</td>\n",
       "      <td>18.974667</td>\n",
       "    </tr>\n",
       "    <tr>\n",
       "      <th>19998</th>\n",
       "      <td>False</td>\n",
       "      <td>1.701000e-06</td>\n",
       "      <td>-0.601853</td>\n",
       "      <td>-12.599775</td>\n",
       "      <td>18.987042</td>\n",
       "    </tr>\n",
       "    <tr>\n",
       "      <th>19999</th>\n",
       "      <td>False</td>\n",
       "      <td>1.931656e-08</td>\n",
       "      <td>-0.601853</td>\n",
       "      <td>-12.599775</td>\n",
       "      <td>18.987042</td>\n",
       "    </tr>\n",
       "  </tbody>\n",
       "</table>\n",
       "<p>17973 rows × 5 columns</p>\n",
       "</div>"
      ],
      "text/plain": [
       "       accepted  acceptance_prob          a          b      sigma\n",
       "0         False     0.000000e+00  43.000000   9.000000   1.000000\n",
       "1         False     0.000000e+00  43.000000   9.000000   1.000000\n",
       "2         False     0.000000e+00  43.000000   9.000000   1.000000\n",
       "4         False     0.000000e+00  42.953148   8.844563   1.013886\n",
       "5         False     0.000000e+00  42.953148   8.844563   1.013886\n",
       "...         ...              ...        ...        ...        ...\n",
       "19994     False     4.913737e-04  -0.560979 -12.580116  18.974667\n",
       "19995     False     5.110936e-03  -0.560979 -12.580116  18.974667\n",
       "19996     False     4.255674e-16  -0.560979 -12.580116  18.974667\n",
       "19998     False     1.701000e-06  -0.601853 -12.599775  18.987042\n",
       "19999     False     1.931656e-08  -0.601853 -12.599775  18.987042\n",
       "\n",
       "[17973 rows x 5 columns]"
      ]
     },
     "execution_count": 84,
     "metadata": {},
     "output_type": "execute_result"
    }
   ],
   "source": [
    "rejected"
   ]
  },
  {
   "cell_type": "code",
   "execution_count": 85,
   "id": "disturbed-evans",
   "metadata": {},
   "outputs": [
    {
     "name": "stdout",
     "output_type": "stream",
     "text": [
      "Values for a:\n",
      "Accepted: 14.32652392028713\tRejected: 4.3238936607429075\n",
      "Values for b:\n",
      "Accepted: -11.932960845086926\tRejected: -13.6332169280272\n",
      "Values for sigma:\n",
      "Accepted: 22.737593886756926\tRejected: 19.800594018434907\n"
     ]
    }
   ],
   "source": [
    "for param in ['a','b','sigma']:\n",
    "    print(f\"Values for {param}:\\nAccepted: {accepted[param].mean()}\\tRejected: {rejected[param].mean()}\")"
   ]
  },
  {
   "cell_type": "code",
   "execution_count": 86,
   "id": "outside-shannon",
   "metadata": {},
   "outputs": [
    {
     "data": {
      "text/plain": [
       "<matplotlib.legend.Legend at 0x1281a432ee0>"
      ]
     },
     "execution_count": 86,
     "metadata": {},
     "output_type": "execute_result"
    },
    {
     "data": {
      "image/png": "[encoded data removed]",
      "text/plain": [
       "<Figure size 432x288 with 1 Axes>"
      ]
     },
     "metadata": {
      "needs_background": "light"
     },
     "output_type": "display_data"
    }
   ],
   "source": [
    "plt.plot(range(len(df)),df['a'], label='slope')\n",
    "plt.plot(range(len(df)),df['b'], label='intercept')\n",
    "plt.plot(range(len(df)),df['sigma'], label='variance')\n",
    "plt.plot(range(len(df)),df['acceptance_prob'], label='accept_prob')\n",
    "plt.xlabel(\"Time Steps\")\n",
    "plt.ylabel(\"Values\")\n",
    "plt.legend()"
   ]
  },
  {
   "cell_type": "code",
   "execution_count": 77,
   "id": "streaming-print",
   "metadata": {},
   "outputs": [
    {
     "name": "stdout",
     "output_type": "stream",
     "text": [
      "working on (0, 0, 1)\n"
     ]
    },
    {
     "name": "stderr",
     "output_type": "stream",
     "text": [
      "<ipython-input-32-98d49e65f681>:20: RuntimeWarning: overflow encountered in exp\n",
      "  acceptance_prob = min(1,np.exp(acceptance_log_prob))\n"
     ]
    },
    {
     "name": "stdout",
     "output_type": "stream",
     "text": [
      "working on (0, 50, 50)\n"
     ]
    },
    {
     "name": "stderr",
     "output_type": "stream",
     "text": [
      "<ipython-input-32-98d49e65f681>:20: RuntimeWarning: overflow encountered in exp\n",
      "  acceptance_prob = min(1,np.exp(acceptance_log_prob))\n"
     ]
    },
    {
     "name": "stdout",
     "output_type": "stream",
     "text": [
      "working on (0, 100, 100)\n"
     ]
    },
    {
     "data": {
      "text/plain": [
       "<Figure size 432x288 with 0 Axes>"
      ]
     },
     "metadata": {},
     "output_type": "display_data"
    }
   ],
   "source": [
    "for start in [(0,0,1),(0,20,20),(0,40,40),(0,60,60),(0,80,80),(0,100,100)]:\n",
    "    print(f\"working on {start}\")\n",
    "    X = np.random.rand(10000)\n",
    "    Y = np.random.normal(100,100,10000)\n",
    "    data = np.vstack((X,Y))\n",
    "    samples = sample(data, 20000, 0, start, breadth)\n",
    "    \n",
    "    df = pd.DataFrame(samples)\n",
    "    df[['a','b','sigma']] = pd.DataFrame(df['theta'].tolist(), index=df.index)\n",
    "    df = df.drop(['theta'], axis=1)\n",
    "    \n",
    "    plt.plot(range(len(df)),df['a'], label='slope')\n",
    "    plt.plot(range(len(df)),df['b'], label='intercept')\n",
    "    plt.plot(range(len(df)),df['sigma'], label='variance')\n",
    "    plt.plot(range(len(df)),df['acceptance_prob'], label='accept_prob')\n",
    "    plt.xlabel(\"Time Steps\")\n",
    "    plt.ylabel(\"Values\")\n",
    "    a,b,sigma = start\n",
    "    plt.title(f\"Convergence to N(100,100) from N({a}x+{b},{sigma})\")\n",
    "    plt.legend()\n",
    "    plt.savefig(f'../plots/convergence_rate_{\"\".join(str(start).split(\", \"))}.jpg', bbox_inches='tight')\n",
    "    plt.clf()"
   ]
  },
  {
   "cell_type": "code",
   "execution_count": 78,
   "id": "numerous-polymer",
   "metadata": {},
   "outputs": [
    {
     "data": {
      "text/html": [
       "<div>\n",
       "<style scoped>\n",
       "    .dataframe tbody tr th:only-of-type {\n",
       "        vertical-align: middle;\n",
       "    }\n",
       "\n",
       "    .dataframe tbody tr th {\n",
       "        vertical-align: top;\n",
       "    }\n",
       "\n",
       "    .dataframe thead th {\n",
       "        text-align: right;\n",
       "    }\n",
       "</style>\n",
       "<table border=\"1\" class=\"dataframe\">\n",
       "  <thead>\n",
       "    <tr style=\"text-align: right;\">\n",
       "      <th></th>\n",
       "      <th>accepted</th>\n",
       "      <th>acceptance_prob</th>\n",
       "      <th>a</th>\n",
       "      <th>b</th>\n",
       "      <th>sigma</th>\n",
       "    </tr>\n",
       "  </thead>\n",
       "  <tbody>\n",
       "    <tr>\n",
       "      <th>0</th>\n",
       "      <td>False</td>\n",
       "      <td>1.970839e-07</td>\n",
       "      <td>0.000000</td>\n",
       "      <td>100.000000</td>\n",
       "      <td>100.000000</td>\n",
       "    </tr>\n",
       "    <tr>\n",
       "      <th>1</th>\n",
       "      <td>False</td>\n",
       "      <td>1.049357e-04</td>\n",
       "      <td>0.000000</td>\n",
       "      <td>100.000000</td>\n",
       "      <td>100.000000</td>\n",
       "    </tr>\n",
       "    <tr>\n",
       "      <th>2</th>\n",
       "      <td>False</td>\n",
       "      <td>2.166475e-04</td>\n",
       "      <td>0.000000</td>\n",
       "      <td>100.000000</td>\n",
       "      <td>100.000000</td>\n",
       "    </tr>\n",
       "    <tr>\n",
       "      <th>3</th>\n",
       "      <td>False</td>\n",
       "      <td>5.220034e-02</td>\n",
       "      <td>0.000000</td>\n",
       "      <td>100.000000</td>\n",
       "      <td>100.000000</td>\n",
       "    </tr>\n",
       "    <tr>\n",
       "      <th>4</th>\n",
       "      <td>False</td>\n",
       "      <td>5.834174e-02</td>\n",
       "      <td>0.000000</td>\n",
       "      <td>100.000000</td>\n",
       "      <td>100.000000</td>\n",
       "    </tr>\n",
       "    <tr>\n",
       "      <th>...</th>\n",
       "      <td>...</td>\n",
       "      <td>...</td>\n",
       "      <td>...</td>\n",
       "      <td>...</td>\n",
       "      <td>...</td>\n",
       "    </tr>\n",
       "    <tr>\n",
       "      <th>19995</th>\n",
       "      <td>False</td>\n",
       "      <td>3.688303e-02</td>\n",
       "      <td>0.498517</td>\n",
       "      <td>98.808300</td>\n",
       "      <td>100.491814</td>\n",
       "    </tr>\n",
       "    <tr>\n",
       "      <th>19996</th>\n",
       "      <td>True</td>\n",
       "      <td>5.526840e-02</td>\n",
       "      <td>0.613191</td>\n",
       "      <td>98.698494</td>\n",
       "      <td>100.681001</td>\n",
       "    </tr>\n",
       "    <tr>\n",
       "      <th>19997</th>\n",
       "      <td>False</td>\n",
       "      <td>5.625946e-05</td>\n",
       "      <td>0.613191</td>\n",
       "      <td>98.698494</td>\n",
       "      <td>100.681001</td>\n",
       "    </tr>\n",
       "    <tr>\n",
       "      <th>19998</th>\n",
       "      <td>False</td>\n",
       "      <td>5.297580e-02</td>\n",
       "      <td>0.613191</td>\n",
       "      <td>98.698494</td>\n",
       "      <td>100.681001</td>\n",
       "    </tr>\n",
       "    <tr>\n",
       "      <th>19999</th>\n",
       "      <td>False</td>\n",
       "      <td>5.771558e-02</td>\n",
       "      <td>0.613191</td>\n",
       "      <td>98.698494</td>\n",
       "      <td>100.681001</td>\n",
       "    </tr>\n",
       "  </tbody>\n",
       "</table>\n",
       "<p>20000 rows × 5 columns</p>\n",
       "</div>"
      ],
      "text/plain": [
       "       accepted  acceptance_prob         a           b       sigma\n",
       "0         False     1.970839e-07  0.000000  100.000000  100.000000\n",
       "1         False     1.049357e-04  0.000000  100.000000  100.000000\n",
       "2         False     2.166475e-04  0.000000  100.000000  100.000000\n",
       "3         False     5.220034e-02  0.000000  100.000000  100.000000\n",
       "4         False     5.834174e-02  0.000000  100.000000  100.000000\n",
       "...         ...              ...       ...         ...         ...\n",
       "19995     False     3.688303e-02  0.498517   98.808300  100.491814\n",
       "19996      True     5.526840e-02  0.613191   98.698494  100.681001\n",
       "19997     False     5.625946e-05  0.613191   98.698494  100.681001\n",
       "19998     False     5.297580e-02  0.613191   98.698494  100.681001\n",
       "19999     False     5.771558e-02  0.613191   98.698494  100.681001\n",
       "\n",
       "[20000 rows x 5 columns]"
      ]
     },
     "execution_count": 78,
     "metadata": {},
     "output_type": "execute_result"
    }
   ],
   "source": [
    "df"
   ]
  },
  {
   "cell_type": "markdown",
   "id": "operating-obligation",
   "metadata": {},
   "source": [
    "## Zero Case: N(0,1)"
   ]
  },
  {
   "cell_type": "code",
   "execution_count": 79,
   "id": "molecular-major",
   "metadata": {},
   "outputs": [
    {
     "name": "stderr",
     "output_type": "stream",
     "text": [
      "<ipython-input-32-98d49e65f681>:20: RuntimeWarning: overflow encountered in exp\n",
      "  acceptance_prob = min(1,np.exp(acceptance_log_prob))\n"
     ]
    }
   ],
   "source": [
    "X = np.random.rand(10000)\n",
    "Y = np.random.normal(10,3,10000)\n",
    "data = np.vstack((X,Y))\n",
    "samples = sample(data, 30000, 0, (0,0,1), 1)\n",
    "df = pd.DataFrame(samples)\n",
    "df[['a','b','sigma']] = pd.DataFrame(df['theta'].tolist(), index=df.index)\n",
    "df = df.drop(['theta'], axis=1)"
   ]
  },
  {
   "cell_type": "code",
   "execution_count": null,
   "id": "unusual-necessity",
   "metadata": {},
   "outputs": [],
   "source": [
    "plt.scatter(X,Y)\n",
    "plt.xlabel(\"X\")\n",
    "plt.ylabel(\"Y\")\n",
    "plt.title(\"The Data\")"
   ]
  },
  {
   "cell_type": "code",
   "execution_count": null,
   "id": "packed-blind",
   "metadata": {},
   "outputs": [],
   "source": [
    "df"
   ]
  },
  {
   "cell_type": "code",
   "execution_count": null,
   "id": "pleased-necessity",
   "metadata": {},
   "outputs": [],
   "source": [
    "plt.plot(range(len(df)),df['a'], label='slope')\n",
    "plt.plot(range(len(df)),df['b'], label='intercept')\n",
    "plt.plot(range(len(df)),df['sigma'], label='variance')\n",
    "plt.plot(range(len(df)),df['acceptance_prob'], label='accept_prob')\n",
    "plt.xlabel(\"Time Steps\")\n",
    "plt.ylabel(\"Values\")\n",
    "plt.legend()"
   ]
  },
  {
   "cell_type": "code",
   "execution_count": null,
   "id": "mathematical-performance",
   "metadata": {},
   "outputs": [],
   "source": [
    "plt.plot(range(len(df)),df['acceptance_prob'], label='accept_prob')\n",
    "plt.xlabel(\"Time Steps\")\n",
    "plt.ylabel(\"Values\")\n",
    "plt.legend()"
   ]
  },
  {
   "cell_type": "markdown",
   "id": "placed-bookmark",
   "metadata": {},
   "source": [
    "## Nonzero Case: N(4,2)"
   ]
  },
  {
   "cell_type": "code",
   "execution_count": null,
   "id": "interpreted-price",
   "metadata": {},
   "outputs": [],
   "source": [
    "X = np.random.rand(10000)\n",
    "Y = np.random.normal(-13,8,10000)\n",
    "data = np.vstack((X,Y))\n",
    "samples = sample(data, 20000, 0, (0,4,2), 0.2)\n",
    "df = pd.DataFrame(samples)\n",
    "df[['a','b','sigma']] = pd.DataFrame(df['theta'].tolist(), index=df.index)\n",
    "df = df.drop(['theta'], axis=1)"
   ]
  },
  {
   "cell_type": "code",
   "execution_count": null,
   "id": "velvet-given",
   "metadata": {},
   "outputs": [],
   "source": [
    "plt.scatter(X,Y)\n",
    "plt.xlabel(\"X\")\n",
    "plt.ylabel(\"Y\")\n",
    "plt.title(\"The Data\")"
   ]
  },
  {
   "cell_type": "code",
   "execution_count": null,
   "id": "extra-exhibition",
   "metadata": {},
   "outputs": [],
   "source": [
    "df\n",
    "#it accepts every single one?\n",
    "#does it arrive to the right parameters?\n",
    "#effect of changing starting point?"
   ]
  },
  {
   "cell_type": "code",
   "execution_count": null,
   "id": "important-situation",
   "metadata": {},
   "outputs": [],
   "source": [
    "plt.plot(range(len(df)),df['a'], label='slope')\n",
    "plt.plot(range(len(df)),df['b'], label='intercept')\n",
    "plt.plot(range(len(df)),df['sigma'], label='variance')\n",
    "#plt.plot(range(len(df)),df['acceptance_prob'], label='accept_prob')\n",
    "plt.xlabel(\"Time Steps\")\n",
    "plt.ylabel(\"Values\")\n",
    "plt.legend()"
   ]
  },
  {
   "cell_type": "code",
   "execution_count": null,
   "id": "appointed-tonight",
   "metadata": {},
   "outputs": [],
   "source": [
    "plt.scatter(range(len(df)),df['acceptance_prob'], label='accept_prob')\n",
    "plt.xlabel(\"Time Steps\")\n",
    "plt.ylabel(\"Values\")\n",
    "plt.legend()\n",
    "ax = plt.gca()\n",
    "ax.set_ylim([0,1])"
   ]
  },
  {
   "cell_type": "code",
   "execution_count": null,
   "id": "manual-religious",
   "metadata": {},
   "outputs": [],
   "source": [
    "df['acceptance_prob'].tolist()"
   ]
  },
  {
   "cell_type": "code",
   "execution_count": null,
   "id": "exclusive-tonight",
   "metadata": {
    "scrolled": true
   },
   "outputs": [],
   "source": [
    "df.head(50)"
   ]
  },
  {
   "cell_type": "code",
   "execution_count": null,
   "id": "trying-motion",
   "metadata": {},
   "outputs": [],
   "source": [
    "(df['accepted'].sum()/len(df))\n",
    "#about 1.5% accepted with a 0.5 breadth rate\n",
    "#about 2.5% accepted with a 0.2 breadth rate\n",
    "#about 1% accepted with 0.01 breadth rate\n",
    "#about 0.015% accepted with a 0.001 breadth rate"
   ]
  },
  {
   "cell_type": "code",
   "execution_count": null,
   "id": "cheap-recommendation",
   "metadata": {
    "scrolled": true
   },
   "outputs": [],
   "source": [
    "df[df['accepted']]"
   ]
  },
  {
   "cell_type": "markdown",
   "id": "daily-share",
   "metadata": {},
   "source": [
    "## The Larger Case: N(50, 5)"
   ]
  },
  {
   "cell_type": "code",
   "execution_count": null,
   "id": "maritime-biodiversity",
   "metadata": {},
   "outputs": [],
   "source": [
    "X = np.random.rand(100)\n",
    "Y = np.random.normal(4,2,10000)\n",
    "data = np.vstack((X,Y))\n",
    "samples = sample(data, 30000, 0, (0,0,1), 1)\n",
    "df = pd.DataFrame(samples)\n",
    "df[['a','b','sigma']] = pd.DataFrame(df['theta'].tolist(), index=df.index)\n",
    "df = df.drop(['theta'], axis=1)"
   ]
  },
  {
   "cell_type": "code",
   "execution_count": null,
   "id": "excellent-speaking",
   "metadata": {},
   "outputs": [],
   "source": [
    "df"
   ]
  },
  {
   "cell_type": "code",
   "execution_count": null,
   "id": "broken-generator",
   "metadata": {},
   "outputs": [],
   "source": [
    "plt.plot(range(len(df)),df['a'], label='slope')\n",
    "plt.plot(range(len(df)),df['b'], label='intercept')\n",
    "plt.plot(range(len(df)),df['sigma'], label='variance')\n",
    "plt.plot(range(len(df)),df['acceptance_prob'], label='accept_prob')\n",
    "plt.xlabel(\"Time Steps\")\n",
    "plt.ylabel(\"Values\")\n",
    "plt.legend()"
   ]
  },
  {
   "cell_type": "code",
   "execution_count": null,
   "id": "advised-guitar",
   "metadata": {},
   "outputs": [],
   "source": [
    "plt.plot(range(len(df)),df['acceptance_prob'], label='accept_prob')\n",
    "plt.xlabel(\"Time Steps\")\n",
    "plt.ylabel(\"Values\")\n",
    "plt.legend()"
   ]
  }
 ],
 "metadata": {
  "kernelspec": {
   "display_name": "Python 3",
   "language": "python",
   "name": "python3"
  },
  "language_info": {
   "codemirror_mode": {
    "name": "ipython",
    "version": 3
   },
   "file_extension": ".py",
   "mimetype": "text/x-python",
   "name": "python",
   "nbconvert_exporter": "python",
   "pygments_lexer": "ipython3",
   "version": "3.8.7"
  }
 },
 "nbformat": 4,
 "nbformat_minor": 5
}
