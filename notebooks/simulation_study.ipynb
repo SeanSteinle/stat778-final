{
 "cells": [
  {
   "cell_type": "markdown",
   "id": "latter-beverage",
   "metadata": {},
   "source": [
    "# STAT778: Final Project"
   ]
  },
  {
   "cell_type": "code",
   "execution_count": 1,
   "id": "demographic-increase",
   "metadata": {},
   "outputs": [],
   "source": [
    "import numpy as np\n",
    "from numpy.random import uniform, normal, multivariate_normal, exponential\n",
    "import scipy as sc\n",
    "from scipy import stats\n",
    "import pandas as pd\n",
    "import matplotlib.pyplot as plt"
   ]
  },
  {
   "cell_type": "code",
   "execution_count": 2,
   "id": "spare-newton",
   "metadata": {},
   "outputs": [],
   "source": [
    "#it's not quite this. 3.2 does some sort of learning. how?\n",
    "#we're measuring the likelihood (via the pdf) of x given our parameters and the result.\n",
    "#THEN we combine that with our prior.\n",
    "#Then we have a posterior belief about how possible these parameters are given the data we just saw and our prior belief.\n",
    "#now we binarize this belief stochastically! and move onto the next iteration."
   ]
  },
  {
   "cell_type": "markdown",
   "id": "aging-egyptian",
   "metadata": {},
   "source": [
    "## Metropolis-Hastings with a Bayesian Linear Model"
   ]
  },
  {
   "cell_type": "code",
   "execution_count": 3,
   "id": "binary-watch",
   "metadata": {},
   "outputs": [],
   "source": [
    "#metropolis-hastings functions\n",
    "def sample(data: np.ndarray, N: int, B: int, start_theta: tuple, search_breadth: float=1):\n",
    "    \"\"\"Takes N samples via the Metropolis-Hastings algorithm, with B burn-in samples.\"\"\"\n",
    "    theta = start_theta\n",
    "    for b in range(B): #burnin samples\n",
    "        results = step(data, theta, search_breadth)\n",
    "        theta = results['theta']\n",
    "    \n",
    "    samples = []\n",
    "    for n in range(N): #real samples\n",
    "        results = step(data, theta, search_breadth)\n",
    "        theta = results['theta']\n",
    "        samples.append(results)\n",
    "    return samples\n",
    "\n",
    "def step(data: np.ndarray, theta: tuple, search_breadth: float):\n",
    "    \"\"\"Takes one step in the Metropolis-Hastings algorithm by generating a new theta and comparing to a given theta.\"\"\"\n",
    "    theta_prime = sample_theta(theta, search_breadth) #sample a new set of parameters\n",
    "    acceptance_probability = min(1,calc_acceptance_prob(theta, theta_prime, data, search_breadth)) #calculate the probability of acceptance\n",
    "    accepted = acceptance_probability >= uniform() #probabilistically determine acceptance \n",
    "    return {'accepted': accepted, 'acceptance_prob': acceptance_probability, 'theta': theta_prime if accepted else theta} #return results, update theta if samples accepted\n",
    "\n",
    "def sample_theta(theta: tuple, search_breadth: float=1):\n",
    "    \"\"\"Samples theta parameters--slope, intercept, and standard deviation.\"\"\"\n",
    "    a,b,sigma = theta\n",
    "    a,b = multivariate_normal([a,b], [[search_breadth**2,0],[0,search_breadth**2]])\n",
    "    sigma = exponential(sigma*search_breadth)\n",
    "    theta = a,b,sigma\n",
    "    return theta\n",
    "\n",
    "def calc_acceptance_prob(theta: tuple, theta_prime: tuple, data: np.ndarray, search_breadth: float):\n",
    "    \"\"\"Calculates acceptance probability by using a Bayesian linear model.\"\"\"\n",
    "    theta_likelihood = likelihood(theta, data)\n",
    "    theta_prior = prior(theta)\n",
    "    \n",
    "    theta_p_likelihood = likelihood(theta_prime, data)\n",
    "    theta_p_prior = prior(theta_prime)\n",
    "    \n",
    "    acceptance_ratio = (theta_p_likelihood/theta_likelihood) * ((theta_p_prior/theta_prior) * proposal_ratio(theta, theta_prime))\n",
    "    return acceptance_ratio\n",
    "\n",
    "#bayesian functions\n",
    "def likelihood(theta: tuple, data: np.ndarray):\n",
    "    \"\"\"Calculates the likelihood component of our linear model by measuring our parameters theta on the given data.\"\"\"\n",
    "    a,b,sigma = theta\n",
    "    x,y = data[0],data[1]\n",
    "    likelihoods = sc.stats.norm.pdf(y, loc=a*x+b, scale=sigma) #find the likelihood of a sample given a normal distribution specified by our parameters and the data\n",
    "    return np.prod(likelihoods) #use log likelihood for stability\n",
    "\n",
    "def prior(theta):\n",
    "    \"\"\"Calculates the prior component of our linear model, specified \"\"\"\n",
    "    a,b,sigma = theta\n",
    "    a_prob, b_prob = sc.stats.multivariate_normal.pdf([a,b]) #cov defaults to 1\n",
    "    sigma_prob = sc.stats.expon.pdf(sigma)\n",
    "    return np.prod([a_prob,b_prob,sigma_prob])\n",
    "\n",
    "def proposal_ratio(theta: tuple, theta_prime: tuple):\n",
    "    \"\"\"Offsets bidirectionality of chained samples.\"\"\"\n",
    "    a,b,sigma = theta\n",
    "    a_p,b_p,sigma_p = theta_prime\n",
    "    old_given_new = sc.stats.multivariate_normal.pdf([a,b],[a_p,b_p])*sc.stats.expon.pdf(sigma)\n",
    "    new_given_old = sc.stats.multivariate_normal.pdf([a_p,b_p],[a,b])*sc.stats.expon.pdf(sigma_p)\n",
    "    return old_given_new/new_given_old"
   ]
  },
  {
   "cell_type": "markdown",
   "id": "operating-obligation",
   "metadata": {},
   "source": [
    "## Zero Case: N(0,1)"
   ]
  },
  {
   "cell_type": "code",
   "execution_count": 4,
   "id": "molecular-major",
   "metadata": {},
   "outputs": [
    {
     "name": "stderr",
     "output_type": "stream",
     "text": [
      "<ipython-input-3-083a8b270b4d>:39: RuntimeWarning: invalid value encountered in double_scalars\n",
      "  acceptance_ratio = (theta_p_likelihood/theta_likelihood) * ((theta_p_prior/theta_prior) * proposal_ratio(theta, theta_prime))\n",
      "c:\\users\\seans\\appdata\\local\\programs\\python\\python38\\lib\\site-packages\\scipy\\stats\\_continuous_distns.py:243: RuntimeWarning: overflow encountered in square\n",
      "  return np.exp(-x**2/2.0) / _norm_pdf_C\n",
      "c:\\users\\seans\\appdata\\local\\programs\\python\\python38\\lib\\site-packages\\scipy\\stats\\_distn_infrastructure.py:1835: RuntimeWarning: overflow encountered in true_divide\n",
      "  x = np.asarray((x - loc)/scale, dtype=dtyp)\n",
      "c:\\users\\seans\\appdata\\local\\programs\\python\\python38\\lib\\site-packages\\scipy\\stats\\_distn_infrastructure.py:1835: RuntimeWarning: divide by zero encountered in true_divide\n",
      "  x = np.asarray((x - loc)/scale, dtype=dtyp)\n",
      "<ipython-input-3-083a8b270b4d>:39: RuntimeWarning: divide by zero encountered in double_scalars\n",
      "  acceptance_ratio = (theta_p_likelihood/theta_likelihood) * ((theta_p_prior/theta_prior) * proposal_ratio(theta, theta_prime))\n"
     ]
    }
   ],
   "source": [
    "X = np.random.rand(10000)\n",
    "Y = np.random.normal(0,1,10000)\n",
    "data = np.vstack((X,Y))\n",
    "samples = sample(data, 30000, 0, (0,0,1), 1)\n",
    "df = pd.DataFrame(samples)\n",
    "df[['a','b','sigma']] = pd.DataFrame(df['theta'].tolist(), index=df.index)\n",
    "df = df.drop(['theta'], axis=1)"
   ]
  },
  {
   "cell_type": "code",
   "execution_count": 5,
   "id": "packed-blind",
   "metadata": {},
   "outputs": [
    {
     "data": {
      "text/html": [
       "<div>\n",
       "<style scoped>\n",
       "    .dataframe tbody tr th:only-of-type {\n",
       "        vertical-align: middle;\n",
       "    }\n",
       "\n",
       "    .dataframe tbody tr th {\n",
       "        vertical-align: top;\n",
       "    }\n",
       "\n",
       "    .dataframe thead th {\n",
       "        text-align: right;\n",
       "    }\n",
       "</style>\n",
       "<table border=\"1\" class=\"dataframe\">\n",
       "  <thead>\n",
       "    <tr style=\"text-align: right;\">\n",
       "      <th></th>\n",
       "      <th>accepted</th>\n",
       "      <th>acceptance_prob</th>\n",
       "      <th>a</th>\n",
       "      <th>b</th>\n",
       "      <th>sigma</th>\n",
       "    </tr>\n",
       "  </thead>\n",
       "  <tbody>\n",
       "    <tr>\n",
       "      <th>0</th>\n",
       "      <td>True</td>\n",
       "      <td>1</td>\n",
       "      <td>-0.306207</td>\n",
       "      <td>1.276395</td>\n",
       "      <td>0.409391</td>\n",
       "    </tr>\n",
       "    <tr>\n",
       "      <th>1</th>\n",
       "      <td>True</td>\n",
       "      <td>1</td>\n",
       "      <td>-1.494236</td>\n",
       "      <td>2.154405</td>\n",
       "      <td>0.061962</td>\n",
       "    </tr>\n",
       "    <tr>\n",
       "      <th>2</th>\n",
       "      <td>True</td>\n",
       "      <td>1</td>\n",
       "      <td>-2.903248</td>\n",
       "      <td>1.274130</td>\n",
       "      <td>0.307792</td>\n",
       "    </tr>\n",
       "    <tr>\n",
       "      <th>3</th>\n",
       "      <td>True</td>\n",
       "      <td>1</td>\n",
       "      <td>-3.121005</td>\n",
       "      <td>0.624000</td>\n",
       "      <td>0.053262</td>\n",
       "    </tr>\n",
       "    <tr>\n",
       "      <th>4</th>\n",
       "      <td>True</td>\n",
       "      <td>1</td>\n",
       "      <td>-2.298845</td>\n",
       "      <td>0.646869</td>\n",
       "      <td>0.055776</td>\n",
       "    </tr>\n",
       "    <tr>\n",
       "      <th>...</th>\n",
       "      <td>...</td>\n",
       "      <td>...</td>\n",
       "      <td>...</td>\n",
       "      <td>...</td>\n",
       "      <td>...</td>\n",
       "    </tr>\n",
       "    <tr>\n",
       "      <th>29995</th>\n",
       "      <td>True</td>\n",
       "      <td>1</td>\n",
       "      <td>-34.112871</td>\n",
       "      <td>59.717570</td>\n",
       "      <td>0.000000</td>\n",
       "    </tr>\n",
       "    <tr>\n",
       "      <th>29996</th>\n",
       "      <td>True</td>\n",
       "      <td>1</td>\n",
       "      <td>-33.783409</td>\n",
       "      <td>59.938307</td>\n",
       "      <td>0.000000</td>\n",
       "    </tr>\n",
       "    <tr>\n",
       "      <th>29997</th>\n",
       "      <td>True</td>\n",
       "      <td>1</td>\n",
       "      <td>-33.562590</td>\n",
       "      <td>61.057936</td>\n",
       "      <td>0.000000</td>\n",
       "    </tr>\n",
       "    <tr>\n",
       "      <th>29998</th>\n",
       "      <td>True</td>\n",
       "      <td>1</td>\n",
       "      <td>-34.201456</td>\n",
       "      <td>64.108216</td>\n",
       "      <td>0.000000</td>\n",
       "    </tr>\n",
       "    <tr>\n",
       "      <th>29999</th>\n",
       "      <td>True</td>\n",
       "      <td>1</td>\n",
       "      <td>-33.697047</td>\n",
       "      <td>63.571668</td>\n",
       "      <td>0.000000</td>\n",
       "    </tr>\n",
       "  </tbody>\n",
       "</table>\n",
       "<p>30000 rows × 5 columns</p>\n",
       "</div>"
      ],
      "text/plain": [
       "       accepted  acceptance_prob          a          b     sigma\n",
       "0          True                1  -0.306207   1.276395  0.409391\n",
       "1          True                1  -1.494236   2.154405  0.061962\n",
       "2          True                1  -2.903248   1.274130  0.307792\n",
       "3          True                1  -3.121005   0.624000  0.053262\n",
       "4          True                1  -2.298845   0.646869  0.055776\n",
       "...         ...              ...        ...        ...       ...\n",
       "29995      True                1 -34.112871  59.717570  0.000000\n",
       "29996      True                1 -33.783409  59.938307  0.000000\n",
       "29997      True                1 -33.562590  61.057936  0.000000\n",
       "29998      True                1 -34.201456  64.108216  0.000000\n",
       "29999      True                1 -33.697047  63.571668  0.000000\n",
       "\n",
       "[30000 rows x 5 columns]"
      ]
     },
     "execution_count": 5,
     "metadata": {},
     "output_type": "execute_result"
    }
   ],
   "source": [
    "df"
   ]
  },
  {
   "cell_type": "code",
   "execution_count": 6,
   "id": "pleased-necessity",
   "metadata": {},
   "outputs": [
    {
     "data": {
      "text/plain": [
       "<matplotlib.legend.Legend at 0x26e81847520>"
      ]
     },
     "execution_count": 6,
     "metadata": {},
     "output_type": "execute_result"
    },
    {
     "data": {
      "image/png": "[encoded data removed]",
      "text/plain": [
       "<Figure size 432x288 with 1 Axes>"
      ]
     },
     "metadata": {
      "needs_background": "light"
     },
     "output_type": "display_data"
    }
   ],
   "source": [
    "plt.plot(range(len(df)),df['a'], label='slope')\n",
    "plt.plot(range(len(df)),df['b'], label='intercept')\n",
    "plt.plot(range(len(df)),df['sigma'], label='variance')\n",
    "plt.plot(range(len(df)),df['acceptance_prob'], label='accept_prob')\n",
    "plt.xlabel(\"Time Steps\")\n",
    "plt.ylabel(\"Values\")\n",
    "plt.legend()"
   ]
  },
  {
   "cell_type": "code",
   "execution_count": 7,
   "id": "mathematical-performance",
   "metadata": {},
   "outputs": [
    {
     "data": {
      "text/plain": [
       "<matplotlib.legend.Legend at 0x26e819421c0>"
      ]
     },
     "execution_count": 7,
     "metadata": {},
     "output_type": "execute_result"
    },
    {
     "data": {
      "image/png": "[encoded data removed]",
      "text/plain": [
       "<Figure size 432x288 with 1 Axes>"
      ]
     },
     "metadata": {
      "needs_background": "light"
     },
     "output_type": "display_data"
    }
   ],
   "source": [
    "plt.plot(range(len(df)),df['acceptance_prob'], label='accept_prob')\n",
    "plt.xlabel(\"Time Steps\")\n",
    "plt.ylabel(\"Values\")\n",
    "plt.legend()"
   ]
  },
  {
   "cell_type": "markdown",
   "id": "placed-bookmark",
   "metadata": {},
   "source": [
    "## Nonzero Case: N(4,2)"
   ]
  },
  {
   "cell_type": "code",
   "execution_count": 8,
   "id": "interpreted-price",
   "metadata": {},
   "outputs": [
    {
     "name": "stderr",
     "output_type": "stream",
     "text": [
      "<ipython-input-3-083a8b270b4d>:39: RuntimeWarning: invalid value encountered in double_scalars\n",
      "  acceptance_ratio = (theta_p_likelihood/theta_likelihood) * ((theta_p_prior/theta_prior) * proposal_ratio(theta, theta_prime))\n",
      "c:\\users\\seans\\appdata\\local\\programs\\python\\python38\\lib\\site-packages\\scipy\\stats\\_continuous_distns.py:243: RuntimeWarning: overflow encountered in square\n",
      "  return np.exp(-x**2/2.0) / _norm_pdf_C\n",
      "<ipython-input-3-083a8b270b4d>:39: RuntimeWarning: divide by zero encountered in double_scalars\n",
      "  acceptance_ratio = (theta_p_likelihood/theta_likelihood) * ((theta_p_prior/theta_prior) * proposal_ratio(theta, theta_prime))\n",
      "c:\\users\\seans\\appdata\\local\\programs\\python\\python38\\lib\\site-packages\\scipy\\stats\\_distn_infrastructure.py:1835: RuntimeWarning: overflow encountered in true_divide\n",
      "  x = np.asarray((x - loc)/scale, dtype=dtyp)\n",
      "c:\\users\\seans\\appdata\\local\\programs\\python\\python38\\lib\\site-packages\\scipy\\stats\\_distn_infrastructure.py:1835: RuntimeWarning: divide by zero encountered in true_divide\n",
      "  x = np.asarray((x - loc)/scale, dtype=dtyp)\n"
     ]
    }
   ],
   "source": [
    "X = np.random.rand(100)\n",
    "Y = np.random.normal(4,2,100)\n",
    "data = np.vstack((X,Y))\n",
    "samples = sample(data, 30000, 0, (0,0,1), 1)\n",
    "df = pd.DataFrame(samples)\n",
    "df[['a','b','sigma']] = pd.DataFrame(df['theta'].tolist(), index=df.index)\n",
    "df = df.drop(['theta'], axis=1)"
   ]
  },
  {
   "cell_type": "code",
   "execution_count": 9,
   "id": "extra-exhibition",
   "metadata": {},
   "outputs": [
    {
     "data": {
      "text/html": [
       "<div>\n",
       "<style scoped>\n",
       "    .dataframe tbody tr th:only-of-type {\n",
       "        vertical-align: middle;\n",
       "    }\n",
       "\n",
       "    .dataframe tbody tr th {\n",
       "        vertical-align: top;\n",
       "    }\n",
       "\n",
       "    .dataframe thead th {\n",
       "        text-align: right;\n",
       "    }\n",
       "</style>\n",
       "<table border=\"1\" class=\"dataframe\">\n",
       "  <thead>\n",
       "    <tr style=\"text-align: right;\">\n",
       "      <th></th>\n",
       "      <th>accepted</th>\n",
       "      <th>acceptance_prob</th>\n",
       "      <th>a</th>\n",
       "      <th>b</th>\n",
       "      <th>sigma</th>\n",
       "    </tr>\n",
       "  </thead>\n",
       "  <tbody>\n",
       "    <tr>\n",
       "      <th>0</th>\n",
       "      <td>True</td>\n",
       "      <td>1</td>\n",
       "      <td>1.117637</td>\n",
       "      <td>-2.066014</td>\n",
       "      <td>0.925730</td>\n",
       "    </tr>\n",
       "    <tr>\n",
       "      <th>1</th>\n",
       "      <td>True</td>\n",
       "      <td>1</td>\n",
       "      <td>1.369187</td>\n",
       "      <td>-3.628229</td>\n",
       "      <td>1.544043</td>\n",
       "    </tr>\n",
       "    <tr>\n",
       "      <th>2</th>\n",
       "      <td>True</td>\n",
       "      <td>1</td>\n",
       "      <td>2.274410</td>\n",
       "      <td>-5.656103</td>\n",
       "      <td>0.010658</td>\n",
       "    </tr>\n",
       "    <tr>\n",
       "      <th>3</th>\n",
       "      <td>True</td>\n",
       "      <td>1</td>\n",
       "      <td>1.997607</td>\n",
       "      <td>-5.819791</td>\n",
       "      <td>0.002489</td>\n",
       "    </tr>\n",
       "    <tr>\n",
       "      <th>4</th>\n",
       "      <td>True</td>\n",
       "      <td>1</td>\n",
       "      <td>1.476286</td>\n",
       "      <td>-6.374748</td>\n",
       "      <td>0.001010</td>\n",
       "    </tr>\n",
       "    <tr>\n",
       "      <th>...</th>\n",
       "      <td>...</td>\n",
       "      <td>...</td>\n",
       "      <td>...</td>\n",
       "      <td>...</td>\n",
       "      <td>...</td>\n",
       "    </tr>\n",
       "    <tr>\n",
       "      <th>29995</th>\n",
       "      <td>True</td>\n",
       "      <td>1</td>\n",
       "      <td>-174.538004</td>\n",
       "      <td>167.148085</td>\n",
       "      <td>0.000000</td>\n",
       "    </tr>\n",
       "    <tr>\n",
       "      <th>29996</th>\n",
       "      <td>True</td>\n",
       "      <td>1</td>\n",
       "      <td>-173.789841</td>\n",
       "      <td>165.255433</td>\n",
       "      <td>0.000000</td>\n",
       "    </tr>\n",
       "    <tr>\n",
       "      <th>29997</th>\n",
       "      <td>True</td>\n",
       "      <td>1</td>\n",
       "      <td>-174.289741</td>\n",
       "      <td>164.673169</td>\n",
       "      <td>0.000000</td>\n",
       "    </tr>\n",
       "    <tr>\n",
       "      <th>29998</th>\n",
       "      <td>True</td>\n",
       "      <td>1</td>\n",
       "      <td>-174.589670</td>\n",
       "      <td>164.541562</td>\n",
       "      <td>0.000000</td>\n",
       "    </tr>\n",
       "    <tr>\n",
       "      <th>29999</th>\n",
       "      <td>True</td>\n",
       "      <td>1</td>\n",
       "      <td>-173.392768</td>\n",
       "      <td>164.886736</td>\n",
       "      <td>0.000000</td>\n",
       "    </tr>\n",
       "  </tbody>\n",
       "</table>\n",
       "<p>30000 rows × 5 columns</p>\n",
       "</div>"
      ],
      "text/plain": [
       "       accepted  acceptance_prob           a           b     sigma\n",
       "0          True                1    1.117637   -2.066014  0.925730\n",
       "1          True                1    1.369187   -3.628229  1.544043\n",
       "2          True                1    2.274410   -5.656103  0.010658\n",
       "3          True                1    1.997607   -5.819791  0.002489\n",
       "4          True                1    1.476286   -6.374748  0.001010\n",
       "...         ...              ...         ...         ...       ...\n",
       "29995      True                1 -174.538004  167.148085  0.000000\n",
       "29996      True                1 -173.789841  165.255433  0.000000\n",
       "29997      True                1 -174.289741  164.673169  0.000000\n",
       "29998      True                1 -174.589670  164.541562  0.000000\n",
       "29999      True                1 -173.392768  164.886736  0.000000\n",
       "\n",
       "[30000 rows x 5 columns]"
      ]
     },
     "execution_count": 9,
     "metadata": {},
     "output_type": "execute_result"
    }
   ],
   "source": [
    "df\n",
    "#it accepts every single one?\n",
    "#does it arrive to the right parameters?\n",
    "#effect of changing starting point?"
   ]
  },
  {
   "cell_type": "code",
   "execution_count": 10,
   "id": "important-situation",
   "metadata": {},
   "outputs": [
    {
     "data": {
      "text/plain": [
       "<matplotlib.legend.Legend at 0x26e8192a0a0>"
      ]
     },
     "execution_count": 10,
     "metadata": {},
     "output_type": "execute_result"
    },
    {
     "data": {
      "image/png": "[encoded data removed]",
      "text/plain": [
       "<Figure size 432x288 with 1 Axes>"
      ]
     },
     "metadata": {
      "needs_background": "light"
     },
     "output_type": "display_data"
    }
   ],
   "source": [
    "plt.plot(range(len(df)),df['a'], label='slope')\n",
    "plt.plot(range(len(df)),df['b'], label='intercept')\n",
    "plt.plot(range(len(df)),df['sigma'], label='variance')\n",
    "plt.plot(range(len(df)),df['acceptance_prob'], label='accept_prob')\n",
    "plt.xlabel(\"Time Steps\")\n",
    "plt.ylabel(\"Values\")\n",
    "plt.legend()"
   ]
  },
  {
   "cell_type": "code",
   "execution_count": 11,
   "id": "appointed-tonight",
   "metadata": {},
   "outputs": [
    {
     "data": {
      "text/plain": [
       "<matplotlib.legend.Legend at 0x26e8192a2b0>"
      ]
     },
     "execution_count": 11,
     "metadata": {},
     "output_type": "execute_result"
    },
    {
     "data": {
      "image/png": "[encoded data removed]",
      "text/plain": [
       "<Figure size 432x288 with 1 Axes>"
      ]
     },
     "metadata": {
      "needs_background": "light"
     },
     "output_type": "display_data"
    }
   ],
   "source": [
    "plt.plot(range(len(df)),df['acceptance_prob'], label='accept_prob')\n",
    "plt.xlabel(\"Time Steps\")\n",
    "plt.ylabel(\"Values\")\n",
    "plt.legend()"
   ]
  },
  {
   "cell_type": "markdown",
   "id": "daily-share",
   "metadata": {},
   "source": [
    "## The Larger Case: N(50, 5)"
   ]
  },
  {
   "cell_type": "code",
   "execution_count": 12,
   "id": "maritime-biodiversity",
   "metadata": {},
   "outputs": [
    {
     "name": "stderr",
     "output_type": "stream",
     "text": [
      "<ipython-input-3-083a8b270b4d>:39: RuntimeWarning: divide by zero encountered in double_scalars\n",
      "  acceptance_ratio = (theta_p_likelihood/theta_likelihood) * ((theta_p_prior/theta_prior) * proposal_ratio(theta, theta_prime))\n"
     ]
    }
   ],
   "source": [
    "X = np.random.rand(100)\n",
    "Y = np.random.normal(4,2,100)\n",
    "data = np.vstack((X,Y))\n",
    "samples = sample(data, 30000, 0, (0,0,1), 1)\n",
    "df = pd.DataFrame(samples)\n",
    "df[['a','b','sigma']] = pd.DataFrame(df['theta'].tolist(), index=df.index)\n",
    "df = df.drop(['theta'], axis=1)"
   ]
  },
  {
   "cell_type": "code",
   "execution_count": 13,
   "id": "excellent-speaking",
   "metadata": {},
   "outputs": [
    {
     "data": {
      "text/html": [
       "<div>\n",
       "<style scoped>\n",
       "    .dataframe tbody tr th:only-of-type {\n",
       "        vertical-align: middle;\n",
       "    }\n",
       "\n",
       "    .dataframe tbody tr th {\n",
       "        vertical-align: top;\n",
       "    }\n",
       "\n",
       "    .dataframe thead th {\n",
       "        text-align: right;\n",
       "    }\n",
       "</style>\n",
       "<table border=\"1\" class=\"dataframe\">\n",
       "  <thead>\n",
       "    <tr style=\"text-align: right;\">\n",
       "      <th></th>\n",
       "      <th>accepted</th>\n",
       "      <th>acceptance_prob</th>\n",
       "      <th>a</th>\n",
       "      <th>b</th>\n",
       "      <th>sigma</th>\n",
       "    </tr>\n",
       "  </thead>\n",
       "  <tbody>\n",
       "    <tr>\n",
       "      <th>0</th>\n",
       "      <td>True</td>\n",
       "      <td>1.000000e+00</td>\n",
       "      <td>0.031937</td>\n",
       "      <td>0.033922</td>\n",
       "      <td>1.288999</td>\n",
       "    </tr>\n",
       "    <tr>\n",
       "      <th>1</th>\n",
       "      <td>True</td>\n",
       "      <td>1.000000e+00</td>\n",
       "      <td>0.877649</td>\n",
       "      <td>-0.994294</td>\n",
       "      <td>4.020019</td>\n",
       "    </tr>\n",
       "    <tr>\n",
       "      <th>2</th>\n",
       "      <td>False</td>\n",
       "      <td>0.000000e+00</td>\n",
       "      <td>0.877649</td>\n",
       "      <td>-0.994294</td>\n",
       "      <td>4.020019</td>\n",
       "    </tr>\n",
       "    <tr>\n",
       "      <th>3</th>\n",
       "      <td>False</td>\n",
       "      <td>1.841073e-11</td>\n",
       "      <td>0.877649</td>\n",
       "      <td>-0.994294</td>\n",
       "      <td>4.020019</td>\n",
       "    </tr>\n",
       "    <tr>\n",
       "      <th>4</th>\n",
       "      <td>False</td>\n",
       "      <td>2.313331e-08</td>\n",
       "      <td>0.877649</td>\n",
       "      <td>-0.994294</td>\n",
       "      <td>4.020019</td>\n",
       "    </tr>\n",
       "    <tr>\n",
       "      <th>...</th>\n",
       "      <td>...</td>\n",
       "      <td>...</td>\n",
       "      <td>...</td>\n",
       "      <td>...</td>\n",
       "      <td>...</td>\n",
       "    </tr>\n",
       "    <tr>\n",
       "      <th>29995</th>\n",
       "      <td>False</td>\n",
       "      <td>0.000000e+00</td>\n",
       "      <td>-0.297912</td>\n",
       "      <td>3.865490</td>\n",
       "      <td>1.933603</td>\n",
       "    </tr>\n",
       "    <tr>\n",
       "      <th>29996</th>\n",
       "      <td>False</td>\n",
       "      <td>6.300834e-02</td>\n",
       "      <td>-0.297912</td>\n",
       "      <td>3.865490</td>\n",
       "      <td>1.933603</td>\n",
       "    </tr>\n",
       "    <tr>\n",
       "      <th>29997</th>\n",
       "      <td>False</td>\n",
       "      <td>7.621753e-15</td>\n",
       "      <td>-0.297912</td>\n",
       "      <td>3.865490</td>\n",
       "      <td>1.933603</td>\n",
       "    </tr>\n",
       "    <tr>\n",
       "      <th>29998</th>\n",
       "      <td>False</td>\n",
       "      <td>9.559716e-22</td>\n",
       "      <td>-0.297912</td>\n",
       "      <td>3.865490</td>\n",
       "      <td>1.933603</td>\n",
       "    </tr>\n",
       "    <tr>\n",
       "      <th>29999</th>\n",
       "      <td>False</td>\n",
       "      <td>0.000000e+00</td>\n",
       "      <td>-0.297912</td>\n",
       "      <td>3.865490</td>\n",
       "      <td>1.933603</td>\n",
       "    </tr>\n",
       "  </tbody>\n",
       "</table>\n",
       "<p>30000 rows × 5 columns</p>\n",
       "</div>"
      ],
      "text/plain": [
       "       accepted  acceptance_prob         a         b     sigma\n",
       "0          True     1.000000e+00  0.031937  0.033922  1.288999\n",
       "1          True     1.000000e+00  0.877649 -0.994294  4.020019\n",
       "2         False     0.000000e+00  0.877649 -0.994294  4.020019\n",
       "3         False     1.841073e-11  0.877649 -0.994294  4.020019\n",
       "4         False     2.313331e-08  0.877649 -0.994294  4.020019\n",
       "...         ...              ...       ...       ...       ...\n",
       "29995     False     0.000000e+00 -0.297912  3.865490  1.933603\n",
       "29996     False     6.300834e-02 -0.297912  3.865490  1.933603\n",
       "29997     False     7.621753e-15 -0.297912  3.865490  1.933603\n",
       "29998     False     9.559716e-22 -0.297912  3.865490  1.933603\n",
       "29999     False     0.000000e+00 -0.297912  3.865490  1.933603\n",
       "\n",
       "[30000 rows x 5 columns]"
      ]
     },
     "execution_count": 13,
     "metadata": {},
     "output_type": "execute_result"
    }
   ],
   "source": [
    "df"
   ]
  },
  {
   "cell_type": "code",
   "execution_count": 14,
   "id": "broken-generator",
   "metadata": {},
   "outputs": [
    {
     "data": {
      "text/plain": [
       "<matplotlib.legend.Legend at 0x26effc395e0>"
      ]
     },
     "execution_count": 14,
     "metadata": {},
     "output_type": "execute_result"
    },
    {
     "data": {
      "image/png": "[encoded data removed]",
      "text/plain": [
       "<Figure size 432x288 with 1 Axes>"
      ]
     },
     "metadata": {
      "needs_background": "light"
     },
     "output_type": "display_data"
    }
   ],
   "source": [
    "plt.plot(range(len(df)),df['a'], label='slope')\n",
    "plt.plot(range(len(df)),df['b'], label='intercept')\n",
    "plt.plot(range(len(df)),df['sigma'], label='variance')\n",
    "plt.plot(range(len(df)),df['acceptance_prob'], label='accept_prob')\n",
    "plt.xlabel(\"Time Steps\")\n",
    "plt.ylabel(\"Values\")\n",
    "plt.legend()"
   ]
  },
  {
   "cell_type": "code",
   "execution_count": 15,
   "id": "advised-guitar",
   "metadata": {},
   "outputs": [
    {
     "data": {
      "text/plain": [
       "<matplotlib.legend.Legend at 0x26e824ecf40>"
      ]
     },
     "execution_count": 15,
     "metadata": {},
     "output_type": "execute_result"
    },
    {
     "data": {
      "image/png": "[encoded data removed]",
      "text/plain": [
       "<Figure size 432x288 with 1 Axes>"
      ]
     },
     "metadata": {
      "needs_background": "light"
     },
     "output_type": "display_data"
    }
   ],
   "source": [
    "plt.plot(range(len(df)),df['acceptance_prob'], label='accept_prob')\n",
    "plt.xlabel(\"Time Steps\")\n",
    "plt.ylabel(\"Values\")\n",
    "plt.legend()"
   ]
  },
  {
   "cell_type": "markdown",
   "id": "needed-collaboration",
   "metadata": {},
   "source": [
    "## NFL Data"
   ]
  },
  {
   "cell_type": "code",
   "execution_count": 25,
   "id": "descending-shaft",
   "metadata": {},
   "outputs": [],
   "source": [
    "#per https://gist.github.com/Deryck97/dff8d33e9f841568201a2a0d5519ac5e\n",
    "YEAR = 2023\n",
    "nfl_df = pd.read_csv('https://github.com/nflverse/nflverse-data/releases/download/pbp/' \\\n",
    "                   'play_by_play_' + str(YEAR) + '.csv.gz',\n",
    "                   compression= 'gzip', low_memory= False)"
   ]
  },
  {
   "cell_type": "code",
   "execution_count": 27,
   "id": "horizontal-button",
   "metadata": {},
   "outputs": [
    {
     "data": {
      "text/plain": [
       "90       END QUARTER 2\n",
       "174           END GAME\n",
       "251      END QUARTER 2\n",
       "341           END GAME\n",
       "416      END QUARTER 2\n",
       "             ...      \n",
       "49282         END GAME\n",
       "49371    END QUARTER 2\n",
       "49457         END GAME\n",
       "49538    END QUARTER 2\n",
       "49664         END GAME\n",
       "Name: desc, Length: 570, dtype: object"
      ]
     },
     "execution_count": 27,
     "metadata": {},
     "output_type": "execute_result"
    }
   ],
   "source": [
    "nfl_df[nfl_df['epa'].isna()]['desc']"
   ]
  },
  {
   "cell_type": "code",
   "execution_count": 29,
   "id": "intense-singing",
   "metadata": {
    "scrolled": true
   },
   "outputs": [
    {
     "data": {
      "image/png": "[encoded data removed]",
      "text/plain": [
       "<Figure size 432x288 with 1 Axes>"
      ]
     },
     "metadata": {
      "needs_background": "light"
     },
     "output_type": "display_data"
    }
   ],
   "source": [
    "plt.hist(nfl_df['epa'])\n",
    "plt.xlabel('EPA')\n",
    "plt.ylabel('Count')\n",
    "plt.title('Distribution of EPA for 2023-2024 NFL Season')\n",
    "plt.savefig('plots/epa_distr_2023.png')"
   ]
  }
 ],
 "metadata": {
  "kernelspec": {
   "display_name": "Python 3",
   "language": "python",
   "name": "python3"
  },
  "language_info": {
   "codemirror_mode": {
    "name": "ipython",
    "version": 3
   },
   "file_extension": ".py",
   "mimetype": "text/x-python",
   "name": "python",
   "nbconvert_exporter": "python",
   "pygments_lexer": "ipython3",
   "version": "3.8.7"
  }
 },
 "nbformat": 4,
 "nbformat_minor": 5
}
