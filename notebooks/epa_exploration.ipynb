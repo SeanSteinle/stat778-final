{
 "cells": [
  {
   "cell_type": "markdown",
   "id": "metallic-dutch",
   "metadata": {},
   "source": [
    "# Applied Study Exploratory Data Analysis\n",
    "***Sean Steinle***\n",
    "\n",
    "## Table of Contents\n",
    "1. [Exploring EPA](#Exploring-EPA)\n",
    "2. [Exploring Potential Predictors](#Exploring-Potential-Predictors)\n",
    "    - [Yards To Go](#Yards-To-Go)\n",
    "    - [Yardline](#Yardline)\n",
    "    - [In Search of a Latent Variable](#In-Search-of-a-Latent-Variable)\n",
    "3. [A Passable Substitute](#A-Passable-Substitute)\n",
    "\n",
    "In this notebook, I'll load and explore the dataset that I'm working with for my applied study: the nflfastR dataset. Specifically, we'll look at the distribution of expected points added (EPA) and any other variables that could serve as good predictors of EPA."
   ]
  },
  {
   "cell_type": "code",
   "execution_count": 1,
   "id": "hidden-spine",
   "metadata": {},
   "outputs": [],
   "source": [
    "import pandas as pd\n",
    "import numpy as np\n",
    "import matplotlib.pyplot as plt\n",
    "\n",
    "from sklearn.decomposition import PCA\n",
    "from sklearn.linear_model import LinearRegression, Lasso\n",
    "from sklearn.metrics import mean_squared_error\n",
    "from sklearn.model_selection import train_test_split"
   ]
  },
  {
   "cell_type": "code",
   "execution_count": 2,
   "id": "funky-naples",
   "metadata": {},
   "outputs": [],
   "source": [
    "#per https://gist.github.com/Deryck97/dff8d33e9f841568201a2a0d5519ac5e\n",
    "YEAR = 2023\n",
    "nfl_df = pd.read_csv('https://github.com/nflverse/nflverse-data/releases/download/pbp/' \\\n",
    "                   'play_by_play_' + str(YEAR) + '.csv.gz',\n",
    "                   compression= 'gzip', low_memory= False)"
   ]
  },
  {
   "cell_type": "markdown",
   "id": "devoted-glass",
   "metadata": {},
   "source": [
    "## Exploring EPA"
   ]
  },
  {
   "cell_type": "code",
   "execution_count": 3,
   "id": "controlling-services",
   "metadata": {},
   "outputs": [
    {
     "data": {
      "text/plain": [
       "0        0.000000\n",
       "1        0.000000\n",
       "2       -0.336103\n",
       "3        0.703308\n",
       "4        0.469799\n",
       "           ...   \n",
       "49660    1.728891\n",
       "49661   -0.330699\n",
       "49662   -0.637115\n",
       "49663    3.102806\n",
       "49664         NaN\n",
       "Name: epa, Length: 49665, dtype: float64"
      ]
     },
     "execution_count": 3,
     "metadata": {},
     "output_type": "execute_result"
    }
   ],
   "source": [
    "#nflfastR has excellent field descriptions here: https://www.nflfastr.com/articles/field_descriptions.html\n",
    "nfl_df['epa']"
   ]
  },
  {
   "cell_type": "markdown",
   "id": "random-administrator",
   "metadata": {},
   "source": [
    "Why is there a Nan?"
   ]
  },
  {
   "cell_type": "code",
   "execution_count": 4,
   "id": "breathing-donna",
   "metadata": {},
   "outputs": [
    {
     "data": {
      "text/plain": [
       "570"
      ]
     },
     "execution_count": 4,
     "metadata": {},
     "output_type": "execute_result"
    }
   ],
   "source": [
    "nfl_df['epa'].isna().sum()"
   ]
  },
  {
   "cell_type": "code",
   "execution_count": 5,
   "id": "integrated-society",
   "metadata": {},
   "outputs": [
    {
     "data": {
      "text/plain": [
       "90       END QUARTER 2\n",
       "174           END GAME\n",
       "251      END QUARTER 2\n",
       "341           END GAME\n",
       "416      END QUARTER 2\n",
       "             ...      \n",
       "49282         END GAME\n",
       "49371    END QUARTER 2\n",
       "49457         END GAME\n",
       "49538    END QUARTER 2\n",
       "49664         END GAME\n",
       "Name: desc, Length: 570, dtype: object"
      ]
     },
     "execution_count": 5,
     "metadata": {},
     "output_type": "execute_result"
    }
   ],
   "source": [
    "nfl_df[nfl_df['epa'].isna()]['desc']"
   ]
  },
  {
   "cell_type": "markdown",
   "id": "functioning-canal",
   "metadata": {},
   "source": [
    "There are 272 games in a season, so 2 nans per game gets us close to 570. Let's move on!"
   ]
  },
  {
   "cell_type": "code",
   "execution_count": 6,
   "id": "guilty-matrix",
   "metadata": {},
   "outputs": [
    {
     "data": {
      "image/png": "[encoded data removed]",
      "text/plain": [
       "<Figure size 432x288 with 1 Axes>"
      ]
     },
     "metadata": {
      "needs_background": "light"
     },
     "output_type": "display_data"
    }
   ],
   "source": [
    "plt.hist(nfl_df['epa'])\n",
    "plt.xlabel('EPA')\n",
    "plt.ylabel('Count')\n",
    "plt.title('Distribution of EPA for 2023-2024 NFL Season')\n",
    "plt.savefig('plots/epa_distr_2023.png')"
   ]
  },
  {
   "cell_type": "markdown",
   "id": "resident-helicopter",
   "metadata": {},
   "source": [
    "## Exploring Potential Predictors\n",
    "\n",
    "I hypothesize that there is a predictive relationship between presnap variables that are under the coach's control and the resulting EPA of the play. Let's examine a few of these variables and their relationship to EPA."
   ]
  },
  {
   "cell_type": "markdown",
   "id": "sorted-router",
   "metadata": {},
   "source": [
    "### Yards To Go"
   ]
  },
  {
   "cell_type": "code",
   "execution_count": 7,
   "id": "excited-gateway",
   "metadata": {},
   "outputs": [
    {
     "data": {
      "image/png": "[encoded data removed]",
      "text/plain": [
       "<Figure size 432x288 with 1 Axes>"
      ]
     },
     "metadata": {
      "needs_background": "light"
     },
     "output_type": "display_data"
    }
   ],
   "source": [
    "plt.hist(nfl_df['ydstogo'])\n",
    "plt.xlabel('Yards To First Down')\n",
    "plt.ylabel('Count')\n",
    "plt.title('Distribution of Distances To First Down in 2023-2024 NFL Season')\n",
    "plt.savefig('plots/distance_2023.png')"
   ]
  },
  {
   "cell_type": "code",
   "execution_count": 8,
   "id": "tracked-tablet",
   "metadata": {},
   "outputs": [
    {
     "data": {
      "text/plain": [
       "(array([10073.,  1687.,  1790.,  1918.,  4519.,  5910., 20673.,  2218.,\n",
       "          817.,    60.]),\n",
       " array([0.        , 0.36888795, 0.73777589, 1.10666384, 1.47555178,\n",
       "        1.84443973, 2.21332767, 2.58221562, 2.95110356, 3.31999151,\n",
       "        3.68887945]),\n",
       " <BarContainer object of 10 artists>)"
      ]
     },
     "execution_count": 8,
     "metadata": {},
     "output_type": "execute_result"
    },
    {
     "data": {
      "image/png": "[encoded data removed]",
      "text/plain": [
       "<Figure size 432x288 with 1 Axes>"
      ]
     },
     "metadata": {
      "needs_background": "light"
     },
     "output_type": "display_data"
    }
   ],
   "source": [
    "from math import log\n",
    "log_ydstogo = nfl_df['ydstogo'].apply(lambda x: log(x) if x != 0 else 0.00001)\n",
    "plt.hist(log_ydstogo)"
   ]
  },
  {
   "cell_type": "markdown",
   "id": "compound-brighton",
   "metadata": {},
   "source": [
    "This is probably one of the better predictors for EPA. It follows an interesting distribution, largely due to a few factors:\n",
    "- First down always starts at 1st and 10. That's why the mode is particularly large.\n",
    "- Plays are more often than not, positive. So the only way to get over 10 ydstogo are penalties or lost yards during a play (sacks, tackled for loss, etc.)."
   ]
  },
  {
   "cell_type": "code",
   "execution_count": 9,
   "id": "approved-pearl",
   "metadata": {},
   "outputs": [
    {
     "data": {
      "text/html": [
       "<div>\n",
       "<style scoped>\n",
       "    .dataframe tbody tr th:only-of-type {\n",
       "        vertical-align: middle;\n",
       "    }\n",
       "\n",
       "    .dataframe tbody tr th {\n",
       "        vertical-align: top;\n",
       "    }\n",
       "\n",
       "    .dataframe thead th {\n",
       "        text-align: right;\n",
       "    }\n",
       "</style>\n",
       "<table border=\"1\" class=\"dataframe\">\n",
       "  <thead>\n",
       "    <tr style=\"text-align: right;\">\n",
       "      <th></th>\n",
       "      <th>epa</th>\n",
       "      <th>ydstogo</th>\n",
       "    </tr>\n",
       "  </thead>\n",
       "  <tbody>\n",
       "    <tr>\n",
       "      <th>epa</th>\n",
       "      <td>1.000000</td>\n",
       "      <td>-0.023952</td>\n",
       "    </tr>\n",
       "    <tr>\n",
       "      <th>ydstogo</th>\n",
       "      <td>-0.023952</td>\n",
       "      <td>1.000000</td>\n",
       "    </tr>\n",
       "  </tbody>\n",
       "</table>\n",
       "</div>"
      ],
      "text/plain": [
       "              epa   ydstogo\n",
       "epa      1.000000 -0.023952\n",
       "ydstogo -0.023952  1.000000"
      ]
     },
     "execution_count": 9,
     "metadata": {},
     "output_type": "execute_result"
    }
   ],
   "source": [
    "nfl_df[['epa','ydstogo']].corr()"
   ]
  },
  {
   "cell_type": "code",
   "execution_count": 10,
   "id": "statistical-registrar",
   "metadata": {},
   "outputs": [
    {
     "data": {
      "image/png": "[encoded data removed]",
      "text/plain": [
       "<Figure size 432x288 with 1 Axes>"
      ]
     },
     "metadata": {
      "needs_background": "light"
     },
     "output_type": "display_data"
    }
   ],
   "source": [
    "plt.scatter('ydstogo','epa',data=nfl_df)\n",
    "plt.xlabel('Yards to First Down')\n",
    "plt.ylabel('EPA')\n",
    "plt.title('Relationship between Yards to First Down and EPA in the 2023-2024 NFL Season')\n",
    "plt.savefig('plots/distance_epa_2023.png')"
   ]
  },
  {
   "cell_type": "markdown",
   "id": "casual-order",
   "metadata": {},
   "source": [
    "Interestingly, there isn't a linear correlation between ydstogo and EPA. This is likely because distance is only useful for EPA as a secondary effect--2nd and 1 is great, but 2nd and 1 on your 14 yardline vs. the other team's 8 yardline is a huge difference in play value. Instead of ydstogo, maybe we should use overall field position?"
   ]
  },
  {
   "cell_type": "markdown",
   "id": "minimal-palestinian",
   "metadata": {},
   "source": [
    "### Yardline"
   ]
  },
  {
   "cell_type": "code",
   "execution_count": 11,
   "id": "weighted-light",
   "metadata": {},
   "outputs": [
    {
     "data": {
      "text/html": [
       "<div>\n",
       "<style scoped>\n",
       "    .dataframe tbody tr th:only-of-type {\n",
       "        vertical-align: middle;\n",
       "    }\n",
       "\n",
       "    .dataframe tbody tr th {\n",
       "        vertical-align: top;\n",
       "    }\n",
       "\n",
       "    .dataframe thead th {\n",
       "        text-align: right;\n",
       "    }\n",
       "</style>\n",
       "<table border=\"1\" class=\"dataframe\">\n",
       "  <thead>\n",
       "    <tr style=\"text-align: right;\">\n",
       "      <th></th>\n",
       "      <th>epa</th>\n",
       "      <th>yardline_100</th>\n",
       "    </tr>\n",
       "  </thead>\n",
       "  <tbody>\n",
       "    <tr>\n",
       "      <th>epa</th>\n",
       "      <td>1.000000</td>\n",
       "      <td>-0.006108</td>\n",
       "    </tr>\n",
       "    <tr>\n",
       "      <th>yardline_100</th>\n",
       "      <td>-0.006108</td>\n",
       "      <td>1.000000</td>\n",
       "    </tr>\n",
       "  </tbody>\n",
       "</table>\n",
       "</div>"
      ],
      "text/plain": [
       "                   epa  yardline_100\n",
       "epa           1.000000     -0.006108\n",
       "yardline_100 -0.006108      1.000000"
      ]
     },
     "execution_count": 11,
     "metadata": {},
     "output_type": "execute_result"
    }
   ],
   "source": [
    "nfl_df[['epa','yardline_100']].corr()"
   ]
  },
  {
   "cell_type": "markdown",
   "id": "accurate-still",
   "metadata": {},
   "source": [
    "Hm, this isn't great either? I wonder why."
   ]
  },
  {
   "cell_type": "code",
   "execution_count": 12,
   "id": "miniature-thompson",
   "metadata": {},
   "outputs": [
    {
     "data": {
      "image/png": "[encoded data removed]",
      "text/plain": [
       "<Figure size 432x288 with 1 Axes>"
      ]
     },
     "metadata": {
      "needs_background": "light"
     },
     "output_type": "display_data"
    }
   ],
   "source": [
    "plt.scatter('yardline_100','epa',data=nfl_df)\n",
    "plt.xlabel('Yardline')\n",
    "plt.ylabel('EPA')\n",
    "plt.title('Relationship between Yardline and EPA in the 2023-2024 NFL Season')\n",
    "plt.savefig('plots/yardline_epa_2023.png')"
   ]
  },
  {
   "cell_type": "markdown",
   "id": "hybrid-morgan",
   "metadata": {},
   "source": [
    "Hm, intuition is off! No signal here."
   ]
  },
  {
   "cell_type": "code",
   "execution_count": 13,
   "id": "north-president",
   "metadata": {},
   "outputs": [],
   "source": [
    "corrs = nfl_df.corr()\n",
    "epa_corrs = corrs['epa'].dropna()"
   ]
  },
  {
   "cell_type": "code",
   "execution_count": 14,
   "id": "secure-tiffany",
   "metadata": {},
   "outputs": [
    {
     "data": {
      "text/plain": [
       "0.006089244064173143"
      ]
     },
     "execution_count": 14,
     "metadata": {},
     "output_type": "execute_result"
    }
   ],
   "source": [
    "epa_corrs['pass_attempt']"
   ]
  },
  {
   "cell_type": "code",
   "execution_count": 15,
   "id": "together-lindsay",
   "metadata": {},
   "outputs": [
    {
     "data": {
      "text/plain": [
       "fumble_recovery_2_yards   -0.485512\n",
       "fumble_recovery_1_yards   -0.343824\n",
       "interception              -0.333840\n",
       "third_down_failed         -0.309399\n",
       "incomplete_pass           -0.255698\n",
       "fumble_lost               -0.252468\n",
       "sack                      -0.245817\n",
       "return_touchdown          -0.233447\n",
       "fumble_forced             -0.209001\n",
       "fourth_down_failed        -0.201573\n",
       "rushing_yards              0.683456\n",
       "yac_epa                    0.690731\n",
       "vegas_wpa                  0.715898\n",
       "receiving_yards            0.748493\n",
       "passing_yards              0.748531\n",
       "wpa                        0.751961\n",
       "lateral_receiving_yards    0.769887\n",
       "qb_epa                     0.987720\n",
       "lateral_rushing_yards      0.999960\n",
       "epa                        1.000000\n",
       "Name: epa, dtype: float64"
      ]
     },
     "execution_count": 15,
     "metadata": {},
     "output_type": "execute_result"
    }
   ],
   "source": [
    "spread = 20\n",
    "most_corr = pd.concat([epa_corrs.sort_values().head(int(spread/2)),epa_corrs.sort_values().tail(int(spread/2))])\n",
    "most_corr"
   ]
  },
  {
   "cell_type": "markdown",
   "id": "metropolitan-title",
   "metadata": {},
   "source": [
    "Unfortunately, it looks like most of these stats are determined post-snap. This means we will have to train a simple linear model and compose a latent variable which summarizes our presnap predictors.\n",
    "\n",
    "I should note that this is not unexpected. If there was a golden presnap predictor of postsnap success, we wouldn't have coaches. That's why this problem is worth solving!"
   ]
  },
  {
   "cell_type": "markdown",
   "id": "dried-appliance",
   "metadata": {},
   "source": [
    "### In Search of a Latent Variable"
   ]
  },
  {
   "cell_type": "markdown",
   "id": "improved-transparency",
   "metadata": {},
   "source": [
    "I looked through all ~400 or so variables, and it looks like there are only 5 core pre-snap characteristics that we need to capture:\n",
    "- **current score** - measured by win probability\n",
    "- **time remaining** - measured by ordinal rank of series\n",
    "- **field position** - measured by inverse of yards to opponent endzone\n",
    "- **down and distance** - measured by yards to first down and down\n",
    "- **play type** - measured by whether qb drops back\n",
    "    - It's debatable whether this is a presnap statistic, but even in the case of audibles the playcall is set before the ball is snapped. Things like QB scrambles are really the only scenarios where the play type will change as a result of postsnap dynamics, and I can't think of any other examples of this (a run play never turns into a pass play).\n",
    "    \n",
    "Obviously these characteristics will be related in some ways, but the beautiful thing about principal components analysis is that it removes the correlation. Let's try it on these factors."
   ]
  },
  {
   "cell_type": "code",
   "execution_count": 16,
   "id": "corporate-carol",
   "metadata": {},
   "outputs": [
    {
     "data": {
      "text/plain": [
       "wp               285\n",
       "series             0\n",
       "yardline_100    3460\n",
       "ydstogo            0\n",
       "down            7740\n",
       "qb_dropback     1452\n",
       "epa              570\n",
       "dtype: int64"
      ]
     },
     "execution_count": 16,
     "metadata": {},
     "output_type": "execute_result"
    }
   ],
   "source": [
    "presnap_df = nfl_df[['wp','series','yardline_100','ydstogo','down','qb_dropback','epa']]\n",
    "presnap_df.isna().sum()"
   ]
  },
  {
   "cell_type": "markdown",
   "id": "pregnant-vampire",
   "metadata": {},
   "source": [
    "Why so many NaNs for down? Guessing most of these are special teams plays and things of that nature, in which case it'd be fine to drop them. Let's see!"
   ]
  },
  {
   "cell_type": "code",
   "execution_count": 17,
   "id": "italic-addition",
   "metadata": {},
   "outputs": [
    {
     "data": {
      "text/plain": [
       "0                                                     GAME\n",
       "1        5-M.Prater kicks 65 yards from ARI 35 to end z...\n",
       "26       6-J.Slye extra point is GOOD, Center-54-C.Chee...\n",
       "27       6-J.Slye kicks 65 yards from WAS 35 to end zon...\n",
       "32                             Timeout #1 by ARI at 01:43.\n",
       "                               ...                        \n",
       "49631    7-H.Butker kicks 65 yards from KC 35 to end zo...\n",
       "49648    4-J.Moody kicks 65 yards from SF 35 to end zon...\n",
       "49652                           Timeout #1 by KC at 06:05.\n",
       "49658                           Timeout #1 by SF at 02:48.\n",
       "49664                                             END GAME\n",
       "Name: desc, Length: 7740, dtype: object"
      ]
     },
     "execution_count": 17,
     "metadata": {},
     "output_type": "execute_result"
    }
   ],
   "source": [
    "nfl_df[nfl_df['down'].isna()]['desc']"
   ]
  },
  {
   "cell_type": "markdown",
   "id": "premium-elder",
   "metadata": {},
   "source": [
    "Yep! Lot of kickoffs, timeouts, etc."
   ]
  },
  {
   "cell_type": "code",
   "execution_count": 18,
   "id": "japanese-construction",
   "metadata": {},
   "outputs": [
    {
     "data": {
      "text/html": [
       "<div>\n",
       "<style scoped>\n",
       "    .dataframe tbody tr th:only-of-type {\n",
       "        vertical-align: middle;\n",
       "    }\n",
       "\n",
       "    .dataframe tbody tr th {\n",
       "        vertical-align: top;\n",
       "    }\n",
       "\n",
       "    .dataframe thead th {\n",
       "        text-align: right;\n",
       "    }\n",
       "</style>\n",
       "<table border=\"1\" class=\"dataframe\">\n",
       "  <thead>\n",
       "    <tr style=\"text-align: right;\">\n",
       "      <th></th>\n",
       "      <th>wp</th>\n",
       "      <th>series</th>\n",
       "      <th>yardline_100</th>\n",
       "      <th>ydstogo</th>\n",
       "      <th>down</th>\n",
       "      <th>qb_dropback</th>\n",
       "      <th>epa</th>\n",
       "    </tr>\n",
       "  </thead>\n",
       "  <tbody>\n",
       "    <tr>\n",
       "      <th>2</th>\n",
       "      <td>0.546262</td>\n",
       "      <td>1</td>\n",
       "      <td>75.0</td>\n",
       "      <td>10</td>\n",
       "      <td>1.0</td>\n",
       "      <td>0.0</td>\n",
       "      <td>-0.336103</td>\n",
       "    </tr>\n",
       "    <tr>\n",
       "      <th>3</th>\n",
       "      <td>0.539621</td>\n",
       "      <td>1</td>\n",
       "      <td>72.0</td>\n",
       "      <td>7</td>\n",
       "      <td>2.0</td>\n",
       "      <td>1.0</td>\n",
       "      <td>0.703308</td>\n",
       "    </tr>\n",
       "    <tr>\n",
       "      <th>4</th>\n",
       "      <td>0.555987</td>\n",
       "      <td>1</td>\n",
       "      <td>66.0</td>\n",
       "      <td>1</td>\n",
       "      <td>3.0</td>\n",
       "      <td>0.0</td>\n",
       "      <td>0.469799</td>\n",
       "    </tr>\n",
       "    <tr>\n",
       "      <th>5</th>\n",
       "      <td>0.572573</td>\n",
       "      <td>2</td>\n",
       "      <td>64.0</td>\n",
       "      <td>10</td>\n",
       "      <td>1.0</td>\n",
       "      <td>1.0</td>\n",
       "      <td>-0.521544</td>\n",
       "    </tr>\n",
       "    <tr>\n",
       "      <th>6</th>\n",
       "      <td>0.554537</td>\n",
       "      <td>2</td>\n",
       "      <td>64.0</td>\n",
       "      <td>10</td>\n",
       "      <td>2.0</td>\n",
       "      <td>1.0</td>\n",
       "      <td>1.173155</td>\n",
       "    </tr>\n",
       "    <tr>\n",
       "      <th>...</th>\n",
       "      <td>...</td>\n",
       "      <td>...</td>\n",
       "      <td>...</td>\n",
       "      <td>...</td>\n",
       "      <td>...</td>\n",
       "      <td>...</td>\n",
       "      <td>...</td>\n",
       "    </tr>\n",
       "    <tr>\n",
       "      <th>49659</th>\n",
       "      <td>0.560584</td>\n",
       "      <td>67</td>\n",
       "      <td>37.0</td>\n",
       "      <td>6</td>\n",
       "      <td>2.0</td>\n",
       "      <td>1.0</td>\n",
       "      <td>0.552538</td>\n",
       "    </tr>\n",
       "    <tr>\n",
       "      <th>49660</th>\n",
       "      <td>0.648316</td>\n",
       "      <td>67</td>\n",
       "      <td>32.0</td>\n",
       "      <td>1</td>\n",
       "      <td>3.0</td>\n",
       "      <td>1.0</td>\n",
       "      <td>1.728891</td>\n",
       "    </tr>\n",
       "    <tr>\n",
       "      <th>49661</th>\n",
       "      <td>0.857837</td>\n",
       "      <td>68</td>\n",
       "      <td>13.0</td>\n",
       "      <td>10</td>\n",
       "      <td>1.0</td>\n",
       "      <td>0.0</td>\n",
       "      <td>-0.330699</td>\n",
       "    </tr>\n",
       "    <tr>\n",
       "      <th>49662</th>\n",
       "      <td>0.849875</td>\n",
       "      <td>68</td>\n",
       "      <td>10.0</td>\n",
       "      <td>7</td>\n",
       "      <td>2.0</td>\n",
       "      <td>1.0</td>\n",
       "      <td>-0.637115</td>\n",
       "    </tr>\n",
       "    <tr>\n",
       "      <th>49663</th>\n",
       "      <td>0.871640</td>\n",
       "      <td>69</td>\n",
       "      <td>3.0</td>\n",
       "      <td>3</td>\n",
       "      <td>1.0</td>\n",
       "      <td>1.0</td>\n",
       "      <td>3.102806</td>\n",
       "    </tr>\n",
       "  </tbody>\n",
       "</table>\n",
       "<p>41917 rows × 7 columns</p>\n",
       "</div>"
      ],
      "text/plain": [
       "             wp  series  yardline_100  ydstogo  down  qb_dropback       epa\n",
       "2      0.546262       1          75.0       10   1.0          0.0 -0.336103\n",
       "3      0.539621       1          72.0        7   2.0          1.0  0.703308\n",
       "4      0.555987       1          66.0        1   3.0          0.0  0.469799\n",
       "5      0.572573       2          64.0       10   1.0          1.0 -0.521544\n",
       "6      0.554537       2          64.0       10   2.0          1.0  1.173155\n",
       "...         ...     ...           ...      ...   ...          ...       ...\n",
       "49659  0.560584      67          37.0        6   2.0          1.0  0.552538\n",
       "49660  0.648316      67          32.0        1   3.0          1.0  1.728891\n",
       "49661  0.857837      68          13.0       10   1.0          0.0 -0.330699\n",
       "49662  0.849875      68          10.0        7   2.0          1.0 -0.637115\n",
       "49663  0.871640      69           3.0        3   1.0          1.0  3.102806\n",
       "\n",
       "[41917 rows x 7 columns]"
      ]
     },
     "execution_count": 18,
     "metadata": {},
     "output_type": "execute_result"
    }
   ],
   "source": [
    "presnap_df = presnap_df.dropna()\n",
    "presnap_df"
   ]
  },
  {
   "cell_type": "markdown",
   "id": "monthly-encounter",
   "metadata": {},
   "source": [
    "Great, only lost about 8,000 entries as well!"
   ]
  },
  {
   "cell_type": "code",
   "execution_count": 19,
   "id": "according-grounds",
   "metadata": {},
   "outputs": [
    {
     "name": "stdout",
     "output_type": "stream",
     "text": [
      "[0.67217422]\n"
     ]
    }
   ],
   "source": [
    "pca_model = PCA(n_components=1)\n",
    "pca_model.fit(presnap_df.drop('epa',axis=1))\n",
    "print(pca_model.explained_variance_ratio_)"
   ]
  },
  {
   "cell_type": "code",
   "execution_count": 20,
   "id": "passive-tobago",
   "metadata": {},
   "outputs": [
    {
     "data": {
      "text/html": [
       "<div>\n",
       "<style scoped>\n",
       "    .dataframe tbody tr th:only-of-type {\n",
       "        vertical-align: middle;\n",
       "    }\n",
       "\n",
       "    .dataframe tbody tr th {\n",
       "        vertical-align: top;\n",
       "    }\n",
       "\n",
       "    .dataframe thead th {\n",
       "        text-align: right;\n",
       "    }\n",
       "</style>\n",
       "<table border=\"1\" class=\"dataframe\">\n",
       "  <thead>\n",
       "    <tr style=\"text-align: right;\">\n",
       "      <th></th>\n",
       "      <th>wp</th>\n",
       "      <th>series</th>\n",
       "      <th>yardline_100</th>\n",
       "      <th>ydstogo</th>\n",
       "      <th>down</th>\n",
       "      <th>qb_dropback</th>\n",
       "      <th>epa</th>\n",
       "      <th>PC1</th>\n",
       "    </tr>\n",
       "  </thead>\n",
       "  <tbody>\n",
       "    <tr>\n",
       "      <th>2</th>\n",
       "      <td>0.546262</td>\n",
       "      <td>1</td>\n",
       "      <td>75.0</td>\n",
       "      <td>10</td>\n",
       "      <td>1.0</td>\n",
       "      <td>0.0</td>\n",
       "      <td>-0.336103</td>\n",
       "      <td>-26.258627</td>\n",
       "    </tr>\n",
       "    <tr>\n",
       "      <th>3</th>\n",
       "      <td>0.539621</td>\n",
       "      <td>1</td>\n",
       "      <td>72.0</td>\n",
       "      <td>7</td>\n",
       "      <td>2.0</td>\n",
       "      <td>1.0</td>\n",
       "      <td>0.703308</td>\n",
       "      <td>-23.155831</td>\n",
       "    </tr>\n",
       "    <tr>\n",
       "      <th>4</th>\n",
       "      <td>0.555987</td>\n",
       "      <td>1</td>\n",
       "      <td>66.0</td>\n",
       "      <td>1</td>\n",
       "      <td>3.0</td>\n",
       "      <td>0.0</td>\n",
       "      <td>0.469799</td>\n",
       "      <td>-16.948915</td>\n",
       "    </tr>\n",
       "    <tr>\n",
       "      <th>5</th>\n",
       "      <td>0.572573</td>\n",
       "      <td>2</td>\n",
       "      <td>64.0</td>\n",
       "      <td>10</td>\n",
       "      <td>1.0</td>\n",
       "      <td>1.0</td>\n",
       "      <td>-0.521544</td>\n",
       "      <td>-15.222683</td>\n",
       "    </tr>\n",
       "    <tr>\n",
       "      <th>6</th>\n",
       "      <td>0.554537</td>\n",
       "      <td>2</td>\n",
       "      <td>64.0</td>\n",
       "      <td>10</td>\n",
       "      <td>2.0</td>\n",
       "      <td>1.0</td>\n",
       "      <td>1.173155</td>\n",
       "      <td>-15.220454</td>\n",
       "    </tr>\n",
       "    <tr>\n",
       "      <th>...</th>\n",
       "      <td>...</td>\n",
       "      <td>...</td>\n",
       "      <td>...</td>\n",
       "      <td>...</td>\n",
       "      <td>...</td>\n",
       "      <td>...</td>\n",
       "      <td>...</td>\n",
       "      <td>...</td>\n",
       "    </tr>\n",
       "    <tr>\n",
       "      <th>49659</th>\n",
       "      <td>0.560584</td>\n",
       "      <td>67</td>\n",
       "      <td>37.0</td>\n",
       "      <td>6</td>\n",
       "      <td>2.0</td>\n",
       "      <td>1.0</td>\n",
       "      <td>0.552538</td>\n",
       "      <td>17.465206</td>\n",
       "    </tr>\n",
       "    <tr>\n",
       "      <th>49660</th>\n",
       "      <td>0.648316</td>\n",
       "      <td>67</td>\n",
       "      <td>32.0</td>\n",
       "      <td>1</td>\n",
       "      <td>3.0</td>\n",
       "      <td>1.0</td>\n",
       "      <td>1.728891</td>\n",
       "      <td>22.637167</td>\n",
       "    </tr>\n",
       "    <tr>\n",
       "      <th>49661</th>\n",
       "      <td>0.857837</td>\n",
       "      <td>68</td>\n",
       "      <td>13.0</td>\n",
       "      <td>10</td>\n",
       "      <td>1.0</td>\n",
       "      <td>0.0</td>\n",
       "      <td>-0.330699</td>\n",
       "      <td>41.288962</td>\n",
       "    </tr>\n",
       "    <tr>\n",
       "      <th>49662</th>\n",
       "      <td>0.849875</td>\n",
       "      <td>68</td>\n",
       "      <td>10.0</td>\n",
       "      <td>7</td>\n",
       "      <td>2.0</td>\n",
       "      <td>1.0</td>\n",
       "      <td>-0.637115</td>\n",
       "      <td>44.391756</td>\n",
       "    </tr>\n",
       "    <tr>\n",
       "      <th>49663</th>\n",
       "      <td>0.871640</td>\n",
       "      <td>69</td>\n",
       "      <td>3.0</td>\n",
       "      <td>3</td>\n",
       "      <td>1.0</td>\n",
       "      <td>1.0</td>\n",
       "      <td>3.102806</td>\n",
       "      <td>51.598542</td>\n",
       "    </tr>\n",
       "  </tbody>\n",
       "</table>\n",
       "<p>41917 rows × 8 columns</p>\n",
       "</div>"
      ],
      "text/plain": [
       "             wp  series  yardline_100  ydstogo  down  qb_dropback       epa  \\\n",
       "2      0.546262       1          75.0       10   1.0          0.0 -0.336103   \n",
       "3      0.539621       1          72.0        7   2.0          1.0  0.703308   \n",
       "4      0.555987       1          66.0        1   3.0          0.0  0.469799   \n",
       "5      0.572573       2          64.0       10   1.0          1.0 -0.521544   \n",
       "6      0.554537       2          64.0       10   2.0          1.0  1.173155   \n",
       "...         ...     ...           ...      ...   ...          ...       ...   \n",
       "49659  0.560584      67          37.0        6   2.0          1.0  0.552538   \n",
       "49660  0.648316      67          32.0        1   3.0          1.0  1.728891   \n",
       "49661  0.857837      68          13.0       10   1.0          0.0 -0.330699   \n",
       "49662  0.849875      68          10.0        7   2.0          1.0 -0.637115   \n",
       "49663  0.871640      69           3.0        3   1.0          1.0  3.102806   \n",
       "\n",
       "             PC1  \n",
       "2     -26.258627  \n",
       "3     -23.155831  \n",
       "4     -16.948915  \n",
       "5     -15.222683  \n",
       "6     -15.220454  \n",
       "...          ...  \n",
       "49659  17.465206  \n",
       "49660  22.637167  \n",
       "49661  41.288962  \n",
       "49662  44.391756  \n",
       "49663  51.598542  \n",
       "\n",
       "[41917 rows x 8 columns]"
      ]
     },
     "execution_count": 20,
     "metadata": {},
     "output_type": "execute_result"
    }
   ],
   "source": [
    "pc_values = pca_model.transform(presnap_df[['wp','series','yardline_100','ydstogo','down','qb_dropback']])\n",
    "presnap_df['PC1'] = pc_values\n",
    "presnap_df"
   ]
  },
  {
   "cell_type": "code",
   "execution_count": 21,
   "id": "widespread-diamond",
   "metadata": {},
   "outputs": [
    {
     "data": {
      "text/plain": [
       "<matplotlib.collections.PathCollection at 0x28de3f023d0>"
      ]
     },
     "execution_count": 21,
     "metadata": {},
     "output_type": "execute_result"
    },
    {
     "data": {
      "image/png": "[encoded data removed]",
      "text/plain": [
       "<Figure size 432x288 with 1 Axes>"
      ]
     },
     "metadata": {
      "needs_background": "light"
     },
     "output_type": "display_data"
    }
   ],
   "source": [
    "plt.scatter('PC1','epa',data=presnap_df)"
   ]
  },
  {
   "cell_type": "markdown",
   "id": "widespread-fleece",
   "metadata": {},
   "source": [
    "Well, doesn't look like this gave us much more signal. Let's see if training a model with all of the relevant presnap statistics does any better."
   ]
  },
  {
   "cell_type": "code",
   "execution_count": 22,
   "id": "comprehensive-amplifier",
   "metadata": {},
   "outputs": [
    {
     "name": "stdout",
     "output_type": "stream",
     "text": [
      "Simple Linear Regression Coefficients: [ 0.01299439 -0.00140117 -0.00011189 -0.00841403  0.00600705  0.07814995]\n",
      "Simple Linear Regression Intercept: 0.02635949551352526\n",
      "MSE: 1.8555693450562398\n"
     ]
    },
    {
     "data": {
      "image/png": "[encoded data removed]",
      "text/plain": [
       "<Figure size 432x288 with 1 Axes>"
      ]
     },
     "metadata": {
      "needs_background": "light"
     },
     "output_type": "display_data"
    }
   ],
   "source": [
    "linr = LinearRegression()\n",
    "X,y = presnap_df.drop(['epa','PC1'],axis=1),presnap_df['epa']\n",
    "X_train, X_test, y_train, y_test = train_test_split(X, y, test_size=0.2, random_state=42)\n",
    "\n",
    "linr.fit(X_train,y_train)\n",
    "print(f\"Simple Linear Regression Coefficients: {linr.coef_}\\nSimple Linear Regression Intercept: {linr.intercept_}\")\n",
    "preds = linr.predict(X_test)\n",
    "print(f\"MSE: {mean_squared_error(y_test, preds)}\")\n",
    "\n",
    "plt.scatter(preds,y_test)\n",
    "plt.xlabel('Actual EPA')\n",
    "plt.ylabel('Predicted EPA')\n",
    "plt.title('Actual vs. Predicted EPA for Simple Linear Regression Model with All Presnap Predictors')\n",
    "plt.savefig('plots/all_presnap_linr.png')"
   ]
  },
  {
   "cell_type": "code",
   "execution_count": 23,
   "id": "fatal-evolution",
   "metadata": {},
   "outputs": [
    {
     "name": "stdout",
     "output_type": "stream",
     "text": [
      "Lasso Coefficients: [ 0. -0. -0. -0.  0.  0.]\n",
      "Lasso Intercept: -0.0315955902110721\n",
      "MSE: 1.8603972649576253\n"
     ]
    },
    {
     "data": {
      "image/png": "[encoded data removed]",
      "text/plain": [
       "<Figure size 432x288 with 1 Axes>"
      ]
     },
     "metadata": {
      "needs_background": "light"
     },
     "output_type": "display_data"
    }
   ],
   "source": [
    "lassr = Lasso()\n",
    "X,y = presnap_df.drop(['epa','PC1'],axis=1),presnap_df['epa']\n",
    "X_train, X_test, y_train, y_test = train_test_split(X, y, test_size=0.2, random_state=42)\n",
    "\n",
    "lassr.fit(X_train,y_train)\n",
    "print(f\"Lasso Coefficients: {lassr.coef_}\\nLasso Intercept: {lassr.intercept_}\")\n",
    "preds = lassr.predict(X_test)\n",
    "mean_squared_error(y_test, preds)\n",
    "print(f\"MSE: {mean_squared_error(y_test, preds)}\")\n",
    "\n",
    "plt.scatter(preds,y_test)\n",
    "plt.xlabel('Actual EPA')\n",
    "plt.ylabel('Predicted EPA')\n",
    "plt.title('Actual vs. Predicted EPA for Lasso Model with All Presnap Predictors')\n",
    "plt.savefig('plots/all_presnap_lasso.png')"
   ]
  },
  {
   "cell_type": "markdown",
   "id": "surprised-forty",
   "metadata": {},
   "source": [
    "Even with all of the relevant presnap statistics there is not any signal. We should expect something resembling a diagonal here, but it's mostly a big blob with maybe some sort of horizontal line.\n",
    "\n",
    "Lasso could have been a nice tool to remove collinearity so we know the best set of variables *with respect to EPA* to reduce, but alas it did not find a useful result.\n",
    "\n",
    "Given this result, it's hard to imagine a reduced version of this model will do any better. We can then say that **we cannot predict expected points added given presnap statistics**. Instead, we can just use analyze how impactful a post-play factor is in influencing the expected points added statistic."
   ]
  },
  {
   "cell_type": "markdown",
   "id": "fluid-toner",
   "metadata": {},
   "source": [
    "## A Passable Substitute\n",
    "\n",
    "When analyzing correlations between EPA and potential predictors, we say that passing yards on the play were strongly correlated (r=~0.75) with EPA. Let's see a visual."
   ]
  },
  {
   "cell_type": "code",
   "execution_count": 24,
   "id": "victorian-exchange",
   "metadata": {},
   "outputs": [
    {
     "data": {
      "image/png": "[encoded data removed]",
      "text/plain": [
       "<Figure size 432x288 with 1 Axes>"
      ]
     },
     "metadata": {
      "needs_background": "light"
     },
     "output_type": "display_data"
    }
   ],
   "source": [
    "plt.scatter('passing_yards','epa',data=nfl_df)\n",
    "plt.xlabel('Passing Yards During Play')\n",
    "plt.ylabel('EPA')\n",
    "plt.title('Relationship between Passing Yards in Play and EPA in the 2023-2024 NFL Season')\n",
    "plt.savefig('plots/passingyds_epa_2023.png')"
   ]
  }
 ],
 "metadata": {
  "kernelspec": {
   "display_name": "Python 3",
   "language": "python",
   "name": "python3"
  },
  "language_info": {
   "codemirror_mode": {
    "name": "ipython",
    "version": 3
   },
   "file_extension": ".py",
   "mimetype": "text/x-python",
   "name": "python",
   "nbconvert_exporter": "python",
   "pygments_lexer": "ipython3",
   "version": "3.8.7"
  }
 },
 "nbformat": 4,
 "nbformat_minor": 5
}
