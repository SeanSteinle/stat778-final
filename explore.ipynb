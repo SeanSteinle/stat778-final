{
 "cells": [
  {
   "cell_type": "code",
   "execution_count": 410,
   "id": "applied-florida",
   "metadata": {},
   "outputs": [],
   "source": [
    "import numpy as np\n",
    "from numpy.random import uniform, normal, multivariate_normal, exponential\n",
    "import scipy as sc\n",
    "import pandas as pd\n",
    "import matplotlib.pyplot as plt"
   ]
  },
  {
   "cell_type": "code",
   "execution_count": 475,
   "id": "terminal-gibson",
   "metadata": {},
   "outputs": [],
   "source": [
    "#it's not quite this. 3.2 does some sort of learning. how?\n",
    "#we're measuring the likelihood (via the pdf) of x given our parameters and the result.\n",
    "#THEN we combine that with our prior.\n",
    "#Then we have a posterior belief about how possible these parameters are given the data we just saw and our prior belief.\n",
    "#now we binarize this belief stochastically! and move onto the next iteration."
   ]
  },
  {
   "cell_type": "code",
   "execution_count": 639,
   "id": "sharp-cycle",
   "metadata": {},
   "outputs": [],
   "source": [
    "#metropolis-hastings functions\n",
    "def sample(data: np.ndarray, N: int, B: int, start_theta: tuple, search_breadth: float=1, lag=10):\n",
    "    \"\"\"Takes N samples via the Metropolis-Hastings algorithm, with B burn-in samples.\"\"\"\n",
    "    theta = start_theta\n",
    "    for b in range(B): #burnin samples\n",
    "        results = step(data, theta, search_breadth)\n",
    "        theta = results['theta']\n",
    "    \n",
    "    samples = []\n",
    "    for n in range(N): #real samples\n",
    "        results = step(data, theta, search_breadth)\n",
    "        theta = results['theta']\n",
    "        samples.append(results)\n",
    "        for _ in range(lag): #thrown away samples to reduce autocorrelation\n",
    "            results = step(data, theta, search_breadth)\n",
    "            theta = results['theta']\n",
    "    return samples\n",
    "\n",
    "def step(data: np.ndarray, theta: tuple, search_breadth: float):\n",
    "    \"\"\"Takes one step in the Metropolis-Hastings algorithm by generating a new theta and comparing to a given theta.\"\"\"\n",
    "    theta_prime = sample_theta(theta, search_breadth) #sample a new set of parameters\n",
    "    acceptance_probability = min(1,calc_acceptance_prob(theta, theta_prime, data, search_breadth)) #calculate the probability of acceptance\n",
    "    accepted = acceptance_probability >= uniform() #probabilistically determine acceptance \n",
    "    return {'accepted': accepted, 'acceptance_prob': acceptance_probability, 'theta': theta_prime if accepted else theta} #return results, update theta if samples accepted\n",
    "\n",
    "def sample_theta(theta: tuple, search_breadth: float=1):\n",
    "    \"\"\"Samples theta parameters--slope, intercept, and standard deviation.\"\"\"\n",
    "    a,b,sigma = theta\n",
    "    a,b = multivariate_normal([a,b], [[search_breadth**2,0],[0,search_breadth**2]])\n",
    "    sigma = exponential(sigma*search_breadth)\n",
    "    theta = a,b,sigma\n",
    "    return theta\n",
    "\n",
    "def calc_acceptance_prob(theta: tuple, theta_prime: tuple, data: np.ndarray, search_breadth: float):\n",
    "    \"\"\"Calculates acceptance probability by using a Bayesian linear model.\"\"\"\n",
    "    theta_likelihood = likelihood(theta, data)\n",
    "    theta_prior = prior(theta)\n",
    "    \n",
    "    theta_p_likelihood = likelihood(theta_prime, data)\n",
    "    theta_p_prior = prior(theta)\n",
    "    \n",
    "    acceptance_ratio = (theta_p_likelihood/theta_likelihood) * ((theta_p_prior/theta_prior) * proposal_ratio(theta, theta_prime))\n",
    "    return acceptance_ratio\n",
    "\n",
    "#bayesian functions\n",
    "def likelihood(theta: tuple, data: np.ndarray):\n",
    "    \"\"\"Calculates the likelihood component of our linear model by measuring our parameters theta on the given data.\"\"\"\n",
    "    a,b,sigma = theta\n",
    "    x,y = data[0],data[1]\n",
    "    likelihoods = sc.stats.norm.pdf(y, loc=a*x+b, scale=sigma) #find the likelihood of a sample given a normal distribution specified by our parameters and the data\n",
    "    return np.prod(likelihoods)\n",
    "\n",
    "def prior(theta: tuple):\n",
    "    \"\"\"Calculates the prior component of our linear model, specified \"\"\"\n",
    "    a,b,sigma = theta\n",
    "    a_prob, b_prob = sc.stats.multivariate_normal.pdf([a,b]) #cov defaults to 1\n",
    "    sigma_prob = sc.stats.expon.pdf(sigma)\n",
    "    return np.prod([a_prob,b_prob,sigma_prob])\n",
    "\n",
    "def proposal_ratio(theta: tuple, theta_prime: tuple):\n",
    "    \"\"\"Offsets bidirectionality of chained samples. Should only ever evaluate to 1 because we're using the normal \n",
    "    and exponential distributions, but included so I can call this a Metropolis-HASTINGS algorithm.\"\"\"\n",
    "    old_given_new = sc.stats.multivariate_normal.pdf([a,b],[a_p,b_p])*sc.stats.expon.pdf(sigma)\n",
    "    new_given_old = sc.stats.multivariate_normal.pdf([a_p,b_p],[a,b])*sc.stats.expon.pdf(sigma_p)\n",
    "    return old_given_new/new_given_old"
   ]
  },
  {
   "cell_type": "code",
   "execution_count": 629,
   "id": "responsible-harmony",
   "metadata": {},
   "outputs": [
    {
     "data": {
      "text/plain": [
       "{'accepted': False,\n",
       " 'acceptance_prob': 1.465133273728559e-31,\n",
       " 'theta': (0, 0, 1)}"
      ]
     },
     "execution_count": 629,
     "metadata": {},
     "output_type": "execute_result"
    }
   ],
   "source": [
    "step(data, (0,0,1), 0.5)"
   ]
  },
  {
   "cell_type": "code",
   "execution_count": null,
   "id": "standard-central",
   "metadata": {},
   "outputs": [],
   "source": [
    "#data = np.zeros((2,100))\n",
    "data = np.random.rand(2,100) #meaningless data. all zeros\n",
    "samples = sample(data, 1000, 5000, (0,0,1), 1, 10)\n",
    "df = pd.DataFrame(samples)\n",
    "df[['a','b','sigma']] = pd.DataFrame(df['theta'].tolist(), index=df.index)"
   ]
  },
  {
   "cell_type": "code",
   "execution_count": null,
   "id": "demanding-private",
   "metadata": {},
   "outputs": [],
   "source": [
    "data"
   ]
  },
  {
   "cell_type": "code",
   "execution_count": null,
   "id": "compact-toyota",
   "metadata": {},
   "outputs": [],
   "source": [
    "df"
   ]
  },
  {
   "cell_type": "code",
   "execution_count": null,
   "id": "adjustable-baseball",
   "metadata": {},
   "outputs": [],
   "source": [
    "plt.plot(range(len(df)),df['a'], label='slope')\n",
    "plt.plot(range(len(df)),df['b'], label='intercept')\n",
    "plt.plot(range(len(df)),df['sigma'], label='variance')\n",
    "plt.plot(range(len(df)),df['acceptance_prob'], label='accept_prob')\n",
    "plt.legend()"
   ]
  },
  {
   "cell_type": "markdown",
   "id": "available-dispatch",
   "metadata": {},
   "source": [
    "Questions:\n",
    "- In the zero case, the stationary distribution should be the thetas right? The likelihood component reflects the thetas, and the prior reflects the thetas + some noise. So why does it converge to some number and then drop to a very low acceptance probability?"
   ]
  },
  {
   "cell_type": "markdown",
   "id": "numerical-hepatitis",
   "metadata": {},
   "source": [
    "Great! Basic example of MH working. Now need to implement the Bayesian formulation. in calc_acceptance_prob()."
   ]
  },
  {
   "cell_type": "markdown",
   "id": "verbal-still",
   "metadata": {},
   "source": [
    "### Data"
   ]
  },
  {
   "cell_type": "code",
   "execution_count": 168,
   "id": "paperback-conditioning",
   "metadata": {},
   "outputs": [
    {
     "data": {
      "text/plain": [
       "array([[ 6.27823707,  1.27823707, -0.72176293,  2.27823707,  4.27823707,\n",
       "         7.27823707],\n",
       "       [ 3.49665799, -1.50334201, -3.50334201, -0.50334201,  1.49665799,\n",
       "         4.49665799],\n",
       "       [ 4.92325527, -0.0767447 , -2.0767447 ,  0.9232553 ,  2.9232553 ,\n",
       "         5.9232553 ],\n",
       "       [ 5.2091501 ,  0.20915008, -1.79084992,  1.20915008,  3.20915008,\n",
       "         6.20915008],\n",
       "       [ 5.65139933,  0.65139933, -1.34860067,  1.65139933,  3.65139933,\n",
       "         6.65139933]])"
      ]
     },
     "execution_count": 168,
     "metadata": {},
     "output_type": "execute_result"
    }
   ],
   "source": [
    "#okay, let's pretend this is our NFL data. we have 5 predictor variables for our linear model. then we have our response.\n",
    "#each of the first 5 are normal variables, with their own mean and variance. \n",
    "data = multivariate_normal(np.array([5,0,-2,1,3,6]),np.ones((6,6)),100)\n",
    "data[:5]"
   ]
  },
  {
   "cell_type": "code",
   "execution_count": null,
   "id": "treated-native",
   "metadata": {},
   "outputs": [],
   "source": []
  },
  {
   "cell_type": "code",
   "execution_count": 181,
   "id": "careful-divide",
   "metadata": {},
   "outputs": [
    {
     "data": {
      "text/plain": [
       "array([[ 1.35564741e+01,  4.55647413e+00,  1.55647413e+00,\n",
       "         6.55647413e+00,  9.55647413e+00,  1.65564741e+01],\n",
       "       [ 7.99331598e+00, -1.00668402e+00, -4.00668402e+00,\n",
       "         9.93315976e-01,  3.99331598e+00,  1.09933160e+01],\n",
       "       [ 1.08465105e+01,  1.84651060e+00, -1.15348940e+00,\n",
       "         3.84651060e+00,  6.84651060e+00,  1.38465106e+01],\n",
       "       [ 1.14183002e+01,  2.41830016e+00, -5.81699836e-01,\n",
       "         4.41830016e+00,  7.41830016e+00,  1.44183002e+01],\n",
       "       [ 1.23027987e+01,  3.30279866e+00,  3.02798656e-01,\n",
       "         5.30279866e+00,  8.30279866e+00,  1.53027987e+01],\n",
       "       [ 1.39996770e+01,  4.99967704e+00,  1.99967704e+00,\n",
       "         6.99967704e+00,  9.99967704e+00,  1.69996770e+01],\n",
       "       [ 8.09741629e+00, -9.02583705e-01, -3.90258371e+00,\n",
       "         1.09741629e+00,  4.09741629e+00,  1.10974163e+01],\n",
       "       [ 1.16623132e+01,  2.66231323e+00, -3.37686774e-01,\n",
       "         4.66231323e+00,  7.66231323e+00,  1.46623132e+01],\n",
       "       [ 9.91265182e+00,  9.12651780e-01, -2.08734822e+00,\n",
       "         2.91265178e+00,  5.91265178e+00,  1.29126518e+01],\n",
       "       [ 9.73281578e+00,  7.32815758e-01, -2.26718424e+00,\n",
       "         2.73281576e+00,  5.73281576e+00,  1.27328158e+01],\n",
       "       [ 1.27067945e+01,  3.70679453e+00,  7.06794528e-01,\n",
       "         5.70679453e+00,  8.70679453e+00,  1.57067945e+01],\n",
       "       [ 1.08005785e+01,  1.80057855e+00, -1.19942145e+00,\n",
       "         3.80057855e+00,  6.80057855e+00,  1.38005785e+01],\n",
       "       [ 1.34933742e+01,  4.49337417e+00,  1.49337417e+00,\n",
       "         6.49337417e+00,  9.49337417e+00,  1.64933742e+01],\n",
       "       [ 1.17704587e+01,  2.77045872e+00, -2.29541285e-01,\n",
       "         4.77045872e+00,  7.77045872e+00,  1.47704587e+01],\n",
       "       [ 1.09746720e+01,  1.97467193e+00, -1.02532807e+00,\n",
       "         3.97467193e+00,  6.97467193e+00,  1.39746719e+01],\n",
       "       [ 1.37675969e+01,  4.76759689e+00,  1.76759689e+00,\n",
       "         6.76759689e+00,  9.76759689e+00,  1.67675969e+01],\n",
       "       [ 9.93995232e+00,  9.39952369e-01, -2.06004763e+00,\n",
       "         2.93995237e+00,  5.93995237e+00,  1.29399524e+01],\n",
       "       [ 1.10418095e+01,  2.04180955e+00, -9.58190450e-01,\n",
       "         4.04180955e+00,  7.04180955e+00,  1.40418096e+01],\n",
       "       [ 1.05660425e+01,  1.56604244e+00, -1.43395756e+00,\n",
       "         3.56604244e+00,  6.56604244e+00,  1.35660424e+01],\n",
       "       [ 1.18887010e+01,  2.88870100e+00, -1.11299000e-01,\n",
       "         4.88870100e+00,  7.88870100e+00,  1.48887010e+01],\n",
       "       [ 1.14390270e+01,  2.43902705e+00, -5.60972949e-01,\n",
       "         4.43902705e+00,  7.43902705e+00,  1.44390271e+01],\n",
       "       [ 7.15396165e+00, -1.84603831e+00, -4.84603831e+00,\n",
       "         1.53961692e-01,  3.15396169e+00,  1.01539617e+01],\n",
       "       [ 9.91110060e+00,  9.11100693e-01, -2.08889931e+00,\n",
       "         2.91110069e+00,  5.91110069e+00,  1.29111007e+01],\n",
       "       [ 1.24283291e+01,  3.42832919e+00,  4.28329194e-01,\n",
       "         5.42832919e+00,  8.42832919e+00,  1.54283292e+01],\n",
       "       [ 7.80973399e+00, -1.19026599e+00, -4.19026599e+00,\n",
       "         8.09734005e-01,  3.80973401e+00,  1.08097340e+01],\n",
       "       [ 1.03770228e+01,  1.37702286e+00, -1.62297714e+00,\n",
       "         3.37702286e+00,  6.37702286e+00,  1.33770229e+01],\n",
       "       [ 9.49882228e+00,  4.98822348e-01, -2.50117765e+00,\n",
       "         2.49882235e+00,  5.49882235e+00,  1.24988223e+01],\n",
       "       [ 1.22845473e+01,  3.28454733e+00,  2.84547326e-01,\n",
       "         5.28454733e+00,  8.28454733e+00,  1.52845473e+01],\n",
       "       [ 1.33726738e+01,  4.37267369e+00,  1.37267369e+00,\n",
       "         6.37267369e+00,  9.37267369e+00,  1.63726737e+01],\n",
       "       [ 9.66313274e+00,  6.63132757e-01, -2.33686724e+00,\n",
       "         2.66313276e+00,  5.66313276e+00,  1.26631328e+01],\n",
       "       [ 1.21259314e+01,  3.12593143e+00,  1.25931430e-01,\n",
       "         5.12593143e+00,  8.12593143e+00,  1.51259314e+01],\n",
       "       [ 1.32268783e+01,  4.22687827e+00,  1.22687827e+00,\n",
       "         6.22687827e+00,  9.22687827e+00,  1.62268783e+01],\n",
       "       [ 9.76455616e+00,  7.64556143e-01, -2.23544386e+00,\n",
       "         2.76455614e+00,  5.76455614e+00,  1.27645561e+01],\n",
       "       [ 7.32010327e+00, -1.67989673e+00, -4.67989673e+00,\n",
       "         3.20103273e-01,  3.32010327e+00,  1.03201033e+01],\n",
       "       [ 6.34879912e+00, -2.65120087e+00, -5.65120087e+00,\n",
       "        -6.51200871e-01,  2.34879913e+00,  9.34879913e+00],\n",
       "       [ 1.21599756e+01,  3.15997563e+00,  1.59975630e-01,\n",
       "         5.15997563e+00,  8.15997563e+00,  1.51599756e+01],\n",
       "       [ 1.36765830e+01,  4.67658303e+00,  1.67658303e+00,\n",
       "         6.67658303e+00,  9.67658303e+00,  1.66765830e+01],\n",
       "       [ 1.13219006e+01,  2.32190053e+00, -6.78099472e-01,\n",
       "         4.32190053e+00,  7.32190053e+00,  1.43219005e+01],\n",
       "       [ 1.32594581e+01,  4.25945817e+00,  1.25945817e+00,\n",
       "         6.25945817e+00,  9.25945817e+00,  1.62594582e+01],\n",
       "       [ 1.19810743e+01,  2.98107429e+00, -1.89257098e-02,\n",
       "         4.98107429e+00,  7.98107429e+00,  1.49810743e+01],\n",
       "       [ 8.96915453e+00, -3.08454868e-02, -3.03084549e+00,\n",
       "         1.96915451e+00,  4.96915451e+00,  1.19691545e+01],\n",
       "       [ 1.05431897e+01,  1.54318969e+00, -1.45681031e+00,\n",
       "         3.54318969e+00,  6.54318969e+00,  1.35431897e+01],\n",
       "       [ 1.09160859e+01,  1.91608581e+00, -1.08391419e+00,\n",
       "         3.91608581e+00,  6.91608581e+00,  1.39160858e+01],\n",
       "       [ 1.12846471e+01,  2.28464701e+00, -7.15352987e-01,\n",
       "         4.28464701e+00,  7.28464701e+00,  1.42846470e+01],\n",
       "       [ 1.19345858e+01,  2.93458576e+00, -6.54142381e-02,\n",
       "         4.93458576e+00,  7.93458576e+00,  1.49345858e+01],\n",
       "       [ 7.33378606e+00, -1.66621398e+00, -4.66621398e+00,\n",
       "         3.33786019e-01,  3.33378602e+00,  1.03337860e+01],\n",
       "       [ 7.06622179e+00, -1.93377828e+00, -4.93377828e+00,\n",
       "         6.62217223e-02,  3.06622172e+00,  1.00662217e+01],\n",
       "       [ 1.16583344e+01,  2.65833436e+00, -3.41665640e-01,\n",
       "         4.65833436e+00,  7.65833436e+00,  1.46583344e+01],\n",
       "       [ 1.24717895e+01,  3.47178950e+00,  4.71789505e-01,\n",
       "         5.47178950e+00,  8.47178950e+00,  1.54717895e+01],\n",
       "       [ 1.22026675e+01,  3.20266751e+00,  2.02667512e-01,\n",
       "         5.20266751e+00,  8.20266751e+00,  1.52026675e+01],\n",
       "       [ 1.48988352e+01,  5.89883533e+00,  2.89883533e+00,\n",
       "         7.89883533e+00,  1.08988353e+01,  1.78988353e+01],\n",
       "       [ 1.13366816e+01,  2.33668162e+00, -6.63318379e-01,\n",
       "         4.33668162e+00,  7.33668162e+00,  1.43366816e+01],\n",
       "       [ 7.41341381e+00, -1.58658618e+00, -4.58658618e+00,\n",
       "         4.13413818e-01,  3.41341382e+00,  1.04134138e+01],\n",
       "       [ 1.17184624e+01,  2.71846244e+00, -2.81537561e-01,\n",
       "         4.71846244e+00,  7.71846244e+00,  1.47184624e+01],\n",
       "       [ 1.04686599e+01,  1.46865995e+00, -1.53134005e+00,\n",
       "         3.46865995e+00,  6.46865995e+00,  1.34686600e+01],\n",
       "       [ 1.06891433e+01,  1.68914332e+00, -1.31085668e+00,\n",
       "         3.68914332e+00,  6.68914332e+00,  1.36891433e+01],\n",
       "       [ 8.77418885e+00, -2.25811077e-01, -3.22581108e+00,\n",
       "         1.77418892e+00,  4.77418892e+00,  1.17741889e+01],\n",
       "       [ 1.11314354e+01,  2.13143532e+00, -8.68564683e-01,\n",
       "         4.13143532e+00,  7.13143532e+00,  1.41314353e+01],\n",
       "       [ 1.28363249e+01,  3.83632489e+00,  8.36324893e-01,\n",
       "         5.83632489e+00,  8.83632489e+00,  1.58363249e+01],\n",
       "       [ 1.40617499e+01,  5.06174977e+00,  2.06174977e+00,\n",
       "         7.06174977e+00,  1.00617498e+01,  1.70617498e+01],\n",
       "       [ 7.30597337e+00, -1.69402651e+00, -4.69402651e+00,\n",
       "         3.05973487e-01,  3.30597349e+00,  1.03059735e+01],\n",
       "       [ 1.05392844e+01,  1.53928443e+00, -1.46071557e+00,\n",
       "         3.53928443e+00,  6.53928443e+00,  1.35392844e+01],\n",
       "       [ 1.23664968e+01,  3.36649681e+00,  3.66496814e-01,\n",
       "         5.36649681e+00,  8.36649681e+00,  1.53664968e+01],\n",
       "       [ 1.07077738e+01,  1.70777384e+00, -1.29222616e+00,\n",
       "         3.70777384e+00,  6.70777384e+00,  1.37077738e+01],\n",
       "       [ 1.14618679e+01,  2.46186786e+00, -5.38132137e-01,\n",
       "         4.46186786e+00,  7.46186786e+00,  1.44618679e+01],\n",
       "       [ 1.13795282e+01,  2.37952824e+00, -6.20471756e-01,\n",
       "         4.37952824e+00,  7.37952824e+00,  1.43795282e+01],\n",
       "       [ 8.85425392e+00, -1.45746060e-01, -3.14574606e+00,\n",
       "         1.85425394e+00,  4.85425394e+00,  1.18542539e+01],\n",
       "       [ 1.24216292e+01,  3.42162909e+00,  4.21629086e-01,\n",
       "         5.42162909e+00,  8.42162909e+00,  1.54216291e+01],\n",
       "       [ 1.47641321e+01,  5.76413199e+00,  2.76413199e+00,\n",
       "         7.76413199e+00,  1.07641320e+01,  1.77641320e+01],\n",
       "       [ 1.07462695e+01,  1.74626941e+00, -1.25373059e+00,\n",
       "         3.74626941e+00,  6.74626941e+00,  1.37462694e+01],\n",
       "       [ 7.87001848e+00, -1.12998165e+00, -4.12998165e+00,\n",
       "         8.70018355e-01,  3.87001835e+00,  1.08700184e+01],\n",
       "       [ 1.15615337e+01,  2.56153364e+00, -4.38466361e-01,\n",
       "         4.56153364e+00,  7.56153364e+00,  1.45615336e+01],\n",
       "       [ 1.07499786e+01,  1.74997860e+00, -1.25002140e+00,\n",
       "         3.74997860e+00,  6.74997860e+00,  1.37499786e+01],\n",
       "       [ 6.83568286e+00, -2.16431707e+00, -5.16431707e+00,\n",
       "        -1.64317068e-01,  2.83568293e+00,  9.83568293e+00],\n",
       "       [ 8.93647513e+00, -6.35248183e-02, -3.06352482e+00,\n",
       "         1.93647518e+00,  4.93647518e+00,  1.19364752e+01],\n",
       "       [ 1.16406761e+01,  2.64067616e+00, -3.59323844e-01,\n",
       "         4.64067616e+00,  7.64067616e+00,  1.46406762e+01],\n",
       "       [ 1.42452165e+01,  5.24521645e+00,  2.24521645e+00,\n",
       "         7.24521645e+00,  1.02452164e+01,  1.72452164e+01],\n",
       "       [ 1.29356925e+01,  3.93569251e+00,  9.35692515e-01,\n",
       "         5.93569251e+00,  8.93569251e+00,  1.59356925e+01],\n",
       "       [ 1.37479799e+01,  4.74797989e+00,  1.74797989e+00,\n",
       "         6.74797989e+00,  9.74797989e+00,  1.67479799e+01],\n",
       "       [ 1.09603331e+01,  1.96033313e+00, -1.03966687e+00,\n",
       "         3.96033313e+00,  6.96033313e+00,  1.39603331e+01],\n",
       "       [ 6.11168137e+00, -2.88831863e+00, -5.88831863e+00,\n",
       "        -8.88318627e-01,  2.11168137e+00,  9.11168137e+00],\n",
       "       [ 1.11182024e+01,  2.11820237e+00, -8.81797628e-01,\n",
       "         4.11820237e+00,  7.11820237e+00,  1.41182024e+01],\n",
       "       [ 1.37747163e+01,  4.77471627e+00,  1.77471627e+00,\n",
       "         6.77471627e+00,  9.77471627e+00,  1.67747163e+01],\n",
       "       [ 1.06288783e+01,  1.62887829e+00, -1.37112171e+00,\n",
       "         3.62887829e+00,  6.62887829e+00,  1.36288783e+01],\n",
       "       [ 1.30152832e+01,  4.01528337e+00,  1.01528337e+00,\n",
       "         6.01528337e+00,  9.01528337e+00,  1.60152834e+01],\n",
       "       [ 1.27043127e+01,  3.70431269e+00,  7.04312692e-01,\n",
       "         5.70431269e+00,  8.70431269e+00,  1.57043127e+01],\n",
       "       [ 1.66906876e+01,  7.69068767e+00,  4.69068767e+00,\n",
       "         9.69068767e+00,  1.26906877e+01,  1.96906877e+01],\n",
       "       [ 8.90353062e+00, -9.64694405e-02, -3.09646944e+00,\n",
       "         1.90353056e+00,  4.90353056e+00,  1.19035306e+01],\n",
       "       [ 1.08266351e+01,  1.82663511e+00, -1.17336489e+00,\n",
       "         3.82663511e+00,  6.82663511e+00,  1.38266351e+01],\n",
       "       [ 9.80295220e+00,  8.02952235e-01, -2.19704777e+00,\n",
       "         2.80295223e+00,  5.80295223e+00,  1.28029522e+01],\n",
       "       [ 1.25328714e+01,  3.53287151e+00,  5.32871506e-01,\n",
       "         5.53287151e+00,  8.53287151e+00,  1.55328715e+01],\n",
       "       [ 1.07775906e+01,  1.77759074e+00, -1.22240926e+00,\n",
       "         3.77759074e+00,  6.77759074e+00,  1.37775907e+01],\n",
       "       [ 1.20780568e+01,  3.07805675e+00,  7.80567541e-02,\n",
       "         5.07805675e+00,  8.07805675e+00,  1.50780568e+01],\n",
       "       [ 1.12359910e+01,  2.23599103e+00, -7.64008967e-01,\n",
       "         4.23599103e+00,  7.23599103e+00,  1.42359910e+01],\n",
       "       [ 1.12767090e+01,  2.27670908e+00, -7.23290915e-01,\n",
       "         4.27670908e+00,  7.27670908e+00,  1.42767091e+01],\n",
       "       [ 1.01017999e+01,  1.10179983e+00, -1.89820017e+00,\n",
       "         3.10179983e+00,  6.10179983e+00,  1.31017998e+01],\n",
       "       [ 8.31443013e+00, -6.85569838e-01, -3.68556984e+00,\n",
       "         1.31443016e+00,  4.31443016e+00,  1.13144302e+01],\n",
       "       [ 1.14847525e+01,  2.48475258e+00, -5.15247416e-01,\n",
       "         4.48475258e+00,  7.48475258e+00,  1.44847526e+01],\n",
       "       [ 1.04563602e+01,  1.45636030e+00, -1.54363970e+00,\n",
       "         3.45636030e+00,  6.45636030e+00,  1.34563603e+01],\n",
       "       [ 9.79565521e+00,  7.95655159e-01, -2.20434484e+00,\n",
       "         2.79565516e+00,  5.79565516e+00,  1.27956552e+01]])"
      ]
     },
     "execution_count": 181,
     "metadata": {},
     "output_type": "execute_result"
    }
   ],
   "source": [
    "A = np.array([2,2,2,2,2,2])\n",
    "B = np.array([1,2,3,2,1,2])\n",
    "pe = A*data+B\n",
    "#y = multivariate_normal(A*data+B)\n",
    "pe"
   ]
  },
  {
   "cell_type": "code",
   "execution_count": null,
   "id": "double-tribute",
   "metadata": {},
   "outputs": [],
   "source": [
    "#we want to estimate a and b, which are the betas and the intercept for the above values. then we also want to estimate sigma\n",
    "#which is the variance of the data from the estimates.\n",
    "\n",
    "#so: normal(a*data+b,sigma) is a perfect model of the data."
   ]
  },
  {
   "cell_type": "code",
   "execution_count": null,
   "id": "polished-jacob",
   "metadata": {},
   "outputs": [],
   "source": [
    "#the data is 6x100. so we should learn an (a,b) or 5x1 and 1x1 respectively. and sigma is 5x1?"
   ]
  },
  {
   "cell_type": "markdown",
   "id": "particular-atlas",
   "metadata": {},
   "source": [
    "things to define:\n",
    "- what our parameters are and their shape\n",
    "    - a,b,sigma\n",
    "    - \n",
    "- how to sample them\n",
    "    - we want to sample a and b from a multivariate normal distribution centered at the previous iteration step.\n",
    "        - this may be the redherring for mvn\n",
    "\n",
    "is this tutorial doing multiD or just oneD?\n",
    "- clearly just 1D in 3.0, but maybe manyD for 3.*\n",
    "\n"
   ]
  },
  {
   "cell_type": "code",
   "execution_count": 291,
   "id": "identical-organ",
   "metadata": {},
   "outputs": [
    {
     "data": {
      "text/plain": [
       "(-0.971266488090688, -1.2501228151976096, 0.3146455037657163)"
      ]
     },
     "execution_count": 291,
     "metadata": {},
     "output_type": "execute_result"
    }
   ],
   "source": [
    "def sample_theta(theta: tuple, search_breadth: float=1):\n",
    "    a,b,sigma = theta\n",
    "    a,b = multivariate_normal([a,b], [[search_breadth**2,0],[0,search_breadth**2]])\n",
    "    sigma = exponential(sigma*search_breadth)\n",
    "    theta = a,b,sigma\n",
    "    return theta\n",
    "\n",
    "sample_theta((0,0,0.5),1)"
   ]
  },
  {
   "cell_type": "code",
   "execution_count": 222,
   "id": "innovative-program",
   "metadata": {},
   "outputs": [
    {
     "data": {
      "text/plain": [
       "array([6.28517630e-07, 8.61612527e-07, 3.72499935e-05, 3.06261765e+00,\n",
       "       2.05475660e+00, 1.19289869e+00, 9.63188685e-07, 2.51022956e-33,\n",
       "       1.16010310e-18, 1.31545566e+00, 1.82300506e-02, 9.53778179e-05,\n",
       "       6.91375324e-07, 1.79787728e-01, 5.60159653e-26, 7.33561524e-08,\n",
       "       4.68767850e-44, 1.07561276e-08, 5.70463855e-22, 5.93423003e-20,\n",
       "       1.15704608e-04, 1.03830085e-05, 5.88124143e-02, 4.09619496e-38,\n",
       "       3.71656581e-09, 1.57663653e+00, 7.87361608e-31, 2.05049795e-11,\n",
       "       2.08686538e-15, 1.62987048e+00, 1.16016816e+00, 1.02271655e-07,\n",
       "       2.37664364e+00, 5.27739327e-43, 2.42468039e-25, 1.33446540e-10,\n",
       "       9.31943929e-16, 7.64401022e-04, 1.50300516e-19, 2.52863198e-16,\n",
       "       9.79212128e-18, 9.43016402e-07, 1.20091188e-17, 3.92926163e-25,\n",
       "       2.68798928e-29, 6.69465625e-05, 2.83211561e+00, 1.81445978e-02,\n",
       "       6.89346020e-09, 2.34147711e-11, 8.81959094e-19, 1.02186236e-01,\n",
       "       1.45480160e+00, 4.32465313e-01, 2.21699631e+00, 2.59671419e+00,\n",
       "       1.35735425e-08, 5.80713959e-11, 5.33981496e-42, 7.24481236e-02,\n",
       "       1.06695421e+00, 9.35753308e-19, 4.39084179e-10, 1.32893757e-20,\n",
       "       3.27578688e-13, 5.74818627e-09, 2.05997163e-12, 7.51779379e-10,\n",
       "       1.02525025e-06, 1.88283803e-08, 1.38395896e-01, 1.76148777e-10,\n",
       "       1.66769665e-06, 6.22875339e-56, 2.57089220e-12, 5.22570274e-04,\n",
       "       1.55998192e+00, 9.56078552e-27, 3.66651602e-02, 6.33370018e-05,\n",
       "       1.88677479e-06, 6.80187606e-12, 1.46169442e-02, 1.29869738e-16,\n",
       "       2.74214087e-04, 2.89272181e-03, 4.63826411e-02, 3.83946462e-21,\n",
       "       2.14592467e+00, 9.83591680e-10, 3.04903632e+00, 1.31334411e+00,\n",
       "       7.59294519e-02, 9.74705673e-06, 6.00257989e-01, 9.05901791e-08,\n",
       "       9.85779937e-04, 3.64902541e-04, 9.80990955e-02, 3.07144878e-15])"
      ]
     },
     "execution_count": 222,
     "metadata": {},
     "output_type": "execute_result"
    }
   ],
   "source": [
    "x,y = normal(0,1,100),np.zeros(100)\n",
    "sc.norm.pdf(y, loc=theta[0]*x+theta[1], scale=theta[2])"
   ]
  },
  {
   "cell_type": "code",
   "execution_count": 230,
   "id": "noted-straight",
   "metadata": {},
   "outputs": [
    {
     "data": {
      "text/plain": [
       "9.134720408364595e-12"
      ]
     },
     "execution_count": 230,
     "metadata": {},
     "output_type": "execute_result"
    }
   ],
   "source": [
    "sc.norm.pdf(0, loc=7, scale=1)"
   ]
  },
  {
   "cell_type": "code",
   "execution_count": 217,
   "id": "vulnerable-prime",
   "metadata": {},
   "outputs": [
    {
     "data": {
      "text/plain": [
       "array([-5.02868025e-01, -4.16294507e-01,  7.09958245e-01,  1.22012581e+00,\n",
       "       -1.19914619e+00, -7.69109937e-01, -9.82422332e-01,  7.62666093e-01,\n",
       "       -1.75690033e-01,  3.13293572e-01,  6.42175030e-01,  1.45250718e-01,\n",
       "        1.06081801e+00, -4.15422208e-02,  9.28536463e-02, -1.74487250e-01,\n",
       "        7.09712560e-01, -3.54803311e-01, -4.00141200e-02, -1.49299707e+00,\n",
       "        9.97838280e-01, -2.21008174e-01, -9.28410819e-01,  3.54232791e-01,\n",
       "        3.14851811e-01,  5.21903810e-01,  6.02511645e-01, -7.15544926e-01,\n",
       "       -3.20368932e-01, -8.35556016e-01,  2.09635426e-01, -3.79137533e-01,\n",
       "        3.88775810e-01, -4.44222358e-01, -9.21918995e-01,  1.02948500e+00,\n",
       "       -9.06421053e-04,  2.00415476e-03,  1.05449000e-01,  1.22368755e+00,\n",
       "        1.05238721e-01, -6.21555775e-01,  1.51926326e+00, -1.84168971e-01,\n",
       "       -9.46214882e-01, -9.59552065e-02,  6.88855164e-01,  8.15364127e-02,\n",
       "       -1.41517163e-01,  1.38789413e+00, -7.16155884e-01,  1.16608836e+00,\n",
       "        5.83377042e-01,  5.65077367e-01,  8.13081481e-02,  1.76319188e-01,\n",
       "        8.96424202e-01,  3.41385846e+00,  2.22130233e+00, -2.33462582e-01,\n",
       "        7.48737964e-01,  8.72085477e-01,  4.66810494e-01, -8.63413009e-01,\n",
       "       -1.54611360e+00,  5.14493386e-01,  6.12641572e-02,  3.37470580e-01,\n",
       "       -7.02167202e-01,  1.74189134e+00, -4.03511527e-01, -1.21838750e+00,\n",
       "       -2.35539311e-01, -4.48169214e-01,  1.34185019e+00,  1.65016236e-01,\n",
       "        4.30229788e-01, -5.39299635e-01, -5.78263464e-01, -1.98583307e-01,\n",
       "       -9.90239733e-01,  8.43157757e-03, -1.26895568e+00, -3.59698345e-01,\n",
       "       -1.20358157e-01, -1.56232879e-01, -6.82114068e-01, -1.44349719e-01,\n",
       "        1.25421955e+00, -2.72664079e-01,  8.39768111e-01, -6.24064848e-01,\n",
       "       -2.86924662e-01,  3.44969687e-01, -2.19649314e+00, -5.88720854e-01,\n",
       "        8.78520396e-02, -1.65514370e-01, -2.99593561e-01,  4.29842760e-03])"
      ]
     },
     "execution_count": 217,
     "metadata": {},
     "output_type": "execute_result"
    }
   ],
   "source": [
    "normal(theta[0]*data+theta[1],theta[2])\n"
   ]
  },
  {
   "cell_type": "code",
   "execution_count": null,
   "id": "baking-johnston",
   "metadata": {},
   "outputs": [],
   "source": []
  }
 ],
 "metadata": {
  "kernelspec": {
   "display_name": "Python 3",
   "language": "python",
   "name": "python3"
  },
  "language_info": {
   "codemirror_mode": {
    "name": "ipython",
    "version": 3
   },
   "file_extension": ".py",
   "mimetype": "text/x-python",
   "name": "python",
   "nbconvert_exporter": "python",
   "pygments_lexer": "ipython3",
   "version": "3.8.7"
  }
 },
 "nbformat": 4,
 "nbformat_minor": 5
}
