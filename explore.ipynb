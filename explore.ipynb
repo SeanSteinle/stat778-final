{
 "cells": [
  {
   "cell_type": "code",
   "execution_count": 38,
   "id": "visible-representative",
   "metadata": {},
   "outputs": [],
   "source": [
    "from numpy.random import uniform, normal\n",
    "import pandas as pd\n",
    "import matplotlib.pyplot as plt"
   ]
  },
  {
   "cell_type": "code",
   "execution_count": 21,
   "id": "earned-shark",
   "metadata": {},
   "outputs": [],
   "source": [
    "def sample(N: int, B: int, start_theta: tuple, sigma: float):\n",
    "    \"\"\"Takes N samples via the Metropolis-Hastings algorithm, with B burn-in samples.\"\"\"\n",
    "    theta = start_theta\n",
    "    for b in range(B): #burnin samples\n",
    "        results = step(theta, sigma)\n",
    "        theta = results['theta']\n",
    "    \n",
    "    samples = []\n",
    "    for n in range(N):\n",
    "        results = step(theta, sigma)\n",
    "        theta = results['theta']\n",
    "        samples.append(results)\n",
    "    return samples\n",
    "\n",
    "def step(theta: tuple, sigma: float):\n",
    "    \"\"\"Takes one step in the Metropolis-Hastings algorithm by generating a new theta and comparing to a given theta.\"\"\"\n",
    "    theta_prime = sample_theta(theta, sigma) #sample a new set of parameters\n",
    "    acceptance_probability = calc_acceptance_prob(theta, theta_prime, sigma) #calculate the probability of acceptance\n",
    "    accepted = acceptance_probability > uniform() #probabilistically determine acceptance \n",
    "    return {'accepted': accepted, 'acceptance_prob': acceptance_probability, 'theta': theta_prime if accepted else theta} #return results, update theta if samples accepted\n",
    "\n",
    "def sample_theta(theta: tuple, sigma: float):\n",
    "    \"\"\"Samples the two normal variables that comprise theta.\"\"\"\n",
    "    a,b = theta\n",
    "    a = normal(a,sigma)\n",
    "    b = normal(b,sigma)\n",
    "    return (a,b)\n",
    "\n",
    "def calc_acceptance_prob(theta: tuple, theta_prime: tuple, sigma: float):\n",
    "    \"\"\"A Bayesian formulation...\"\"\"\n",
    "    return 0.9"
   ]
  },
  {
   "cell_type": "code",
   "execution_count": 90,
   "id": "earned-parks",
   "metadata": {},
   "outputs": [],
   "source": [
    "samples = sample(10000, 10000, (0,0), 1)"
   ]
  },
  {
   "cell_type": "code",
   "execution_count": 91,
   "id": "traditional-producer",
   "metadata": {},
   "outputs": [],
   "source": [
    "df = pd.DataFrame(samples)\n",
    "df[['a','b']] = pd.DataFrame(df['theta'].tolist(), index=df.index)\n",
    "df = df.drop('theta',axis=1)"
   ]
  },
  {
   "cell_type": "code",
   "execution_count": 92,
   "id": "southwest-greensboro",
   "metadata": {},
   "outputs": [
    {
     "data": {
      "text/html": [
       "<div>\n",
       "<style scoped>\n",
       "    .dataframe tbody tr th:only-of-type {\n",
       "        vertical-align: middle;\n",
       "    }\n",
       "\n",
       "    .dataframe tbody tr th {\n",
       "        vertical-align: top;\n",
       "    }\n",
       "\n",
       "    .dataframe thead th {\n",
       "        text-align: right;\n",
       "    }\n",
       "</style>\n",
       "<table border=\"1\" class=\"dataframe\">\n",
       "  <thead>\n",
       "    <tr style=\"text-align: right;\">\n",
       "      <th></th>\n",
       "      <th>accepted</th>\n",
       "      <th>acceptance_prob</th>\n",
       "      <th>a</th>\n",
       "      <th>b</th>\n",
       "    </tr>\n",
       "  </thead>\n",
       "  <tbody>\n",
       "    <tr>\n",
       "      <th>0</th>\n",
       "      <td>True</td>\n",
       "      <td>0.9</td>\n",
       "      <td>-174.660374</td>\n",
       "      <td>-65.818583</td>\n",
       "    </tr>\n",
       "    <tr>\n",
       "      <th>1</th>\n",
       "      <td>True</td>\n",
       "      <td>0.9</td>\n",
       "      <td>-173.832371</td>\n",
       "      <td>-66.438564</td>\n",
       "    </tr>\n",
       "    <tr>\n",
       "      <th>2</th>\n",
       "      <td>True</td>\n",
       "      <td>0.9</td>\n",
       "      <td>-174.483532</td>\n",
       "      <td>-65.812543</td>\n",
       "    </tr>\n",
       "    <tr>\n",
       "      <th>3</th>\n",
       "      <td>True</td>\n",
       "      <td>0.9</td>\n",
       "      <td>-175.957835</td>\n",
       "      <td>-65.430651</td>\n",
       "    </tr>\n",
       "    <tr>\n",
       "      <th>4</th>\n",
       "      <td>True</td>\n",
       "      <td>0.9</td>\n",
       "      <td>-176.239664</td>\n",
       "      <td>-66.071717</td>\n",
       "    </tr>\n",
       "    <tr>\n",
       "      <th>...</th>\n",
       "      <td>...</td>\n",
       "      <td>...</td>\n",
       "      <td>...</td>\n",
       "      <td>...</td>\n",
       "    </tr>\n",
       "    <tr>\n",
       "      <th>9995</th>\n",
       "      <td>True</td>\n",
       "      <td>0.9</td>\n",
       "      <td>-96.012832</td>\n",
       "      <td>23.023193</td>\n",
       "    </tr>\n",
       "    <tr>\n",
       "      <th>9996</th>\n",
       "      <td>True</td>\n",
       "      <td>0.9</td>\n",
       "      <td>-95.680858</td>\n",
       "      <td>22.224117</td>\n",
       "    </tr>\n",
       "    <tr>\n",
       "      <th>9997</th>\n",
       "      <td>True</td>\n",
       "      <td>0.9</td>\n",
       "      <td>-97.031436</td>\n",
       "      <td>21.701966</td>\n",
       "    </tr>\n",
       "    <tr>\n",
       "      <th>9998</th>\n",
       "      <td>True</td>\n",
       "      <td>0.9</td>\n",
       "      <td>-97.061944</td>\n",
       "      <td>21.653711</td>\n",
       "    </tr>\n",
       "    <tr>\n",
       "      <th>9999</th>\n",
       "      <td>True</td>\n",
       "      <td>0.9</td>\n",
       "      <td>-98.774752</td>\n",
       "      <td>21.663597</td>\n",
       "    </tr>\n",
       "  </tbody>\n",
       "</table>\n",
       "<p>10000 rows × 4 columns</p>\n",
       "</div>"
      ],
      "text/plain": [
       "      accepted  acceptance_prob           a          b\n",
       "0         True              0.9 -174.660374 -65.818583\n",
       "1         True              0.9 -173.832371 -66.438564\n",
       "2         True              0.9 -174.483532 -65.812543\n",
       "3         True              0.9 -175.957835 -65.430651\n",
       "4         True              0.9 -176.239664 -66.071717\n",
       "...        ...              ...         ...        ...\n",
       "9995      True              0.9  -96.012832  23.023193\n",
       "9996      True              0.9  -95.680858  22.224117\n",
       "9997      True              0.9  -97.031436  21.701966\n",
       "9998      True              0.9  -97.061944  21.653711\n",
       "9999      True              0.9  -98.774752  21.663597\n",
       "\n",
       "[10000 rows x 4 columns]"
      ]
     },
     "execution_count": 92,
     "metadata": {},
     "output_type": "execute_result"
    }
   ],
   "source": [
    "df"
   ]
  },
  {
   "cell_type": "code",
   "execution_count": 93,
   "id": "legendary-party",
   "metadata": {},
   "outputs": [
    {
     "data": {
      "text/plain": [
       "[<matplotlib.lines.Line2D at 0x22347e65490>]"
      ]
     },
     "execution_count": 93,
     "metadata": {},
     "output_type": "execute_result"
    },
    {
     "data": {
      "image/png": "[encoded data removed]",
      "text/plain": [
       "<Figure size 432x288 with 1 Axes>"
      ]
     },
     "metadata": {
      "needs_background": "light"
     },
     "output_type": "display_data"
    }
   ],
   "source": [
    "plt.plot(range(len(df)),df['a'])\n",
    "plt.plot(range(len(df)),df['b'])"
   ]
  },
  {
   "cell_type": "markdown",
   "id": "universal-remedy",
   "metadata": {},
   "source": [
    "Great! Basic example of MH working. Now need to implement the Bayesian formulation. in calc_acceptance_prob()."
   ]
  }
 ],
 "metadata": {
  "kernelspec": {
   "display_name": "Python 3",
   "language": "python",
   "name": "python3"
  },
  "language_info": {
   "codemirror_mode": {
    "name": "ipython",
    "version": 3
   },
   "file_extension": ".py",
   "mimetype": "text/x-python",
   "name": "python",
   "nbconvert_exporter": "python",
   "pygments_lexer": "ipython3",
   "version": "3.8.7"
  }
 },
 "nbformat": 4,
 "nbformat_minor": 5
}
